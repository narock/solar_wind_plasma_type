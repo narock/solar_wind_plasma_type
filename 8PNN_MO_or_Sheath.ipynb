{
 "cells": [
  {
   "cell_type": "code",
   "execution_count": 1,
   "metadata": {},
   "outputs": [
    {
     "name": "stderr",
     "output_type": "stream",
     "text": [
      "2024-06-19 13:54:05.585958: I tensorflow/core/platform/cpu_feature_guard.cc:182] This TensorFlow binary is optimized to use available CPU instructions in performance-critical operations.\n",
      "To enable the following instructions: AVX2 AVX512F FMA, in other operations, rebuild TensorFlow with the appropriate compiler flags.\n",
      "2024-06-19 13:54:08.876020: W tensorflow/compiler/tf2tensorrt/utils/py_utils.cc:38] TF-TRT Warning: Could not find TensorRT\n"
     ]
    }
   ],
   "source": [
    "import os\n",
    "import pywt\n",
    "import glob\n",
    "import random\n",
    "import datetime\n",
    "import numpy as np\n",
    "import pandas as pd\n",
    "import matplotlib.pyplot as plt\n",
    "\n",
    "import tensorflow as tf\n",
    "from tensorflow import keras\n",
    "from tensorflow.keras import layers\n",
    "import tensorflow_probability as tfp\n",
    "from tensorflow.keras.models import Sequential\n",
    "from tensorflow.keras.layers import Dense\n",
    "from tensorflow.keras.optimizers import Adam"
   ]
  },
  {
   "cell_type": "markdown",
   "metadata": {},
   "source": [
    "### Load data and preprocess"
   ]
  },
  {
   "cell_type": "code",
   "execution_count": 15,
   "metadata": {},
   "outputs": [],
   "source": [
    "xTrain = np.load(\"./xTrain.npy\")\n",
    "yTrain = np.load(\"./yTrain.npy\", allow_pickle=True)\n",
    "\n",
    "xTest = np.load(\"./xTest.npy\")\n",
    "yTest = np.load(\"./yTest.npy\", allow_pickle=True)"
   ]
  },
  {
   "cell_type": "code",
   "execution_count": 3,
   "metadata": {},
   "outputs": [],
   "source": [
    "# Columns are:\n",
    "#\n",
    "# 0 = 'Beta_p'\n",
    "# 1 = 'Va'\n",
    "# 2 = 'Tratio'\n",
    "# 3 = 'entropy'\n",
    "# 4 = 'crossHelicity'\n",
    "# 5 = 'residualEnergy'\n",
    "# 6 = 'TotalPressure'\n",
    "# 7 = 'bFluctuations'"
   ]
  },
  {
   "cell_type": "code",
   "execution_count": 16,
   "metadata": {},
   "outputs": [],
   "source": [
    "# keep just SH and MO\n",
    "ix = np.where( (yTest == 0) | (yTest == 4) )\n",
    "xTest = xTest[ix,:]\n",
    "yTest = yTest[ix]\n",
    "\n",
    "ix = np.where( (yTrain == 0) | (yTrain == 4) )\n",
    "xTrain = xTrain[ix,:]\n",
    "yTrain = yTrain[ix]\n",
    "\n",
    "xTrain = xTrain[0,:,:]\n",
    "xTest = xTest[0,:,:]\n",
    "\n",
    "ix = np.where( yTrain == 4 )\n",
    "yTrain[ix] = 1\n",
    "\n",
    "ix = np.where( yTest == 4 )\n",
    "yTest[ix] = 1"
   ]
  },
  {
   "cell_type": "code",
   "execution_count": 17,
   "metadata": {},
   "outputs": [
    {
     "data": {
      "text/plain": [
       "2"
      ]
     },
     "execution_count": 17,
     "metadata": {},
     "output_type": "execute_result"
    }
   ],
   "source": [
    "nClasses = len( np. unique( yTrain ) )\n",
    "nClasses"
   ]
  },
  {
   "cell_type": "code",
   "execution_count": 18,
   "metadata": {},
   "outputs": [],
   "source": [
    "y = tf.one_hot(yTrain,nClasses)"
   ]
  },
  {
   "cell_type": "markdown",
   "metadata": {},
   "source": [
    "### Neural Network"
   ]
  },
  {
   "cell_type": "code",
   "execution_count": 19,
   "metadata": {},
   "outputs": [],
   "source": [
    "from keras import backend as K \n",
    "\n",
    "# Keras keeps models hanging around in memory. If we retrain a model, Keras will\n",
    "# start from the previously concluded weight values. This resets everything.\n",
    "K.clear_session()"
   ]
  },
  {
   "cell_type": "code",
   "execution_count": 20,
   "metadata": {},
   "outputs": [],
   "source": [
    "def create_probablistic_bnn_model(rows,columns):\n",
    "    \n",
    "    inputs = tf.keras.layers.Input(shape=columns)\n",
    "    \n",
    "    hidden1 = tf.keras.layers.Dense(16, activation='relu')(inputs)    \n",
    "    hidden2 = tf.keras.layers.Dense(8, activation='relu')(hidden1)\n",
    "    \n",
    "    distribution_params = layers.Dense(nClasses)(hidden2)\n",
    "    outputs = tfp.layers.OneHotCategorical(1)(distribution_params)\n",
    "\n",
    "    model = keras.Model(inputs=inputs, outputs=outputs)\n",
    "    \n",
    "    return model"
   ]
  },
  {
   "cell_type": "code",
   "execution_count": 21,
   "metadata": {},
   "outputs": [],
   "source": [
    "def negative_loglikelihood(targets, estimated_distribution):\n",
    "    return -estimated_distribution.log_prob(targets)"
   ]
  },
  {
   "cell_type": "code",
   "execution_count": 22,
   "metadata": {},
   "outputs": [
    {
     "name": "stdout",
     "output_type": "stream",
     "text": [
      "Model: \"model\"\n",
      "_________________________________________________________________\n",
      " Layer (type)                Output Shape              Param #   \n",
      "=================================================================\n",
      " input_1 (InputLayer)        [(None, 8)]               0         \n",
      "                                                                 \n",
      " dense (Dense)               (None, 16)                144       \n",
      "                                                                 \n",
      " dense_1 (Dense)             (None, 8)                 136       \n",
      "                                                                 \n",
      " dense_2 (Dense)             (None, 2)                 18        \n",
      "                                                                 \n",
      " one_hot_categorical (OneHot  ((None, 2),              0         \n",
      " Categorical)                 (None, 2))                         \n",
      "                                                                 \n",
      "=================================================================\n",
      "Total params: 298\n",
      "Trainable params: 298\n",
      "Non-trainable params: 0\n",
      "_________________________________________________________________\n"
     ]
    }
   ],
   "source": [
    "bnn = create_probablistic_bnn_model(xTrain.shape[0],xTrain.shape[1])\n",
    "bnn.summary()"
   ]
  },
  {
   "cell_type": "code",
   "execution_count": 11,
   "metadata": {},
   "outputs": [],
   "source": [
    "bnn.compile( loss=negative_loglikelihood, metrics=['accuracy'] )"
   ]
  },
  {
   "cell_type": "code",
   "execution_count": null,
   "metadata": {
    "scrolled": true
   },
   "outputs": [
    {
     "name": "stdout",
     "output_type": "stream",
     "text": [
      "Epoch 1/200\n",
      "490/490 [==============================] - 30s 52ms/step - loss: 0.6557 - accuracy: 0.5261 - val_loss: 0.6014 - val_accuracy: 0.5584\n",
      "Epoch 2/200\n",
      "490/490 [==============================] - 24s 49ms/step - loss: 0.5442 - accuracy: 0.6015 - val_loss: 0.5059 - val_accuracy: 0.6389\n",
      "Epoch 3/200\n",
      "490/490 [==============================] - 25s 51ms/step - loss: 0.4941 - accuracy: 0.6585 - val_loss: 0.4817 - val_accuracy: 0.6857\n",
      "Epoch 4/200\n",
      "490/490 [==============================] - 24s 50ms/step - loss: 0.4805 - accuracy: 0.6873 - val_loss: 0.4742 - val_accuracy: 0.6880\n",
      "Epoch 5/200\n",
      "490/490 [==============================] - 25s 50ms/step - loss: 0.4756 - accuracy: 0.6843 - val_loss: 0.4769 - val_accuracy: 0.6931\n",
      "Epoch 6/200\n",
      "490/490 [==============================] - 25s 50ms/step - loss: 0.4723 - accuracy: 0.6879 - val_loss: 0.4650 - val_accuracy: 0.7066\n",
      "Epoch 7/200\n",
      "490/490 [==============================] - 37s 75ms/step - loss: 0.4696 - accuracy: 0.6909 - val_loss: 0.4602 - val_accuracy: 0.7051\n",
      "Epoch 8/200\n",
      "490/490 [==============================] - 25s 52ms/step - loss: 0.4674 - accuracy: 0.6962 - val_loss: 0.4686 - val_accuracy: 0.7036\n",
      "Epoch 9/200\n",
      "490/490 [==============================] - 33s 68ms/step - loss: 0.4651 - accuracy: 0.7022 - val_loss: 0.4690 - val_accuracy: 0.6990\n",
      "Epoch 10/200\n",
      "490/490 [==============================] - 27s 55ms/step - loss: 0.4632 - accuracy: 0.6958 - val_loss: 0.4525 - val_accuracy: 0.7148\n",
      "Epoch 11/200\n",
      "490/490 [==============================] - 27s 54ms/step - loss: 0.4616 - accuracy: 0.7072 - val_loss: 0.4542 - val_accuracy: 0.7087\n",
      "Epoch 12/200\n",
      "490/490 [==============================] - 24s 49ms/step - loss: 0.4597 - accuracy: 0.7009 - val_loss: 0.4499 - val_accuracy: 0.7056\n",
      "Epoch 13/200\n",
      "490/490 [==============================] - 24s 50ms/step - loss: 0.4586 - accuracy: 0.7050 - val_loss: 0.4456 - val_accuracy: 0.7125\n",
      "Epoch 14/200\n",
      "490/490 [==============================] - 24s 50ms/step - loss: 0.4569 - accuracy: 0.7043 - val_loss: 0.4470 - val_accuracy: 0.7053\n",
      "Epoch 15/200\n",
      "490/490 [==============================] - 24s 50ms/step - loss: 0.4559 - accuracy: 0.7056 - val_loss: 0.4463 - val_accuracy: 0.7158\n",
      "Epoch 16/200\n",
      "490/490 [==============================] - 24s 50ms/step - loss: 0.4546 - accuracy: 0.7096 - val_loss: 0.4495 - val_accuracy: 0.7069\n",
      "Epoch 17/200\n",
      "490/490 [==============================] - 24s 49ms/step - loss: 0.4546 - accuracy: 0.7070 - val_loss: 0.4409 - val_accuracy: 0.7102\n",
      "Epoch 18/200\n",
      "490/490 [==============================] - 24s 50ms/step - loss: 0.4536 - accuracy: 0.7033 - val_loss: 0.4433 - val_accuracy: 0.7105\n",
      "Epoch 19/200\n",
      "490/490 [==============================] - 24s 49ms/step - loss: 0.4529 - accuracy: 0.7075 - val_loss: 0.4445 - val_accuracy: 0.7092\n",
      "Epoch 20/200\n",
      "490/490 [==============================] - 36s 74ms/step - loss: 0.4517 - accuracy: 0.7071 - val_loss: 0.4399 - val_accuracy: 0.7186\n",
      "Epoch 21/200\n",
      "490/490 [==============================] - 37s 75ms/step - loss: 0.4516 - accuracy: 0.7059 - val_loss: 0.4404 - val_accuracy: 0.7007\n",
      "Epoch 22/200\n",
      " 64/490 [==>...........................] - ETA: 18s - loss: 0.4512 - accuracy: 0.7163"
     ]
    }
   ],
   "source": [
    "history = bnn.fit( xTrain, y, epochs=200, verbose=1, \n",
    "                  use_multiprocessing=True, validation_split=0.2)"
   ]
  },
  {
   "cell_type": "code",
   "execution_count": 42,
   "metadata": {},
   "outputs": [
    {
     "data": {
      "text/plain": [
       "<matplotlib.legend.Legend at 0x7ddc60488a30>"
      ]
     },
     "execution_count": 42,
     "metadata": {},
     "output_type": "execute_result"
    },
    {
     "data": {
      "image/png": "[encoded data removed]",
      "text/plain": [
       "<Figure size 432x288 with 1 Axes>"
      ]
     },
     "metadata": {
      "needs_background": "light"
     },
     "output_type": "display_data"
    }
   ],
   "source": [
    "plt.plot( history.history['accuracy'], label=\"Accuracy\")\n",
    "plt.plot( history.history['val_accuracy'], label=\"val_acc\")\n",
    "plt.title('Model Accuracy')\n",
    "plt.ylabel('Accuracy')\n",
    "plt.xlabel('Epoch')\n",
    "plt.legend()"
   ]
  },
  {
   "cell_type": "code",
   "execution_count": 43,
   "metadata": {},
   "outputs": [
    {
     "data": {
      "text/plain": [
       "<matplotlib.legend.Legend at 0x7ddc60372580>"
      ]
     },
     "execution_count": 43,
     "metadata": {},
     "output_type": "execute_result"
    },
    {
     "data": {
      "image/png": "[encoded data removed]",
      "text/plain": [
       "<Figure size 432x288 with 1 Axes>"
      ]
     },
     "metadata": {
      "needs_background": "light"
     },
     "output_type": "display_data"
    }
   ],
   "source": [
    "plt.plot( history.history['loss'], label=\"loss\")\n",
    "plt.plot( history.history['val_loss'], label=\"val_loss\")\n",
    "plt.title('Model Loss')\n",
    "plt.ylabel('Loss')\n",
    "plt.xlabel('Epoch')\n",
    "plt.legend()"
   ]
  },
  {
   "cell_type": "code",
   "execution_count": 44,
   "metadata": {},
   "outputs": [],
   "source": [
    "# serialize weights to HDF5\n",
    "bnn.save_weights(\"./model_weights_8PNN_binary.h5\")"
   ]
  },
  {
   "cell_type": "code",
   "execution_count": 45,
   "metadata": {},
   "outputs": [],
   "source": [
    "from scipy.stats import entropy\n",
    "\n",
    "preds = []\n",
    "p = bnn( xTest )\n",
    "en = bnn( xTest ).entropy()\n",
    "\n",
    "for i in range( p.shape[0] ):\n",
    "    preds.append( np.argmax(p[i,:]) )"
   ]
  },
  {
   "cell_type": "code",
   "execution_count": 57,
   "metadata": {},
   "outputs": [],
   "source": [
    "font = {'weight' : 'bold', 'size'   : 24}\n",
    "plt.rc('font', **font)"
   ]
  },
  {
   "cell_type": "code",
   "execution_count": 59,
   "metadata": {
    "scrolled": false
   },
   "outputs": [
    {
     "data": {
      "text/plain": [
       "<sklearn.metrics._plot.confusion_matrix.ConfusionMatrixDisplay at 0x7ddbe61c82e0>"
      ]
     },
     "execution_count": 59,
     "metadata": {},
     "output_type": "execute_result"
    },
    {
     "data": {
      "image/png": "[encoded data removed]",
      "text/plain": [
       "<Figure size 576x576 with 2 Axes>"
      ]
     },
     "metadata": {
      "needs_background": "light"
     },
     "output_type": "display_data"
    }
   ],
   "source": [
    "from sklearn.metrics import confusion_matrix, ConfusionMatrixDisplay\n",
    "\n",
    "fig, ax = plt.subplots(figsize=(8, 8))\n",
    "\n",
    "cm = confusion_matrix( yTest.astype(int), preds, normalize='true' )\n",
    "disp = ConfusionMatrixDisplay( confusion_matrix=cm )\n",
    "disp.plot(ax=ax, cmap='gist_yarg')"
   ]
  },
  {
   "cell_type": "code",
   "execution_count": 60,
   "metadata": {},
   "outputs": [
    {
     "name": "stdout",
     "output_type": "stream",
     "text": [
      "Macro F1: 0.7701\n",
      "Macro Precision: 0.7755\n",
      "Macro Recall: 0.7706\n",
      "Accuracy: 0.7713\n"
     ]
    }
   ],
   "source": [
    "from sklearn.metrics import f1_score\n",
    "from sklearn.metrics import recall_score\n",
    "from sklearn.metrics import precision_score\n",
    "from sklearn.metrics import accuracy_score\n",
    "\n",
    "yTest = yTest.astype(int)\n",
    "\n",
    "print( \"Macro F1:\", np.round( f1_score(yTest, preds, average='macro'), 4 ))\n",
    "print( \"Macro Precision:\", np.round( precision_score(yTest, preds, average='macro'), 4 ))\n",
    "print( \"Macro Recall:\", np.round( recall_score(yTest, preds, average='macro'), 4 ))\n",
    "print( \"Accuracy:\", np.round( accuracy_score(yTest, preds), 4 ))"
   ]
  },
  {
   "cell_type": "markdown",
   "metadata": {},
   "source": [
    "### If model is already trained - Load Saved Model"
   ]
  },
  {
   "cell_type": "code",
   "execution_count": 23,
   "metadata": {},
   "outputs": [],
   "source": [
    "from keras import backend as K \n",
    "\n",
    "# Keras keeps models hanging around in memory. If we retrain a model, Keras will\n",
    "# start from the previously concluded weight values. This resets everything.\n",
    "K.clear_session()\n",
    "\n",
    "bnn = create_probablistic_bnn_model( xTest.shape[0], xTest.shape[1] )\n",
    " \n",
    "# load weights into new model\n",
    "bnn.load_weights(\"./model_weights_8PNN_binary.h5\")"
   ]
  },
  {
   "cell_type": "code",
   "execution_count": 24,
   "metadata": {},
   "outputs": [],
   "source": [
    "from scipy.stats import entropy\n",
    "\n",
    "preds = []\n",
    "p = bnn( xTest )\n",
    "en = bnn( xTest ).entropy()\n",
    "\n",
    "for i in range( p.shape[0] ):\n",
    "    preds.append( np.argmax(p[i,:]) )"
   ]
  }
 ],
 "metadata": {
  "kernelspec": {
   "display_name": "Python 3 (ipykernel)",
   "language": "python",
   "name": "python3"
  },
  "language_info": {
   "codemirror_mode": {
    "name": "ipython",
    "version": 3
   },
   "file_extension": ".py",
   "mimetype": "text/x-python",
   "name": "python",
   "nbconvert_exporter": "python",
   "pygments_lexer": "ipython3",
   "version": "3.9.13"
  }
 },
 "nbformat": 4,
 "nbformat_minor": 2
}
