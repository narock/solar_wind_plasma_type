{
 "cells": [
  {
   "cell_type": "code",
   "execution_count": 1,
   "metadata": {},
   "outputs": [
    {
     "name": "stderr",
     "output_type": "stream",
     "text": [
      "2024-07-04 08:17:41.489180: I tensorflow/core/platform/cpu_feature_guard.cc:182] This TensorFlow binary is optimized to use available CPU instructions in performance-critical operations.\n",
      "To enable the following instructions: AVX2 AVX512F FMA, in other operations, rebuild TensorFlow with the appropriate compiler flags.\n",
      "2024-07-04 08:17:44.797237: W tensorflow/compiler/tf2tensorrt/utils/py_utils.cc:38] TF-TRT Warning: Could not find TensorRT\n"
     ]
    }
   ],
   "source": [
    "import os\n",
    "import pywt\n",
    "import glob\n",
    "import random\n",
    "import datetime\n",
    "import numpy as np\n",
    "import pandas as pd\n",
    "from scipy.stats import entropy\n",
    "import matplotlib.pyplot as plt\n",
    "\n",
    "import tensorflow as tf\n",
    "from tensorflow import keras\n",
    "from tensorflow.keras import layers\n",
    "import tensorflow_probability as tfp\n",
    "from tensorflow.keras.models import Sequential\n",
    "from tensorflow.keras.layers import Dense\n",
    "from tensorflow.keras.optimizers import Adam"
   ]
  },
  {
   "cell_type": "markdown",
   "metadata": {},
   "source": [
    "### Load data and preprocess"
   ]
  },
  {
   "cell_type": "code",
   "execution_count": 2,
   "metadata": {},
   "outputs": [],
   "source": [
    "xTrain = np.load(\"./xTrain.npy\")\n",
    "yTrain = np.load(\"./yTrain.npy\", allow_pickle=True)\n",
    "\n",
    "xTest = np.load(\"./xTest.npy\")\n",
    "yTest = np.load(\"./yTest.npy\", allow_pickle=True)"
   ]
  },
  {
   "cell_type": "code",
   "execution_count": 3,
   "metadata": {},
   "outputs": [],
   "source": [
    "# Columns are:\n",
    "#\n",
    "# 0 = 'Beta_p'\n",
    "# 1 = 'Va'\n",
    "# 2 = 'Tratio'\n",
    "# 3 = 'entropy'\n",
    "# 4 = 'crossHelicity'\n",
    "# 5 = 'residualEnergy'\n",
    "# 6 = 'TotalPressure'\n",
    "# 7 = 'bFluctuations'"
   ]
  },
  {
   "cell_type": "code",
   "execution_count": 3,
   "metadata": {},
   "outputs": [],
   "source": [
    "remove = [0,4,5,6,7]\n",
    "xTrain = np.delete(xTrain, remove, 1) \n",
    "xTest = np.delete(xTest, remove, 1) "
   ]
  },
  {
   "cell_type": "code",
   "execution_count": 4,
   "metadata": {},
   "outputs": [
    {
     "data": {
      "text/plain": [
       "(49096, 3)"
      ]
     },
     "execution_count": 4,
     "metadata": {},
     "output_type": "execute_result"
    }
   ],
   "source": [
    "xTrain.shape"
   ]
  },
  {
   "cell_type": "code",
   "execution_count": 5,
   "metadata": {},
   "outputs": [
    {
     "data": {
      "text/plain": [
       "5"
      ]
     },
     "execution_count": 5,
     "metadata": {},
     "output_type": "execute_result"
    }
   ],
   "source": [
    "nClasses = len( np. unique( yTrain ) )\n",
    "nClasses"
   ]
  },
  {
   "cell_type": "code",
   "execution_count": 6,
   "metadata": {},
   "outputs": [
    {
     "name": "stderr",
     "output_type": "stream",
     "text": [
      "2024-07-04 08:18:00.499815: I tensorflow/core/common_runtime/gpu/gpu_device.cc:1635] Created device /job:localhost/replica:0/task:0/device:GPU:0 with 45 MB memory:  -> device: 0, name: NVIDIA GeForce GTX TITAN Black, pci bus id: 0000:65:00.0, compute capability: 3.5\n"
     ]
    }
   ],
   "source": [
    "y = tf.one_hot(yTrain,nClasses)"
   ]
  },
  {
   "cell_type": "markdown",
   "metadata": {},
   "source": [
    "### Neural Network"
   ]
  },
  {
   "cell_type": "code",
   "execution_count": 7,
   "metadata": {},
   "outputs": [],
   "source": [
    "from keras import backend as K \n",
    "\n",
    "# Keras keeps models hanging around in memory. If we retrain a model, Keras will\n",
    "# start from the previously concluded weight values. This resets everything.\n",
    "K.clear_session()"
   ]
  },
  {
   "cell_type": "code",
   "execution_count": 7,
   "metadata": {},
   "outputs": [],
   "source": [
    "def create_probablistic_bnn_model(rows,columns):\n",
    "    \n",
    "    inputs = tf.keras.layers.Input(shape=columns)\n",
    "    \n",
    "    hidden1 = tf.keras.layers.Dense(16, activation='relu')(inputs)\n",
    "    hidden2 = tf.keras.layers.Dense(8, activation='relu')(hidden1)\n",
    "\n",
    "    distribution_params = layers.Dense(nClasses)(hidden2)\n",
    "    outputs = tfp.layers.OneHotCategorical(1)(distribution_params)\n",
    "\n",
    "    model = keras.Model(inputs=inputs, outputs=outputs)\n",
    "    \n",
    "    return model"
   ]
  },
  {
   "cell_type": "code",
   "execution_count": 8,
   "metadata": {},
   "outputs": [],
   "source": [
    "def negative_loglikelihood(targets, estimated_distribution):\n",
    "    return -estimated_distribution.log_prob(targets)"
   ]
  },
  {
   "cell_type": "code",
   "execution_count": 10,
   "metadata": {},
   "outputs": [
    {
     "name": "stdout",
     "output_type": "stream",
     "text": [
      "Model: \"model\"\n",
      "_________________________________________________________________\n",
      " Layer (type)                Output Shape              Param #   \n",
      "=================================================================\n",
      " input_1 (InputLayer)        [(None, 3)]               0         \n",
      "                                                                 \n",
      " dense (Dense)               (None, 16)                64        \n",
      "                                                                 \n",
      " dense_1 (Dense)             (None, 8)                 136       \n",
      "                                                                 \n",
      " dense_2 (Dense)             (None, 5)                 45        \n",
      "                                                                 \n",
      " one_hot_categorical (OneHot  ((None, 5),              0         \n",
      " Categorical)                 (None, 5))                         \n",
      "                                                                 \n",
      "=================================================================\n",
      "Total params: 245\n",
      "Trainable params: 245\n",
      "Non-trainable params: 0\n",
      "_________________________________________________________________\n"
     ]
    }
   ],
   "source": [
    "bnn = create_probablistic_bnn_model(xTrain.shape[0],xTrain.shape[1])\n",
    "bnn.summary()"
   ]
  },
  {
   "cell_type": "code",
   "execution_count": 11,
   "metadata": {},
   "outputs": [],
   "source": [
    "bnn.compile( loss=negative_loglikelihood, metrics=['accuracy'] )"
   ]
  },
  {
   "cell_type": "code",
   "execution_count": 12,
   "metadata": {
    "scrolled": true
   },
   "outputs": [
    {
     "name": "stdout",
     "output_type": "stream",
     "text": [
      "Epoch 1/200\n"
     ]
    },
    {
     "name": "stderr",
     "output_type": "stream",
     "text": [
      "2024-06-18 18:46:17.612810: I tensorflow/compiler/xla/service/service.cc:169] XLA service 0x7d05a800e730 initialized for platform CUDA (this does not guarantee that XLA will be used). Devices:\n",
      "2024-06-18 18:46:17.612878: I tensorflow/compiler/xla/service/service.cc:177]   StreamExecutor device (0): NVIDIA GeForce GTX TITAN Black, Compute Capability 3.5\n",
      "2024-06-18 18:46:17.699134: I tensorflow/compiler/mlir/tensorflow/utils/dump_mlir_util.cc:269] disabling MLIR crash reproducer, set env var `MLIR_CRASH_REPRODUCER_DIRECTORY` to enable.\n",
      "2024-06-18 18:46:19.409761: I tensorflow/compiler/xla/stream_executor/cuda/cuda_dnn.cc:424] Loaded cuDNN version 8600\n",
      "2024-06-18 18:46:19.706155: I tensorflow/tsl/platform/default/subprocess.cc:304] Start cannot spawn child process: No such file or directory\n",
      "2024-06-18 18:46:20.317380: I ./tensorflow/compiler/jit/device_compiler.h:180] Compiled cluster using XLA!  This line is logged at most once for the lifetime of the process.\n"
     ]
    },
    {
     "name": "stdout",
     "output_type": "stream",
     "text": [
      "1228/1228 [==============================] - 73s 51ms/step - loss: 1.4784 - accuracy: 0.2356 - val_loss: 1.3158 - val_accuracy: 0.2868\n",
      "Epoch 2/200\n",
      "1228/1228 [==============================] - 60s 48ms/step - loss: 1.2106 - accuracy: 0.3382 - val_loss: 1.1311 - val_accuracy: 0.3788\n",
      "Epoch 3/200\n",
      "1228/1228 [==============================] - 60s 49ms/step - loss: 1.0464 - accuracy: 0.4155 - val_loss: 0.9903 - val_accuracy: 0.4489\n",
      "Epoch 4/200\n",
      "1228/1228 [==============================] - 59s 48ms/step - loss: 0.9516 - accuracy: 0.4712 - val_loss: 0.9228 - val_accuracy: 0.4888\n",
      "Epoch 5/200\n",
      "1228/1228 [==============================] - 61s 49ms/step - loss: 0.8995 - accuracy: 0.4943 - val_loss: 0.8800 - val_accuracy: 0.4974\n",
      "Epoch 6/200\n",
      "1228/1228 [==============================] - 60s 49ms/step - loss: 0.8610 - accuracy: 0.5162 - val_loss: 0.8568 - val_accuracy: 0.5254\n",
      "Epoch 7/200\n",
      "1228/1228 [==============================] - 60s 49ms/step - loss: 0.8311 - accuracy: 0.5303 - val_loss: 0.8206 - val_accuracy: 0.5406\n",
      "Epoch 8/200\n",
      "1228/1228 [==============================] - 61s 50ms/step - loss: 0.8108 - accuracy: 0.5458 - val_loss: 0.8024 - val_accuracy: 0.5456\n",
      "Epoch 9/200\n",
      "1228/1228 [==============================] - 62s 50ms/step - loss: 0.7978 - accuracy: 0.5546 - val_loss: 0.7958 - val_accuracy: 0.5517\n",
      "Epoch 10/200\n",
      "1228/1228 [==============================] - 62s 51ms/step - loss: 0.7884 - accuracy: 0.5579 - val_loss: 0.7846 - val_accuracy: 0.5549\n",
      "Epoch 11/200\n",
      "1228/1228 [==============================] - 62s 51ms/step - loss: 0.7820 - accuracy: 0.5634 - val_loss: 0.7792 - val_accuracy: 0.5634\n",
      "Epoch 12/200\n",
      "1228/1228 [==============================] - 62s 50ms/step - loss: 0.7766 - accuracy: 0.5684 - val_loss: 0.7737 - val_accuracy: 0.5621\n",
      "Epoch 13/200\n",
      "1228/1228 [==============================] - 62s 51ms/step - loss: 0.7720 - accuracy: 0.5719 - val_loss: 0.7678 - val_accuracy: 0.5685\n",
      "Epoch 14/200\n",
      "1228/1228 [==============================] - 55s 44ms/step - loss: 0.7677 - accuracy: 0.5762 - val_loss: 0.7646 - val_accuracy: 0.5720\n",
      "Epoch 15/200\n",
      "1228/1228 [==============================] - 49s 40ms/step - loss: 0.7648 - accuracy: 0.5789 - val_loss: 0.7598 - val_accuracy: 0.5729\n",
      "Epoch 16/200\n",
      "1228/1228 [==============================] - 56s 46ms/step - loss: 0.7617 - accuracy: 0.5778 - val_loss: 0.7587 - val_accuracy: 0.5672\n",
      "Epoch 17/200\n",
      "1228/1228 [==============================] - 62s 51ms/step - loss: 0.7597 - accuracy: 0.5806 - val_loss: 0.7556 - val_accuracy: 0.5844\n",
      "Epoch 18/200\n",
      "1228/1228 [==============================] - 62s 51ms/step - loss: 0.7568 - accuracy: 0.5815 - val_loss: 0.7616 - val_accuracy: 0.5706\n",
      "Epoch 19/200\n",
      "1228/1228 [==============================] - 62s 51ms/step - loss: 0.7546 - accuracy: 0.5829 - val_loss: 0.7510 - val_accuracy: 0.5745\n",
      "Epoch 20/200\n",
      "1228/1228 [==============================] - 61s 50ms/step - loss: 0.7522 - accuracy: 0.5869 - val_loss: 0.7497 - val_accuracy: 0.5810\n",
      "Epoch 21/200\n",
      "1228/1228 [==============================] - 62s 51ms/step - loss: 0.7500 - accuracy: 0.5840 - val_loss: 0.7456 - val_accuracy: 0.5786\n",
      "Epoch 22/200\n",
      "1228/1228 [==============================] - 61s 50ms/step - loss: 0.7472 - accuracy: 0.5881 - val_loss: 0.7441 - val_accuracy: 0.5752\n",
      "Epoch 23/200\n",
      "1228/1228 [==============================] - 62s 50ms/step - loss: 0.7448 - accuracy: 0.5835 - val_loss: 0.7401 - val_accuracy: 0.5832\n",
      "Epoch 24/200\n",
      "1228/1228 [==============================] - 62s 50ms/step - loss: 0.7428 - accuracy: 0.5888 - val_loss: 0.7388 - val_accuracy: 0.5921\n",
      "Epoch 25/200\n",
      "1228/1228 [==============================] - 62s 51ms/step - loss: 0.7412 - accuracy: 0.5920 - val_loss: 0.7498 - val_accuracy: 0.5815\n",
      "Epoch 26/200\n",
      "1228/1228 [==============================] - 62s 50ms/step - loss: 0.7384 - accuracy: 0.5891 - val_loss: 0.7407 - val_accuracy: 0.5826\n",
      "Epoch 27/200\n",
      "1228/1228 [==============================] - 61s 50ms/step - loss: 0.7371 - accuracy: 0.5927 - val_loss: 0.7373 - val_accuracy: 0.5815\n",
      "Epoch 28/200\n",
      "1228/1228 [==============================] - 62s 50ms/step - loss: 0.7355 - accuracy: 0.5897 - val_loss: 0.7325 - val_accuracy: 0.5880\n",
      "Epoch 29/200\n",
      "1228/1228 [==============================] - 62s 50ms/step - loss: 0.7338 - accuracy: 0.5907 - val_loss: 0.7300 - val_accuracy: 0.5868\n",
      "Epoch 30/200\n",
      "1228/1228 [==============================] - 62s 50ms/step - loss: 0.7324 - accuracy: 0.5941 - val_loss: 0.7305 - val_accuracy: 0.5876\n",
      "Epoch 31/200\n",
      "1228/1228 [==============================] - 61s 50ms/step - loss: 0.7305 - accuracy: 0.5941 - val_loss: 0.7342 - val_accuracy: 0.5990\n",
      "Epoch 32/200\n",
      "1228/1228 [==============================] - 62s 51ms/step - loss: 0.7294 - accuracy: 0.5978 - val_loss: 0.7284 - val_accuracy: 0.5882\n",
      "Epoch 33/200\n",
      "1228/1228 [==============================] - 62s 50ms/step - loss: 0.7280 - accuracy: 0.5942 - val_loss: 0.7256 - val_accuracy: 0.5968\n",
      "Epoch 34/200\n",
      "1228/1228 [==============================] - 62s 50ms/step - loss: 0.7259 - accuracy: 0.6001 - val_loss: 0.7394 - val_accuracy: 0.5999\n",
      "Epoch 35/200\n",
      "1228/1228 [==============================] - 62s 51ms/step - loss: 0.7250 - accuracy: 0.5988 - val_loss: 0.7219 - val_accuracy: 0.5970\n",
      "Epoch 36/200\n",
      "1228/1228 [==============================] - 62s 50ms/step - loss: 0.7232 - accuracy: 0.5990 - val_loss: 0.7243 - val_accuracy: 0.6011\n",
      "Epoch 37/200\n",
      "1228/1228 [==============================] - 62s 51ms/step - loss: 0.7219 - accuracy: 0.5973 - val_loss: 0.7276 - val_accuracy: 0.5867\n",
      "Epoch 38/200\n",
      "1228/1228 [==============================] - 61s 50ms/step - loss: 0.7198 - accuracy: 0.5978 - val_loss: 0.7200 - val_accuracy: 0.5981\n",
      "Epoch 39/200\n",
      "1228/1228 [==============================] - 61s 50ms/step - loss: 0.7177 - accuracy: 0.6022 - val_loss: 0.7205 - val_accuracy: 0.6066\n",
      "Epoch 40/200\n",
      "1228/1228 [==============================] - 61s 50ms/step - loss: 0.7155 - accuracy: 0.6005 - val_loss: 0.7144 - val_accuracy: 0.5953\n",
      "Epoch 41/200\n",
      "1228/1228 [==============================] - 62s 50ms/step - loss: 0.7130 - accuracy: 0.6028 - val_loss: 0.7188 - val_accuracy: 0.6080\n",
      "Epoch 42/200\n",
      "1228/1228 [==============================] - 62s 50ms/step - loss: 0.7112 - accuracy: 0.6013 - val_loss: 0.7225 - val_accuracy: 0.5928\n",
      "Epoch 43/200\n",
      "1228/1228 [==============================] - 61s 50ms/step - loss: 0.7087 - accuracy: 0.6032 - val_loss: 0.7104 - val_accuracy: 0.5990\n",
      "Epoch 44/200\n",
      "1228/1228 [==============================] - 62s 50ms/step - loss: 0.7063 - accuracy: 0.6059 - val_loss: 0.7111 - val_accuracy: 0.5900\n",
      "Epoch 45/200\n",
      "1228/1228 [==============================] - 61s 50ms/step - loss: 0.7045 - accuracy: 0.6011 - val_loss: 0.7143 - val_accuracy: 0.5925\n",
      "Epoch 46/200\n",
      "1228/1228 [==============================] - 62s 51ms/step - loss: 0.7016 - accuracy: 0.6067 - val_loss: 0.7134 - val_accuracy: 0.6015\n",
      "Epoch 47/200\n",
      "1228/1228 [==============================] - 62s 50ms/step - loss: 0.6995 - accuracy: 0.6058 - val_loss: 0.7139 - val_accuracy: 0.5891\n",
      "Epoch 48/200\n",
      "1228/1228 [==============================] - 62s 50ms/step - loss: 0.6974 - accuracy: 0.6085 - val_loss: 0.7136 - val_accuracy: 0.6115\n",
      "Epoch 49/200\n",
      "1228/1228 [==============================] - 62s 50ms/step - loss: 0.6958 - accuracy: 0.6101 - val_loss: 0.7045 - val_accuracy: 0.5937\n",
      "Epoch 50/200\n",
      "1228/1228 [==============================] - 61s 50ms/step - loss: 0.6940 - accuracy: 0.6074 - val_loss: 0.6948 - val_accuracy: 0.6036\n",
      "Epoch 51/200\n",
      "1228/1228 [==============================] - 61s 50ms/step - loss: 0.6925 - accuracy: 0.6080 - val_loss: 0.6928 - val_accuracy: 0.6157\n",
      "Epoch 52/200\n",
      "1228/1228 [==============================] - 62s 50ms/step - loss: 0.6908 - accuracy: 0.6131 - val_loss: 0.6962 - val_accuracy: 0.6129\n",
      "Epoch 53/200\n",
      "1228/1228 [==============================] - 61s 50ms/step - loss: 0.6882 - accuracy: 0.6092 - val_loss: 0.6950 - val_accuracy: 0.6192\n",
      "Epoch 54/200\n",
      "1228/1228 [==============================] - 62s 51ms/step - loss: 0.6871 - accuracy: 0.6106 - val_loss: 0.6962 - val_accuracy: 0.6176\n",
      "Epoch 55/200\n",
      "1228/1228 [==============================] - 62s 51ms/step - loss: 0.6855 - accuracy: 0.6141 - val_loss: 0.6895 - val_accuracy: 0.6090\n",
      "Epoch 56/200\n",
      "1228/1228 [==============================] - 62s 50ms/step - loss: 0.6842 - accuracy: 0.6166 - val_loss: 0.6855 - val_accuracy: 0.6109\n",
      "Epoch 57/200\n",
      "1228/1228 [==============================] - 61s 50ms/step - loss: 0.6836 - accuracy: 0.6126 - val_loss: 0.6822 - val_accuracy: 0.6147\n",
      "Epoch 58/200\n",
      "1228/1228 [==============================] - 62s 51ms/step - loss: 0.6817 - accuracy: 0.6131 - val_loss: 0.6808 - val_accuracy: 0.6141\n",
      "Epoch 59/200\n",
      "1228/1228 [==============================] - 61s 50ms/step - loss: 0.6792 - accuracy: 0.6116 - val_loss: 0.7046 - val_accuracy: 0.6053\n",
      "Epoch 60/200\n",
      "1228/1228 [==============================] - 61s 50ms/step - loss: 0.6793 - accuracy: 0.6136 - val_loss: 0.6969 - val_accuracy: 0.6101\n",
      "Epoch 61/200\n",
      "1228/1228 [==============================] - 61s 50ms/step - loss: 0.6783 - accuracy: 0.6128 - val_loss: 0.6771 - val_accuracy: 0.6107\n",
      "Epoch 62/200\n",
      "1228/1228 [==============================] - 62s 51ms/step - loss: 0.6769 - accuracy: 0.6152 - val_loss: 0.6766 - val_accuracy: 0.6137\n",
      "Epoch 63/200\n",
      "1228/1228 [==============================] - 62s 50ms/step - loss: 0.6761 - accuracy: 0.6127 - val_loss: 0.6764 - val_accuracy: 0.6160\n",
      "Epoch 64/200\n",
      "1228/1228 [==============================] - 62s 50ms/step - loss: 0.6746 - accuracy: 0.6146 - val_loss: 0.6807 - val_accuracy: 0.6177\n",
      "Epoch 65/200\n",
      "1228/1228 [==============================] - 62s 51ms/step - loss: 0.6739 - accuracy: 0.6165 - val_loss: 0.6737 - val_accuracy: 0.6125\n",
      "Epoch 66/200\n",
      "1228/1228 [==============================] - 61s 50ms/step - loss: 0.6729 - accuracy: 0.6154 - val_loss: 0.6887 - val_accuracy: 0.6048\n",
      "Epoch 67/200\n",
      "1228/1228 [==============================] - 61s 50ms/step - loss: 0.6725 - accuracy: 0.6167 - val_loss: 0.6721 - val_accuracy: 0.6103\n",
      "Epoch 68/200\n",
      "1228/1228 [==============================] - 62s 50ms/step - loss: 0.6714 - accuracy: 0.6180 - val_loss: 0.6723 - val_accuracy: 0.6099\n",
      "Epoch 69/200\n",
      "1228/1228 [==============================] - 61s 50ms/step - loss: 0.6706 - accuracy: 0.6183 - val_loss: 0.6762 - val_accuracy: 0.6052\n",
      "Epoch 70/200\n",
      "1228/1228 [==============================] - 62s 50ms/step - loss: 0.6703 - accuracy: 0.6183 - val_loss: 0.6711 - val_accuracy: 0.6068\n",
      "Epoch 71/200\n",
      "1228/1228 [==============================] - 61s 50ms/step - loss: 0.6689 - accuracy: 0.6180 - val_loss: 0.6693 - val_accuracy: 0.6160\n",
      "Epoch 72/200\n",
      "1228/1228 [==============================] - 62s 51ms/step - loss: 0.6687 - accuracy: 0.6182 - val_loss: 0.6706 - val_accuracy: 0.6241\n",
      "Epoch 73/200\n",
      "1228/1228 [==============================] - 61s 50ms/step - loss: 0.6683 - accuracy: 0.6167 - val_loss: 0.6691 - val_accuracy: 0.6156\n",
      "Epoch 74/200\n",
      "1228/1228 [==============================] - 61s 50ms/step - loss: 0.6675 - accuracy: 0.6154 - val_loss: 0.6747 - val_accuracy: 0.6151\n",
      "Epoch 75/200\n",
      "1228/1228 [==============================] - 62s 51ms/step - loss: 0.6670 - accuracy: 0.6199 - val_loss: 0.6790 - val_accuracy: 0.6255\n",
      "Epoch 76/200\n",
      "1228/1228 [==============================] - 62s 51ms/step - loss: 0.6664 - accuracy: 0.6179 - val_loss: 0.6721 - val_accuracy: 0.6152\n",
      "Epoch 77/200\n",
      "1228/1228 [==============================] - 62s 51ms/step - loss: 0.6659 - accuracy: 0.6183 - val_loss: 0.6669 - val_accuracy: 0.6226\n",
      "Epoch 78/200\n",
      "1228/1228 [==============================] - 62s 51ms/step - loss: 0.6655 - accuracy: 0.6194 - val_loss: 0.6875 - val_accuracy: 0.6183\n",
      "Epoch 79/200\n",
      "1228/1228 [==============================] - 61s 50ms/step - loss: 0.6648 - accuracy: 0.6208 - val_loss: 0.6777 - val_accuracy: 0.6261\n",
      "Epoch 80/200\n",
      "1228/1228 [==============================] - 62s 51ms/step - loss: 0.6650 - accuracy: 0.6216 - val_loss: 0.6673 - val_accuracy: 0.6112\n",
      "Epoch 81/200\n",
      "1228/1228 [==============================] - 61s 50ms/step - loss: 0.6639 - accuracy: 0.6228 - val_loss: 0.6835 - val_accuracy: 0.6202\n",
      "Epoch 82/200\n",
      "1228/1228 [==============================] - 62s 50ms/step - loss: 0.6646 - accuracy: 0.6192 - val_loss: 0.6668 - val_accuracy: 0.6212\n",
      "Epoch 83/200\n",
      "1228/1228 [==============================] - 62s 51ms/step - loss: 0.6633 - accuracy: 0.6238 - val_loss: 0.6681 - val_accuracy: 0.6173\n",
      "Epoch 84/200\n",
      "1228/1228 [==============================] - 61s 50ms/step - loss: 0.6631 - accuracy: 0.6233 - val_loss: 0.6724 - val_accuracy: 0.6143\n",
      "Epoch 85/200\n",
      "1228/1228 [==============================] - 62s 51ms/step - loss: 0.6625 - accuracy: 0.6208 - val_loss: 0.6644 - val_accuracy: 0.6240\n",
      "Epoch 86/200\n",
      "1228/1228 [==============================] - 62s 50ms/step - loss: 0.6628 - accuracy: 0.6253 - val_loss: 0.6651 - val_accuracy: 0.6031\n",
      "Epoch 87/200\n",
      "1228/1228 [==============================] - 62s 50ms/step - loss: 0.6619 - accuracy: 0.6226 - val_loss: 0.6637 - val_accuracy: 0.6110\n",
      "Epoch 88/200\n",
      "1228/1228 [==============================] - 62s 51ms/step - loss: 0.6614 - accuracy: 0.6243 - val_loss: 0.6755 - val_accuracy: 0.6357\n",
      "Epoch 89/200\n",
      "1228/1228 [==============================] - 62s 50ms/step - loss: 0.6614 - accuracy: 0.6234 - val_loss: 0.6634 - val_accuracy: 0.6222\n",
      "Epoch 90/200\n",
      "1228/1228 [==============================] - 61s 50ms/step - loss: 0.6617 - accuracy: 0.6242 - val_loss: 0.6644 - val_accuracy: 0.6221\n",
      "Epoch 91/200\n",
      "1228/1228 [==============================] - 62s 51ms/step - loss: 0.6608 - accuracy: 0.6220 - val_loss: 0.6599 - val_accuracy: 0.6196\n",
      "Epoch 92/200\n",
      "1228/1228 [==============================] - 61s 50ms/step - loss: 0.6603 - accuracy: 0.6261 - val_loss: 0.6752 - val_accuracy: 0.6119\n",
      "Epoch 93/200\n",
      "1228/1228 [==============================] - 62s 51ms/step - loss: 0.6606 - accuracy: 0.6244 - val_loss: 0.6873 - val_accuracy: 0.6328\n",
      "Epoch 94/200\n",
      "1228/1228 [==============================] - 62s 50ms/step - loss: 0.6604 - accuracy: 0.6220 - val_loss: 0.6643 - val_accuracy: 0.6319\n",
      "Epoch 95/200\n",
      "1228/1228 [==============================] - 63s 51ms/step - loss: 0.6603 - accuracy: 0.6222 - val_loss: 0.6627 - val_accuracy: 0.6205\n",
      "Epoch 96/200\n",
      "1228/1228 [==============================] - 62s 50ms/step - loss: 0.6597 - accuracy: 0.6242 - val_loss: 0.6624 - val_accuracy: 0.6262\n",
      "Epoch 97/200\n",
      "1228/1228 [==============================] - 62s 51ms/step - loss: 0.6595 - accuracy: 0.6240 - val_loss: 0.6675 - val_accuracy: 0.6224\n",
      "Epoch 98/200\n",
      "1228/1228 [==============================] - 62s 50ms/step - loss: 0.6593 - accuracy: 0.6255 - val_loss: 0.6614 - val_accuracy: 0.6245\n",
      "Epoch 99/200\n",
      "1228/1228 [==============================] - 62s 51ms/step - loss: 0.6593 - accuracy: 0.6235 - val_loss: 0.6640 - val_accuracy: 0.6251\n",
      "Epoch 100/200\n",
      "1228/1228 [==============================] - 62s 51ms/step - loss: 0.6594 - accuracy: 0.6264 - val_loss: 0.6712 - val_accuracy: 0.6120\n",
      "Epoch 101/200\n",
      "1228/1228 [==============================] - 61s 50ms/step - loss: 0.6592 - accuracy: 0.6288 - val_loss: 0.6597 - val_accuracy: 0.6299\n",
      "Epoch 102/200\n",
      "1228/1228 [==============================] - 61s 49ms/step - loss: 0.6586 - accuracy: 0.6213 - val_loss: 0.6605 - val_accuracy: 0.6223\n",
      "Epoch 103/200\n",
      "1228/1228 [==============================] - 61s 50ms/step - loss: 0.6586 - accuracy: 0.6225 - val_loss: 0.6661 - val_accuracy: 0.6202\n",
      "Epoch 104/200\n",
      "1228/1228 [==============================] - 61s 50ms/step - loss: 0.6583 - accuracy: 0.6251 - val_loss: 0.6599 - val_accuracy: 0.6269\n",
      "Epoch 105/200\n",
      "1228/1228 [==============================] - 62s 50ms/step - loss: 0.6579 - accuracy: 0.6196 - val_loss: 0.6730 - val_accuracy: 0.6235\n",
      "Epoch 106/200\n",
      "1228/1228 [==============================] - 61s 50ms/step - loss: 0.6575 - accuracy: 0.6226 - val_loss: 0.6763 - val_accuracy: 0.6196\n",
      "Epoch 107/200\n",
      "1228/1228 [==============================] - 62s 50ms/step - loss: 0.6571 - accuracy: 0.6230 - val_loss: 0.6667 - val_accuracy: 0.6353\n",
      "Epoch 108/200\n",
      "1228/1228 [==============================] - 62s 50ms/step - loss: 0.6568 - accuracy: 0.6278 - val_loss: 0.6911 - val_accuracy: 0.6011\n",
      "Epoch 109/200\n",
      "1228/1228 [==============================] - 62s 50ms/step - loss: 0.6570 - accuracy: 0.6237 - val_loss: 0.6601 - val_accuracy: 0.6320\n",
      "Epoch 110/200\n",
      "1228/1228 [==============================] - 61s 50ms/step - loss: 0.6569 - accuracy: 0.6244 - val_loss: 0.6628 - val_accuracy: 0.6157\n",
      "Epoch 111/200\n"
     ]
    },
    {
     "name": "stdout",
     "output_type": "stream",
     "text": [
      "1228/1228 [==============================] - 62s 50ms/step - loss: 0.6571 - accuracy: 0.6236 - val_loss: 0.6609 - val_accuracy: 0.6213\n",
      "Epoch 112/200\n",
      "1228/1228 [==============================] - 61s 49ms/step - loss: 0.6573 - accuracy: 0.6266 - val_loss: 0.6570 - val_accuracy: 0.6229\n",
      "Epoch 113/200\n",
      "1228/1228 [==============================] - 62s 50ms/step - loss: 0.6566 - accuracy: 0.6217 - val_loss: 0.6608 - val_accuracy: 0.6336\n",
      "Epoch 114/200\n",
      "1228/1228 [==============================] - 61s 50ms/step - loss: 0.6562 - accuracy: 0.6247 - val_loss: 0.6609 - val_accuracy: 0.6231\n",
      "Epoch 115/200\n",
      "1228/1228 [==============================] - 62s 50ms/step - loss: 0.6562 - accuracy: 0.6222 - val_loss: 0.6676 - val_accuracy: 0.6412\n",
      "Epoch 116/200\n",
      "1228/1228 [==============================] - 62s 50ms/step - loss: 0.6566 - accuracy: 0.6231 - val_loss: 0.6563 - val_accuracy: 0.6112\n",
      "Epoch 117/200\n",
      "1228/1228 [==============================] - 62s 51ms/step - loss: 0.6557 - accuracy: 0.6249 - val_loss: 0.6697 - val_accuracy: 0.6208\n",
      "Epoch 118/200\n",
      "1228/1228 [==============================] - 62s 51ms/step - loss: 0.6562 - accuracy: 0.6274 - val_loss: 0.6616 - val_accuracy: 0.6316\n",
      "Epoch 119/200\n",
      "1228/1228 [==============================] - 62s 50ms/step - loss: 0.6556 - accuracy: 0.6240 - val_loss: 0.6726 - val_accuracy: 0.6283\n",
      "Epoch 120/200\n",
      "1228/1228 [==============================] - 62s 51ms/step - loss: 0.6558 - accuracy: 0.6270 - val_loss: 0.6587 - val_accuracy: 0.6223\n",
      "Epoch 121/200\n",
      "1228/1228 [==============================] - 61s 50ms/step - loss: 0.6552 - accuracy: 0.6247 - val_loss: 0.6740 - val_accuracy: 0.6340\n",
      "Epoch 122/200\n",
      "1228/1228 [==============================] - 63s 51ms/step - loss: 0.6555 - accuracy: 0.6241 - val_loss: 0.6578 - val_accuracy: 0.6354\n",
      "Epoch 123/200\n",
      "1228/1228 [==============================] - 61s 50ms/step - loss: 0.6551 - accuracy: 0.6268 - val_loss: 0.6595 - val_accuracy: 0.6296\n",
      "Epoch 124/200\n",
      "1228/1228 [==============================] - 62s 51ms/step - loss: 0.6549 - accuracy: 0.6249 - val_loss: 0.6600 - val_accuracy: 0.6300\n",
      "Epoch 125/200\n",
      "1228/1228 [==============================] - 62s 50ms/step - loss: 0.6553 - accuracy: 0.6258 - val_loss: 0.6611 - val_accuracy: 0.6287\n",
      "Epoch 126/200\n",
      "1228/1228 [==============================] - 61s 50ms/step - loss: 0.6553 - accuracy: 0.6297 - val_loss: 0.6590 - val_accuracy: 0.6099\n",
      "Epoch 127/200\n",
      "1228/1228 [==============================] - 62s 50ms/step - loss: 0.6542 - accuracy: 0.6264 - val_loss: 0.6561 - val_accuracy: 0.6298\n",
      "Epoch 128/200\n",
      "1228/1228 [==============================] - 62s 51ms/step - loss: 0.6544 - accuracy: 0.6259 - val_loss: 0.6554 - val_accuracy: 0.6175\n",
      "Epoch 129/200\n",
      "1228/1228 [==============================] - 61s 50ms/step - loss: 0.6547 - accuracy: 0.6256 - val_loss: 0.6573 - val_accuracy: 0.6316\n",
      "Epoch 130/200\n",
      "1228/1228 [==============================] - 62s 50ms/step - loss: 0.6544 - accuracy: 0.6275 - val_loss: 0.6633 - val_accuracy: 0.6251\n",
      "Epoch 131/200\n",
      "1228/1228 [==============================] - 61s 49ms/step - loss: 0.6537 - accuracy: 0.6246 - val_loss: 0.6662 - val_accuracy: 0.6286\n",
      "Epoch 132/200\n",
      "1228/1228 [==============================] - 62s 50ms/step - loss: 0.6540 - accuracy: 0.6279 - val_loss: 0.6564 - val_accuracy: 0.6277\n",
      "Epoch 133/200\n",
      "1228/1228 [==============================] - 62s 51ms/step - loss: 0.6540 - accuracy: 0.6237 - val_loss: 0.6593 - val_accuracy: 0.6223\n",
      "Epoch 134/200\n",
      "1228/1228 [==============================] - 63s 51ms/step - loss: 0.6536 - accuracy: 0.6252 - val_loss: 0.6659 - val_accuracy: 0.6174\n",
      "Epoch 135/200\n",
      "1228/1228 [==============================] - 63s 51ms/step - loss: 0.6544 - accuracy: 0.6246 - val_loss: 0.6565 - val_accuracy: 0.6290\n",
      "Epoch 136/200\n",
      "1228/1228 [==============================] - 62s 50ms/step - loss: 0.6535 - accuracy: 0.6274 - val_loss: 0.6592 - val_accuracy: 0.6206\n",
      "Epoch 137/200\n",
      "1228/1228 [==============================] - 62s 50ms/step - loss: 0.6534 - accuracy: 0.6277 - val_loss: 0.6602 - val_accuracy: 0.6294\n",
      "Epoch 138/200\n",
      "1228/1228 [==============================] - 62s 50ms/step - loss: 0.6532 - accuracy: 0.6237 - val_loss: 0.6713 - val_accuracy: 0.6224\n",
      "Epoch 139/200\n",
      "1228/1228 [==============================] - 62s 50ms/step - loss: 0.6526 - accuracy: 0.6262 - val_loss: 0.6608 - val_accuracy: 0.6153\n",
      "Epoch 140/200\n",
      "1228/1228 [==============================] - 62s 51ms/step - loss: 0.6532 - accuracy: 0.6288 - val_loss: 0.6574 - val_accuracy: 0.6202\n",
      "Epoch 141/200\n",
      "1228/1228 [==============================] - 61s 50ms/step - loss: 0.6527 - accuracy: 0.6260 - val_loss: 0.6575 - val_accuracy: 0.6295\n",
      "Epoch 142/200\n",
      "1228/1228 [==============================] - 62s 51ms/step - loss: 0.6528 - accuracy: 0.6257 - val_loss: 0.6569 - val_accuracy: 0.6287\n",
      "Epoch 143/200\n",
      "1228/1228 [==============================] - 61s 50ms/step - loss: 0.6527 - accuracy: 0.6267 - val_loss: 0.6565 - val_accuracy: 0.6094\n",
      "Epoch 144/200\n",
      "1228/1228 [==============================] - 62s 50ms/step - loss: 0.6523 - accuracy: 0.6265 - val_loss: 0.6535 - val_accuracy: 0.6254\n",
      "Epoch 145/200\n",
      "1228/1228 [==============================] - 61s 50ms/step - loss: 0.6518 - accuracy: 0.6280 - val_loss: 0.6653 - val_accuracy: 0.6169\n",
      "Epoch 146/200\n",
      "1228/1228 [==============================] - 63s 51ms/step - loss: 0.6519 - accuracy: 0.6233 - val_loss: 0.6539 - val_accuracy: 0.6253\n",
      "Epoch 147/200\n",
      "1228/1228 [==============================] - 62s 50ms/step - loss: 0.6517 - accuracy: 0.6271 - val_loss: 0.6525 - val_accuracy: 0.6347\n",
      "Epoch 148/200\n",
      "1228/1228 [==============================] - 62s 51ms/step - loss: 0.6514 - accuracy: 0.6268 - val_loss: 0.6602 - val_accuracy: 0.6420\n",
      "Epoch 149/200\n",
      "1228/1228 [==============================] - 61s 50ms/step - loss: 0.6525 - accuracy: 0.6301 - val_loss: 0.6512 - val_accuracy: 0.6192\n",
      "Epoch 150/200\n",
      "1228/1228 [==============================] - 61s 50ms/step - loss: 0.6510 - accuracy: 0.6279 - val_loss: 0.6570 - val_accuracy: 0.6335\n",
      "Epoch 151/200\n",
      "1228/1228 [==============================] - 62s 50ms/step - loss: 0.6509 - accuracy: 0.6282 - val_loss: 0.6519 - val_accuracy: 0.6225\n",
      "Epoch 152/200\n",
      "1228/1228 [==============================] - 61s 50ms/step - loss: 0.6506 - accuracy: 0.6284 - val_loss: 0.6651 - val_accuracy: 0.6121\n",
      "Epoch 153/200\n",
      "1228/1228 [==============================] - 61s 50ms/step - loss: 0.6508 - accuracy: 0.6297 - val_loss: 0.6549 - val_accuracy: 0.6371\n",
      "Epoch 154/200\n",
      "1228/1228 [==============================] - 62s 51ms/step - loss: 0.6510 - accuracy: 0.6291 - val_loss: 0.6529 - val_accuracy: 0.6266\n",
      "Epoch 155/200\n",
      "1228/1228 [==============================] - 62s 50ms/step - loss: 0.6505 - accuracy: 0.6276 - val_loss: 0.6583 - val_accuracy: 0.6345\n",
      "Epoch 156/200\n",
      "1228/1228 [==============================] - 61s 50ms/step - loss: 0.6502 - accuracy: 0.6288 - val_loss: 0.6520 - val_accuracy: 0.6182\n",
      "Epoch 157/200\n",
      "1228/1228 [==============================] - 63s 51ms/step - loss: 0.6513 - accuracy: 0.6309 - val_loss: 0.6917 - val_accuracy: 0.6115\n",
      "Epoch 158/200\n",
      "1228/1228 [==============================] - 63s 51ms/step - loss: 0.6511 - accuracy: 0.6257 - val_loss: 0.6497 - val_accuracy: 0.6274\n",
      "Epoch 159/200\n",
      "1228/1228 [==============================] - 62s 50ms/step - loss: 0.6497 - accuracy: 0.6301 - val_loss: 0.6659 - val_accuracy: 0.6130\n",
      "Epoch 160/200\n",
      "1228/1228 [==============================] - 62s 50ms/step - loss: 0.6502 - accuracy: 0.6273 - val_loss: 0.6543 - val_accuracy: 0.6232\n",
      "Epoch 161/200\n",
      "1228/1228 [==============================] - 62s 50ms/step - loss: 0.6493 - accuracy: 0.6263 - val_loss: 0.6537 - val_accuracy: 0.6245\n",
      "Epoch 162/200\n",
      "1228/1228 [==============================] - 61s 50ms/step - loss: 0.6501 - accuracy: 0.6299 - val_loss: 0.6682 - val_accuracy: 0.6229\n",
      "Epoch 163/200\n",
      "1228/1228 [==============================] - 62s 51ms/step - loss: 0.6494 - accuracy: 0.6257 - val_loss: 0.6611 - val_accuracy: 0.6295\n",
      "Epoch 164/200\n",
      "1228/1228 [==============================] - 62s 50ms/step - loss: 0.6502 - accuracy: 0.6233 - val_loss: 0.6581 - val_accuracy: 0.6155\n",
      "Epoch 165/200\n",
      "1228/1228 [==============================] - 62s 50ms/step - loss: 0.6495 - accuracy: 0.6259 - val_loss: 0.6510 - val_accuracy: 0.6195\n",
      "Epoch 166/200\n"
     ]
    },
    {
     "name": "stdout",
     "output_type": "stream",
     "text": [
      "1228/1228 [==============================] - 62s 50ms/step - loss: 0.6492 - accuracy: 0.6255 - val_loss: 0.6513 - val_accuracy: 0.6156\n",
      "Epoch 167/200\n",
      "1228/1228 [==============================] - 61s 50ms/step - loss: 0.6491 - accuracy: 0.6254 - val_loss: 0.6547 - val_accuracy: 0.6243\n",
      "Epoch 168/200\n",
      "1228/1228 [==============================] - 62s 50ms/step - loss: 0.6484 - accuracy: 0.6297 - val_loss: 0.6567 - val_accuracy: 0.6466\n",
      "Epoch 169/200\n",
      "1228/1228 [==============================] - 62s 51ms/step - loss: 0.6495 - accuracy: 0.6324 - val_loss: 0.6505 - val_accuracy: 0.6350\n",
      "Epoch 170/200\n",
      "1228/1228 [==============================] - 62s 51ms/step - loss: 0.6489 - accuracy: 0.6300 - val_loss: 0.6546 - val_accuracy: 0.6340\n",
      "Epoch 171/200\n",
      "1228/1228 [==============================] - 62s 51ms/step - loss: 0.6487 - accuracy: 0.6291 - val_loss: 0.6840 - val_accuracy: 0.6337\n",
      "Epoch 172/200\n",
      "1228/1228 [==============================] - 62s 50ms/step - loss: 0.6487 - accuracy: 0.6304 - val_loss: 0.6517 - val_accuracy: 0.6416\n",
      "Epoch 173/200\n",
      "1228/1228 [==============================] - 61s 50ms/step - loss: 0.6480 - accuracy: 0.6285 - val_loss: 0.6503 - val_accuracy: 0.6213\n",
      "Epoch 174/200\n",
      "1228/1228 [==============================] - 62s 50ms/step - loss: 0.6489 - accuracy: 0.6274 - val_loss: 0.6493 - val_accuracy: 0.6245\n",
      "Epoch 175/200\n",
      "1228/1228 [==============================] - 62s 51ms/step - loss: 0.6488 - accuracy: 0.6320 - val_loss: 0.6551 - val_accuracy: 0.6504\n",
      "Epoch 176/200\n",
      "1228/1228 [==============================] - 63s 51ms/step - loss: 0.6484 - accuracy: 0.6280 - val_loss: 0.6485 - val_accuracy: 0.6356\n",
      "Epoch 177/200\n",
      "1228/1228 [==============================] - 62s 50ms/step - loss: 0.6489 - accuracy: 0.6276 - val_loss: 0.6515 - val_accuracy: 0.6272\n",
      "Epoch 178/200\n",
      "1228/1228 [==============================] - 61s 50ms/step - loss: 0.6482 - accuracy: 0.6301 - val_loss: 0.6607 - val_accuracy: 0.6268\n",
      "Epoch 179/200\n",
      "1228/1228 [==============================] - 61s 50ms/step - loss: 0.6480 - accuracy: 0.6292 - val_loss: 0.6562 - val_accuracy: 0.6231\n",
      "Epoch 180/200\n",
      "1228/1228 [==============================] - 62s 50ms/step - loss: 0.6478 - accuracy: 0.6274 - val_loss: 0.6602 - val_accuracy: 0.6385\n",
      "Epoch 181/200\n",
      "1228/1228 [==============================] - 62s 51ms/step - loss: 0.6483 - accuracy: 0.6337 - val_loss: 0.6818 - val_accuracy: 0.5983\n",
      "Epoch 182/200\n",
      "1228/1228 [==============================] - 62s 51ms/step - loss: 0.6481 - accuracy: 0.6337 - val_loss: 0.6819 - val_accuracy: 0.6380\n",
      "Epoch 183/200\n",
      "1228/1228 [==============================] - 62s 51ms/step - loss: 0.6471 - accuracy: 0.6307 - val_loss: 0.6496 - val_accuracy: 0.6219\n",
      "Epoch 184/200\n",
      "1228/1228 [==============================] - 62s 51ms/step - loss: 0.6475 - accuracy: 0.6293 - val_loss: 0.6536 - val_accuracy: 0.6273\n",
      "Epoch 185/200\n",
      "1228/1228 [==============================] - 61s 50ms/step - loss: 0.6476 - accuracy: 0.6282 - val_loss: 0.6574 - val_accuracy: 0.6372\n",
      "Epoch 186/200\n",
      "1228/1228 [==============================] - 62s 50ms/step - loss: 0.6468 - accuracy: 0.6327 - val_loss: 0.6585 - val_accuracy: 0.6340\n",
      "Epoch 187/200\n",
      "1228/1228 [==============================] - 61s 50ms/step - loss: 0.6475 - accuracy: 0.6288 - val_loss: 0.6543 - val_accuracy: 0.6412\n",
      "Epoch 188/200\n",
      "1228/1228 [==============================] - 61s 50ms/step - loss: 0.6466 - accuracy: 0.6291 - val_loss: 0.6545 - val_accuracy: 0.6123\n",
      "Epoch 189/200\n",
      "1228/1228 [==============================] - 60s 49ms/step - loss: 0.6471 - accuracy: 0.6291 - val_loss: 0.6567 - val_accuracy: 0.6206\n",
      "Epoch 190/200\n",
      "1228/1228 [==============================] - 62s 50ms/step - loss: 0.6469 - accuracy: 0.6317 - val_loss: 0.6517 - val_accuracy: 0.6210\n",
      "Epoch 191/200\n",
      "1228/1228 [==============================] - 62s 50ms/step - loss: 0.6471 - accuracy: 0.6298 - val_loss: 0.6685 - val_accuracy: 0.6161\n",
      "Epoch 192/200\n",
      "1228/1228 [==============================] - 62s 51ms/step - loss: 0.6464 - accuracy: 0.6294 - val_loss: 0.6465 - val_accuracy: 0.6315\n",
      "Epoch 193/200\n",
      "1228/1228 [==============================] - 62s 51ms/step - loss: 0.6464 - accuracy: 0.6307 - val_loss: 0.6487 - val_accuracy: 0.6280\n",
      "Epoch 194/200\n",
      "1228/1228 [==============================] - 63s 51ms/step - loss: 0.6456 - accuracy: 0.6328 - val_loss: 0.6526 - val_accuracy: 0.6328\n",
      "Epoch 195/200\n",
      "1228/1228 [==============================] - 61s 49ms/step - loss: 0.6464 - accuracy: 0.6249 - val_loss: 0.6510 - val_accuracy: 0.6398\n",
      "Epoch 196/200\n",
      "1228/1228 [==============================] - 62s 50ms/step - loss: 0.6460 - accuracy: 0.6273 - val_loss: 0.6880 - val_accuracy: 0.6055\n",
      "Epoch 197/200\n",
      "1228/1228 [==============================] - 62s 50ms/step - loss: 0.6459 - accuracy: 0.6280 - val_loss: 0.6738 - val_accuracy: 0.6112\n",
      "Epoch 198/200\n",
      "1228/1228 [==============================] - 62s 51ms/step - loss: 0.6460 - accuracy: 0.6321 - val_loss: 0.6520 - val_accuracy: 0.6277\n",
      "Epoch 199/200\n",
      "1228/1228 [==============================] - 62s 50ms/step - loss: 0.6462 - accuracy: 0.6317 - val_loss: 0.6555 - val_accuracy: 0.6208\n",
      "Epoch 200/200\n",
      "1228/1228 [==============================] - 62s 50ms/step - loss: 0.6459 - accuracy: 0.6301 - val_loss: 0.6451 - val_accuracy: 0.6257\n"
     ]
    }
   ],
   "source": [
    "history = bnn.fit( xTrain, y, epochs=200, verbose=1, \n",
    "                  use_multiprocessing=True, validation_split=0.2)"
   ]
  },
  {
   "cell_type": "code",
   "execution_count": 13,
   "metadata": {},
   "outputs": [
    {
     "data": {
      "text/plain": [
       "<matplotlib.legend.Legend at 0x7d07a4337a30>"
      ]
     },
     "execution_count": 13,
     "metadata": {},
     "output_type": "execute_result"
    },
    {
     "data": {
      "image/png": "[encoded data removed]",
      "text/plain": [
       "<Figure size 432x288 with 1 Axes>"
      ]
     },
     "metadata": {
      "needs_background": "light"
     },
     "output_type": "display_data"
    }
   ],
   "source": [
    "plt.plot( history.history['accuracy'], label=\"Accuracy\")\n",
    "plt.plot( history.history['val_accuracy'], label=\"val_acc\")\n",
    "plt.title('Model Accuracy')\n",
    "plt.ylabel('Accuracy')\n",
    "plt.xlabel('Epoch')\n",
    "plt.legend()"
   ]
  },
  {
   "cell_type": "code",
   "execution_count": 14,
   "metadata": {},
   "outputs": [
    {
     "data": {
      "text/plain": [
       "<matplotlib.legend.Legend at 0x7d066c3948b0>"
      ]
     },
     "execution_count": 14,
     "metadata": {},
     "output_type": "execute_result"
    },
    {
     "data": {
      "image/png": "[encoded data removed]",
      "text/plain": [
       "<Figure size 432x288 with 1 Axes>"
      ]
     },
     "metadata": {
      "needs_background": "light"
     },
     "output_type": "display_data"
    }
   ],
   "source": [
    "plt.plot( history.history['loss'], label=\"loss\")\n",
    "plt.plot( history.history['val_loss'], label=\"val_loss\")\n",
    "plt.title('Model Loss')\n",
    "plt.ylabel('Loss')\n",
    "plt.xlabel('Epoch')\n",
    "plt.legend()"
   ]
  },
  {
   "cell_type": "code",
   "execution_count": 15,
   "metadata": {},
   "outputs": [],
   "source": [
    "# serialize weights to HDF5\n",
    "bnn.save_weights(\"./model_weights_3PNN_with_sheath.h5\")"
   ]
  },
  {
   "cell_type": "code",
   "execution_count": 10,
   "metadata": {},
   "outputs": [],
   "source": [
    "preds = []\n",
    "p = bnn( xTest )\n",
    "en = bnn( xTest ).entropy()\n",
    "\n",
    "for i in range( p.shape[0] ):\n",
    "    preds.append( np.argmax(p[i,:]) )"
   ]
  },
  {
   "cell_type": "code",
   "execution_count": 11,
   "metadata": {},
   "outputs": [],
   "source": [
    "font = { 'weight' : 'bold', 'size' : 24 }\n",
    "plt.rc('font', **font)"
   ]
  },
  {
   "cell_type": "code",
   "execution_count": 1,
   "metadata": {
    "scrolled": false
   },
   "outputs": [],
   "source": [
    "from sklearn.metrics import confusion_matrix, ConfusionMatrixDisplay\n",
    "\n",
    "fig, ax = plt.subplots(figsize=(12, 12))\n",
    "\n",
    "cm = confusion_matrix( yTest.astype(int), preds, normalize='true' )\n",
    "disp = ConfusionMatrixDisplay( confusion_matrix=cm )\n",
    "disp.plot(ax=ax, cmap='gist_yarg')"
   ]
  },
  {
   "cell_type": "code",
   "execution_count": 13,
   "metadata": {},
   "outputs": [
    {
     "name": "stdout",
     "output_type": "stream",
     "text": [
      "Macro F1: 0.6007\n",
      "Macro Precision: 0.6002\n",
      "Macro Recall: 0.6039\n",
      "Accuracy: 0.6053\n"
     ]
    }
   ],
   "source": [
    "from sklearn.metrics import f1_score\n",
    "from sklearn.metrics import recall_score\n",
    "from sklearn.metrics import precision_score\n",
    "from sklearn.metrics import accuracy_score\n",
    "\n",
    "yTest = yTest.astype(int)\n",
    "\n",
    "print( \"Macro F1:\", np.round( f1_score(yTest, preds, average='macro'), 4 ))\n",
    "print( \"Macro Precision:\", np.round( precision_score(yTest, preds, average='macro'), 4 ))\n",
    "print( \"Macro Recall:\", np.round( recall_score(yTest, preds, average='macro'), 4 ))\n",
    "print( \"Accuracy:\", np.round( accuracy_score(yTest, preds), 4 ))"
   ]
  },
  {
   "cell_type": "markdown",
   "metadata": {},
   "source": [
    "### If model already trained - Load the saved model for analysis"
   ]
  },
  {
   "cell_type": "code",
   "execution_count": 9,
   "metadata": {},
   "outputs": [],
   "source": [
    "from keras import backend as K \n",
    "\n",
    "# Keras keeps models hanging around in memory. If we retrain a model, Keras will\n",
    "# start from the previously concluded weight values. This resets everything.\n",
    "K.clear_session()\n",
    "\n",
    "bnn = create_probablistic_bnn_model( xTest.shape[0], xTest.shape[1] )\n",
    " \n",
    "# load weights into new model\n",
    "bnn.load_weights(\"./model_weights_3PNN_with_sheath.h5\")"
   ]
  },
  {
   "cell_type": "code",
   "execution_count": 25,
   "metadata": {},
   "outputs": [],
   "source": [
    "preds = []\n",
    "p = bnn( xTest )\n",
    "en = bnn( xTest ).entropy()\n",
    "\n",
    "for i in range( p.shape[0] ):\n",
    "    preds.append( np.argmax(p[i,:]) )"
   ]
  }
 ],
 "metadata": {
  "kernelspec": {
   "display_name": "Python 3 (ipykernel)",
   "language": "python",
   "name": "python3"
  },
  "language_info": {
   "codemirror_mode": {
    "name": "ipython",
    "version": 3
   },
   "file_extension": ".py",
   "mimetype": "text/x-python",
   "name": "python",
   "nbconvert_exporter": "python",
   "pygments_lexer": "ipython3",
   "version": "3.9.13"
  }
 },
 "nbformat": 4,
 "nbformat_minor": 2
}
