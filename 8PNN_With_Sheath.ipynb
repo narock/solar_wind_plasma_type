{
 "cells": [
  {
   "cell_type": "code",
   "execution_count": 1,
   "metadata": {},
   "outputs": [
    {
     "name": "stderr",
     "output_type": "stream",
     "text": [
      "2024-06-20 17:18:48.733438: I tensorflow/core/platform/cpu_feature_guard.cc:182] This TensorFlow binary is optimized to use available CPU instructions in performance-critical operations.\n",
      "To enable the following instructions: AVX2 AVX512F FMA, in other operations, rebuild TensorFlow with the appropriate compiler flags.\n",
      "2024-06-20 17:18:51.935652: W tensorflow/compiler/tf2tensorrt/utils/py_utils.cc:38] TF-TRT Warning: Could not find TensorRT\n"
     ]
    }
   ],
   "source": [
    "import os\n",
    "import pywt\n",
    "import glob\n",
    "import random\n",
    "import datetime\n",
    "import numpy as np\n",
    "import pandas as pd\n",
    "import matplotlib.pyplot as plt\n",
    "\n",
    "import tensorflow as tf\n",
    "from tensorflow import keras\n",
    "from tensorflow.keras import layers\n",
    "import tensorflow_probability as tfp\n",
    "from tensorflow.keras.models import Sequential\n",
    "from tensorflow.keras.layers import Dense\n",
    "from tensorflow.keras.optimizers import Adam"
   ]
  },
  {
   "cell_type": "markdown",
   "metadata": {},
   "source": [
    "### Load data and preprocess"
   ]
  },
  {
   "cell_type": "code",
   "execution_count": 2,
   "metadata": {},
   "outputs": [],
   "source": [
    "xTrain = np.load(\"./xTrain.npy\")\n",
    "yTrain = np.load(\"./yTrain.npy\", allow_pickle=True)\n",
    "\n",
    "xTest = np.load(\"./xTest.npy\")\n",
    "yTest = np.load(\"./yTest.npy\", allow_pickle=True)"
   ]
  },
  {
   "cell_type": "code",
   "execution_count": 3,
   "metadata": {},
   "outputs": [],
   "source": [
    "# Columns are:\n",
    "#\n",
    "# 0 = 'Beta_p'\n",
    "# 1 = 'Va'\n",
    "# 2 = 'Tratio'\n",
    "# 3 = 'entropy'\n",
    "# 4 = 'crossHelicity'\n",
    "# 5 = 'residualEnergy'\n",
    "# 6 = 'TotalPressure'\n",
    "# 7 = 'bFluctuations'"
   ]
  },
  {
   "cell_type": "code",
   "execution_count": 4,
   "metadata": {},
   "outputs": [
    {
     "data": {
      "text/plain": [
       "5"
      ]
     },
     "execution_count": 4,
     "metadata": {},
     "output_type": "execute_result"
    }
   ],
   "source": [
    "nClasses = len( np. unique( yTrain ) )\n",
    "nClasses"
   ]
  },
  {
   "cell_type": "code",
   "execution_count": 5,
   "metadata": {},
   "outputs": [
    {
     "name": "stderr",
     "output_type": "stream",
     "text": [
      "2024-06-20 17:19:14.954192: I tensorflow/core/common_runtime/gpu/gpu_device.cc:1635] Created device /job:localhost/replica:0/task:0/device:GPU:0 with 5337 MB memory:  -> device: 0, name: NVIDIA GeForce GTX TITAN Black, pci bus id: 0000:65:00.0, compute capability: 3.5\n"
     ]
    }
   ],
   "source": [
    "y = tf.one_hot(yTrain,nClasses)"
   ]
  },
  {
   "cell_type": "markdown",
   "metadata": {},
   "source": [
    "### Neural Network"
   ]
  },
  {
   "cell_type": "code",
   "execution_count": 6,
   "metadata": {},
   "outputs": [],
   "source": [
    "from keras import backend as K \n",
    "\n",
    "# Keras keeps models hanging around in memory. If we retrain a model, Keras will\n",
    "# start from the previously concluded weight values. This resets everything.\n",
    "K.clear_session()"
   ]
  },
  {
   "cell_type": "code",
   "execution_count": 7,
   "metadata": {},
   "outputs": [],
   "source": [
    "def create_probablistic_bnn_model(rows,columns):\n",
    "    \n",
    "    inputs = tf.keras.layers.Input(shape=columns)\n",
    "    \n",
    "    hidden1 = tf.keras.layers.Dense(16, activation='relu')(inputs)    \n",
    "    hidden2 = tf.keras.layers.Dense(8, activation='relu')(hidden1)\n",
    "    \n",
    "    distribution_params = layers.Dense(nClasses)(hidden2)\n",
    "    outputs = tfp.layers.OneHotCategorical(1)(distribution_params)\n",
    "\n",
    "    model = keras.Model(inputs=inputs, outputs=outputs)\n",
    "    \n",
    "    return model"
   ]
  },
  {
   "cell_type": "code",
   "execution_count": 8,
   "metadata": {},
   "outputs": [],
   "source": [
    "def negative_loglikelihood(targets, estimated_distribution):\n",
    "    return -estimated_distribution.log_prob(targets)"
   ]
  },
  {
   "cell_type": "code",
   "execution_count": 10,
   "metadata": {},
   "outputs": [
    {
     "name": "stdout",
     "output_type": "stream",
     "text": [
      "Model: \"model\"\n",
      "_________________________________________________________________\n",
      " Layer (type)                Output Shape              Param #   \n",
      "=================================================================\n",
      " input_1 (InputLayer)        [(None, 7)]               0         \n",
      "                                                                 \n",
      " dense (Dense)               (None, 16)                128       \n",
      "                                                                 \n",
      " dense_1 (Dense)             (None, 8)                 136       \n",
      "                                                                 \n",
      " dense_2 (Dense)             (None, 5)                 45        \n",
      "                                                                 \n",
      " one_hot_categorical (OneHot  ((None, 5),              0         \n",
      " Categorical)                 (None, 5))                         \n",
      "                                                                 \n",
      "=================================================================\n",
      "Total params: 309\n",
      "Trainable params: 309\n",
      "Non-trainable params: 0\n",
      "_________________________________________________________________\n"
     ]
    }
   ],
   "source": [
    "bnn = create_probablistic_bnn_model(xTrain.shape[0],xTrain.shape[1])\n",
    "bnn.summary()"
   ]
  },
  {
   "cell_type": "code",
   "execution_count": 10,
   "metadata": {},
   "outputs": [],
   "source": [
    "bnn.compile( loss=negative_loglikelihood, metrics=['accuracy'] )"
   ]
  },
  {
   "cell_type": "code",
   "execution_count": 11,
   "metadata": {
    "scrolled": true
   },
   "outputs": [
    {
     "name": "stdout",
     "output_type": "stream",
     "text": [
      "Epoch 1/200\n"
     ]
    },
    {
     "name": "stderr",
     "output_type": "stream",
     "text": [
      "2024-02-22 17:16:49.097610: I tensorflow/compiler/xla/service/service.cc:169] XLA service 0x7f4710012af0 initialized for platform CUDA (this does not guarantee that XLA will be used). Devices:\n",
      "2024-02-22 17:16:49.097661: I tensorflow/compiler/xla/service/service.cc:177]   StreamExecutor device (0): NVIDIA GeForce GTX TITAN Black, Compute Capability 3.5\n",
      "2024-02-22 17:16:49.103455: I tensorflow/compiler/mlir/tensorflow/utils/dump_mlir_util.cc:269] disabling MLIR crash reproducer, set env var `MLIR_CRASH_REPRODUCER_DIRECTORY` to enable.\n",
      "2024-02-22 17:16:50.000012: I tensorflow/compiler/xla/stream_executor/cuda/cuda_dnn.cc:424] Loaded cuDNN version 8600\n",
      "2024-02-22 17:16:50.206109: I tensorflow/tsl/platform/default/subprocess.cc:304] Start cannot spawn child process: No such file or directory\n",
      "2024-02-22 17:16:50.507838: I ./tensorflow/compiler/jit/device_compiler.h:180] Compiled cluster using XLA!  This line is logged at most once for the lifetime of the process.\n"
     ]
    },
    {
     "name": "stdout",
     "output_type": "stream",
     "text": [
      "1225/1225 [==============================] - 73s 51ms/step - loss: 1.4880 - accuracy: 0.2380 - val_loss: 1.3788 - val_accuracy: 0.2724\n",
      "Epoch 2/200\n",
      "1225/1225 [==============================] - 63s 52ms/step - loss: 1.2326 - accuracy: 0.3186 - val_loss: 1.1018 - val_accuracy: 0.3761\n",
      "Epoch 3/200\n",
      "1225/1225 [==============================] - 62s 51ms/step - loss: 1.0035 - accuracy: 0.4235 - val_loss: 0.9199 - val_accuracy: 0.4673\n",
      "Epoch 4/200\n",
      "1225/1225 [==============================] - 61s 50ms/step - loss: 0.8525 - accuracy: 0.5017 - val_loss: 0.8040 - val_accuracy: 0.5385\n",
      "Epoch 5/200\n",
      "1225/1225 [==============================] - 62s 50ms/step - loss: 0.7649 - accuracy: 0.5571 - val_loss: 0.7356 - val_accuracy: 0.5764\n",
      "Epoch 6/200\n",
      "1225/1225 [==============================] - 63s 52ms/step - loss: 0.7092 - accuracy: 0.5943 - val_loss: 0.6901 - val_accuracy: 0.6008\n",
      "Epoch 7/200\n",
      "1225/1225 [==============================] - 62s 50ms/step - loss: 0.6723 - accuracy: 0.6156 - val_loss: 0.6569 - val_accuracy: 0.6285\n",
      "Epoch 8/200\n",
      "1225/1225 [==============================] - 63s 51ms/step - loss: 0.6467 - accuracy: 0.6326 - val_loss: 0.6337 - val_accuracy: 0.6448\n",
      "Epoch 9/200\n",
      "1225/1225 [==============================] - 62s 51ms/step - loss: 0.6278 - accuracy: 0.6504 - val_loss: 0.6214 - val_accuracy: 0.6646\n",
      "Epoch 10/200\n",
      "1225/1225 [==============================] - 62s 51ms/step - loss: 0.6133 - accuracy: 0.6552 - val_loss: 0.6156 - val_accuracy: 0.6648\n",
      "Epoch 11/200\n",
      "1225/1225 [==============================] - 61s 50ms/step - loss: 0.6016 - accuracy: 0.6653 - val_loss: 0.6001 - val_accuracy: 0.6763\n",
      "Epoch 12/200\n",
      "1225/1225 [==============================] - 62s 51ms/step - loss: 0.5920 - accuracy: 0.6706 - val_loss: 0.5851 - val_accuracy: 0.6792\n",
      "Epoch 13/200\n",
      "1225/1225 [==============================] - 62s 51ms/step - loss: 0.5830 - accuracy: 0.6791 - val_loss: 0.5788 - val_accuracy: 0.6804\n",
      "Epoch 14/200\n",
      "1225/1225 [==============================] - 62s 51ms/step - loss: 0.5759 - accuracy: 0.6835 - val_loss: 0.5669 - val_accuracy: 0.6891\n",
      "Epoch 15/200\n",
      "1225/1225 [==============================] - 63s 51ms/step - loss: 0.5696 - accuracy: 0.6841 - val_loss: 0.5633 - val_accuracy: 0.6863\n",
      "Epoch 16/200\n",
      "1225/1225 [==============================] - 63s 51ms/step - loss: 0.5642 - accuracy: 0.6855 - val_loss: 0.5638 - val_accuracy: 0.7005\n",
      "Epoch 17/200\n",
      "1225/1225 [==============================] - 63s 51ms/step - loss: 0.5590 - accuracy: 0.6909 - val_loss: 0.5872 - val_accuracy: 0.6920\n",
      "Epoch 18/200\n",
      "1225/1225 [==============================] - 63s 51ms/step - loss: 0.5544 - accuracy: 0.6945 - val_loss: 0.5498 - val_accuracy: 0.7097\n",
      "Epoch 19/200\n",
      "1225/1225 [==============================] - 62s 51ms/step - loss: 0.5500 - accuracy: 0.6982 - val_loss: 0.5444 - val_accuracy: 0.7105\n",
      "Epoch 20/200\n",
      "1225/1225 [==============================] - 63s 52ms/step - loss: 0.5461 - accuracy: 0.7012 - val_loss: 0.5452 - val_accuracy: 0.6882\n",
      "Epoch 21/200\n",
      "1225/1225 [==============================] - 63s 51ms/step - loss: 0.5425 - accuracy: 0.7050 - val_loss: 0.5344 - val_accuracy: 0.7141\n",
      "Epoch 22/200\n",
      "1225/1225 [==============================] - 63s 51ms/step - loss: 0.5394 - accuracy: 0.7062 - val_loss: 0.5357 - val_accuracy: 0.6998\n",
      "Epoch 23/200\n",
      "1225/1225 [==============================] - 62s 50ms/step - loss: 0.5360 - accuracy: 0.7073 - val_loss: 0.5277 - val_accuracy: 0.7104\n",
      "Epoch 24/200\n",
      "1225/1225 [==============================] - 62s 51ms/step - loss: 0.5324 - accuracy: 0.7095 - val_loss: 0.5436 - val_accuracy: 0.6974\n",
      "Epoch 25/200\n",
      "1225/1225 [==============================] - 62s 51ms/step - loss: 0.5294 - accuracy: 0.7103 - val_loss: 0.5225 - val_accuracy: 0.7081\n",
      "Epoch 26/200\n",
      "1225/1225 [==============================] - 62s 50ms/step - loss: 0.5266 - accuracy: 0.7125 - val_loss: 0.5166 - val_accuracy: 0.7114\n",
      "Epoch 27/200\n",
      "1225/1225 [==============================] - 63s 51ms/step - loss: 0.5239 - accuracy: 0.7136 - val_loss: 0.5423 - val_accuracy: 0.6961\n",
      "Epoch 28/200\n",
      "1225/1225 [==============================] - 62s 51ms/step - loss: 0.5204 - accuracy: 0.7162 - val_loss: 0.5139 - val_accuracy: 0.7148\n",
      "Epoch 29/200\n",
      "1225/1225 [==============================] - 63s 52ms/step - loss: 0.5180 - accuracy: 0.7171 - val_loss: 0.5065 - val_accuracy: 0.7197\n",
      "Epoch 30/200\n",
      "1225/1225 [==============================] - 62s 50ms/step - loss: 0.5144 - accuracy: 0.7192 - val_loss: 0.5049 - val_accuracy: 0.7256\n",
      "Epoch 31/200\n",
      "1225/1225 [==============================] - 63s 51ms/step - loss: 0.5101 - accuracy: 0.7198 - val_loss: 0.5015 - val_accuracy: 0.7122\n",
      "Epoch 32/200\n",
      "1225/1225 [==============================] - 62s 50ms/step - loss: 0.5070 - accuracy: 0.7230 - val_loss: 0.4954 - val_accuracy: 0.7168\n",
      "Epoch 33/200\n",
      "1225/1225 [==============================] - 63s 51ms/step - loss: 0.5032 - accuracy: 0.7247 - val_loss: 0.5054 - val_accuracy: 0.7156\n",
      "Epoch 34/200\n",
      "1225/1225 [==============================] - 62s 50ms/step - loss: 0.5005 - accuracy: 0.7271 - val_loss: 0.5174 - val_accuracy: 0.7257\n",
      "Epoch 35/200\n",
      "1225/1225 [==============================] - 63s 52ms/step - loss: 0.4972 - accuracy: 0.7265 - val_loss: 0.4855 - val_accuracy: 0.7279\n",
      "Epoch 36/200\n",
      "1225/1225 [==============================] - 62s 50ms/step - loss: 0.4934 - accuracy: 0.7271 - val_loss: 0.4854 - val_accuracy: 0.7303\n",
      "Epoch 37/200\n",
      "1225/1225 [==============================] - 62s 51ms/step - loss: 0.4904 - accuracy: 0.7283 - val_loss: 0.4803 - val_accuracy: 0.7351\n",
      "Epoch 38/200\n",
      "1225/1225 [==============================] - 62s 51ms/step - loss: 0.4873 - accuracy: 0.7322 - val_loss: 0.4759 - val_accuracy: 0.7367\n",
      "Epoch 39/200\n",
      "1225/1225 [==============================] - 62s 51ms/step - loss: 0.4836 - accuracy: 0.7355 - val_loss: 0.4869 - val_accuracy: 0.7348\n",
      "Epoch 40/200\n",
      "1225/1225 [==============================] - 63s 51ms/step - loss: 0.4806 - accuracy: 0.7349 - val_loss: 0.4795 - val_accuracy: 0.7479\n",
      "Epoch 41/200\n",
      "1225/1225 [==============================] - 62s 51ms/step - loss: 0.4773 - accuracy: 0.7364 - val_loss: 0.4740 - val_accuracy: 0.7382\n",
      "Epoch 42/200\n",
      "1225/1225 [==============================] - 61s 50ms/step - loss: 0.4750 - accuracy: 0.7375 - val_loss: 0.4664 - val_accuracy: 0.7280\n",
      "Epoch 43/200\n",
      "1225/1225 [==============================] - 63s 52ms/step - loss: 0.4726 - accuracy: 0.7364 - val_loss: 0.4621 - val_accuracy: 0.7362\n",
      "Epoch 44/200\n",
      "1225/1225 [==============================] - 62s 51ms/step - loss: 0.4699 - accuracy: 0.7375 - val_loss: 0.4635 - val_accuracy: 0.7392\n",
      "Epoch 45/200\n",
      "1225/1225 [==============================] - 63s 51ms/step - loss: 0.4674 - accuracy: 0.7386 - val_loss: 0.4560 - val_accuracy: 0.7448\n",
      "Epoch 46/200\n",
      "1225/1225 [==============================] - 63s 52ms/step - loss: 0.4649 - accuracy: 0.7432 - val_loss: 0.4735 - val_accuracy: 0.7413\n",
      "Epoch 47/200\n",
      "1225/1225 [==============================] - 63s 51ms/step - loss: 0.4633 - accuracy: 0.7411 - val_loss: 0.4582 - val_accuracy: 0.7450\n",
      "Epoch 48/200\n",
      "1225/1225 [==============================] - 63s 51ms/step - loss: 0.4610 - accuracy: 0.7462 - val_loss: 0.4616 - val_accuracy: 0.7338\n",
      "Epoch 49/200\n",
      "1225/1225 [==============================] - 63s 51ms/step - loss: 0.4592 - accuracy: 0.7451 - val_loss: 0.4473 - val_accuracy: 0.7459\n",
      "Epoch 50/200\n",
      "1225/1225 [==============================] - 63s 51ms/step - loss: 0.4581 - accuracy: 0.7441 - val_loss: 0.4554 - val_accuracy: 0.7541\n",
      "Epoch 51/200\n",
      "1225/1225 [==============================] - 63s 51ms/step - loss: 0.4562 - accuracy: 0.7504 - val_loss: 0.4530 - val_accuracy: 0.7535\n",
      "Epoch 52/200\n",
      "1225/1225 [==============================] - 62s 51ms/step - loss: 0.4546 - accuracy: 0.7499 - val_loss: 0.4517 - val_accuracy: 0.7539\n",
      "Epoch 53/200\n",
      "1225/1225 [==============================] - 62s 50ms/step - loss: 0.4530 - accuracy: 0.7494 - val_loss: 0.4577 - val_accuracy: 0.7494\n",
      "Epoch 54/200\n",
      "1225/1225 [==============================] - 62s 51ms/step - loss: 0.4509 - accuracy: 0.7492 - val_loss: 0.4435 - val_accuracy: 0.7497\n",
      "Epoch 55/200\n",
      "1225/1225 [==============================] - 62s 51ms/step - loss: 0.4506 - accuracy: 0.7504 - val_loss: 0.4436 - val_accuracy: 0.7498\n",
      "Epoch 56/200\n",
      "1225/1225 [==============================] - 62s 51ms/step - loss: 0.4487 - accuracy: 0.7541 - val_loss: 0.4391 - val_accuracy: 0.7509\n",
      "Epoch 57/200\n",
      "1225/1225 [==============================] - 62s 51ms/step - loss: 0.4471 - accuracy: 0.7518 - val_loss: 0.4415 - val_accuracy: 0.7542\n",
      "Epoch 58/200\n",
      "1225/1225 [==============================] - 62s 51ms/step - loss: 0.4458 - accuracy: 0.7566 - val_loss: 0.4605 - val_accuracy: 0.7410\n",
      "Epoch 59/200\n",
      "1225/1225 [==============================] - 62s 50ms/step - loss: 0.4449 - accuracy: 0.7511 - val_loss: 0.4373 - val_accuracy: 0.7526\n",
      "Epoch 60/200\n",
      "1225/1225 [==============================] - 63s 51ms/step - loss: 0.4443 - accuracy: 0.7544 - val_loss: 0.4391 - val_accuracy: 0.7517\n",
      "Epoch 61/200\n",
      "1225/1225 [==============================] - 62s 51ms/step - loss: 0.4434 - accuracy: 0.7538 - val_loss: 0.4466 - val_accuracy: 0.7508\n",
      "Epoch 62/200\n",
      "1225/1225 [==============================] - 62s 51ms/step - loss: 0.4424 - accuracy: 0.7546 - val_loss: 0.4367 - val_accuracy: 0.7648\n",
      "Epoch 63/200\n",
      "1225/1225 [==============================] - 62s 51ms/step - loss: 0.4408 - accuracy: 0.7532 - val_loss: 0.4494 - val_accuracy: 0.7545\n",
      "Epoch 64/200\n",
      "1225/1225 [==============================] - 63s 51ms/step - loss: 0.4406 - accuracy: 0.7536 - val_loss: 0.4325 - val_accuracy: 0.7582\n",
      "Epoch 65/200\n",
      "1225/1225 [==============================] - 62s 51ms/step - loss: 0.4399 - accuracy: 0.7576 - val_loss: 0.4373 - val_accuracy: 0.7642\n",
      "Epoch 66/200\n",
      "1225/1225 [==============================] - 63s 51ms/step - loss: 0.4382 - accuracy: 0.7603 - val_loss: 0.4342 - val_accuracy: 0.7633\n",
      "Epoch 67/200\n",
      "1225/1225 [==============================] - 62s 51ms/step - loss: 0.4381 - accuracy: 0.7585 - val_loss: 0.4338 - val_accuracy: 0.7578\n",
      "Epoch 68/200\n",
      "1225/1225 [==============================] - 62s 51ms/step - loss: 0.4367 - accuracy: 0.7574 - val_loss: 0.4262 - val_accuracy: 0.7619\n",
      "Epoch 69/200\n",
      "1225/1225 [==============================] - 62s 50ms/step - loss: 0.4370 - accuracy: 0.7583 - val_loss: 0.4284 - val_accuracy: 0.7615\n",
      "Epoch 70/200\n",
      "1225/1225 [==============================] - 63s 51ms/step - loss: 0.4355 - accuracy: 0.7611 - val_loss: 0.4595 - val_accuracy: 0.7530\n",
      "Epoch 71/200\n",
      "1225/1225 [==============================] - 62s 51ms/step - loss: 0.4357 - accuracy: 0.7627 - val_loss: 0.4265 - val_accuracy: 0.7593\n",
      "Epoch 72/200\n",
      "1225/1225 [==============================] - 63s 51ms/step - loss: 0.4348 - accuracy: 0.7590 - val_loss: 0.4225 - val_accuracy: 0.7703\n",
      "Epoch 73/200\n",
      "1225/1225 [==============================] - 62s 50ms/step - loss: 0.4343 - accuracy: 0.7627 - val_loss: 0.4250 - val_accuracy: 0.7591\n",
      "Epoch 74/200\n",
      "1225/1225 [==============================] - 61s 50ms/step - loss: 0.4335 - accuracy: 0.7621 - val_loss: 0.4274 - val_accuracy: 0.7647\n",
      "Epoch 75/200\n",
      "1225/1225 [==============================] - 63s 51ms/step - loss: 0.4329 - accuracy: 0.7619 - val_loss: 0.4368 - val_accuracy: 0.7489\n",
      "Epoch 76/200\n",
      "1225/1225 [==============================] - 62s 50ms/step - loss: 0.4326 - accuracy: 0.7638 - val_loss: 0.4306 - val_accuracy: 0.7632\n",
      "Epoch 77/200\n",
      "1225/1225 [==============================] - 63s 51ms/step - loss: 0.4320 - accuracy: 0.7612 - val_loss: 0.4290 - val_accuracy: 0.7591\n",
      "Epoch 78/200\n",
      "1225/1225 [==============================] - 62s 51ms/step - loss: 0.4313 - accuracy: 0.7663 - val_loss: 0.4277 - val_accuracy: 0.7626\n",
      "Epoch 79/200\n",
      "1225/1225 [==============================] - 62s 50ms/step - loss: 0.4307 - accuracy: 0.7617 - val_loss: 0.4297 - val_accuracy: 0.7625\n",
      "Epoch 80/200\n",
      "1225/1225 [==============================] - 62s 50ms/step - loss: 0.4297 - accuracy: 0.7640 - val_loss: 0.4269 - val_accuracy: 0.7636\n",
      "Epoch 81/200\n",
      "1225/1225 [==============================] - 63s 51ms/step - loss: 0.4298 - accuracy: 0.7604 - val_loss: 0.4308 - val_accuracy: 0.7686\n",
      "Epoch 82/200\n",
      "1225/1225 [==============================] - 63s 51ms/step - loss: 0.4289 - accuracy: 0.7649 - val_loss: 0.4232 - val_accuracy: 0.7697\n",
      "Epoch 83/200\n",
      "1225/1225 [==============================] - 62s 51ms/step - loss: 0.4282 - accuracy: 0.7657 - val_loss: 0.4322 - val_accuracy: 0.7557\n",
      "Epoch 84/200\n",
      "1225/1225 [==============================] - 63s 51ms/step - loss: 0.4277 - accuracy: 0.7644 - val_loss: 0.4423 - val_accuracy: 0.7570\n",
      "Epoch 85/200\n",
      "1225/1225 [==============================] - 62s 51ms/step - loss: 0.4276 - accuracy: 0.7646 - val_loss: 0.4180 - val_accuracy: 0.7651\n",
      "Epoch 86/200\n",
      "1225/1225 [==============================] - 62s 51ms/step - loss: 0.4269 - accuracy: 0.7646 - val_loss: 0.4231 - val_accuracy: 0.7764\n",
      "Epoch 87/200\n",
      "1225/1225 [==============================] - 62s 51ms/step - loss: 0.4262 - accuracy: 0.7701 - val_loss: 0.4309 - val_accuracy: 0.7667\n",
      "Epoch 88/200\n",
      "1225/1225 [==============================] - 62s 51ms/step - loss: 0.4253 - accuracy: 0.7669 - val_loss: 0.4327 - val_accuracy: 0.7640\n",
      "Epoch 89/200\n",
      "1225/1225 [==============================] - 63s 51ms/step - loss: 0.4255 - accuracy: 0.7655 - val_loss: 0.4295 - val_accuracy: 0.7705\n",
      "Epoch 90/200\n",
      "1225/1225 [==============================] - 62s 51ms/step - loss: 0.4251 - accuracy: 0.7710 - val_loss: 0.4327 - val_accuracy: 0.7669\n",
      "Epoch 91/200\n",
      "1225/1225 [==============================] - 63s 51ms/step - loss: 0.4246 - accuracy: 0.7672 - val_loss: 0.4181 - val_accuracy: 0.7712\n",
      "Epoch 92/200\n",
      "1225/1225 [==============================] - 62s 51ms/step - loss: 0.4241 - accuracy: 0.7682 - val_loss: 0.4280 - val_accuracy: 0.7638\n",
      "Epoch 93/200\n",
      "1225/1225 [==============================] - 62s 51ms/step - loss: 0.4231 - accuracy: 0.7714 - val_loss: 0.4130 - val_accuracy: 0.7755\n",
      "Epoch 94/200\n",
      "1225/1225 [==============================] - 63s 51ms/step - loss: 0.4234 - accuracy: 0.7715 - val_loss: 0.4107 - val_accuracy: 0.7726\n",
      "Epoch 95/200\n",
      "1225/1225 [==============================] - 62s 51ms/step - loss: 0.4232 - accuracy: 0.7693 - val_loss: 0.4128 - val_accuracy: 0.7723\n",
      "Epoch 96/200\n",
      "1225/1225 [==============================] - 62s 51ms/step - loss: 0.4228 - accuracy: 0.7694 - val_loss: 0.4151 - val_accuracy: 0.7722\n",
      "Epoch 97/200\n",
      "1225/1225 [==============================] - 62s 51ms/step - loss: 0.4224 - accuracy: 0.7712 - val_loss: 0.4222 - val_accuracy: 0.7619\n",
      "Epoch 98/200\n",
      "1225/1225 [==============================] - 63s 52ms/step - loss: 0.4219 - accuracy: 0.7677 - val_loss: 0.4253 - val_accuracy: 0.7718\n",
      "Epoch 99/200\n",
      "1225/1225 [==============================] - 62s 50ms/step - loss: 0.4221 - accuracy: 0.7710 - val_loss: 0.4205 - val_accuracy: 0.7761\n",
      "Epoch 100/200\n",
      "1225/1225 [==============================] - 61s 50ms/step - loss: 0.4212 - accuracy: 0.7709 - val_loss: 0.4117 - val_accuracy: 0.7707\n",
      "Epoch 101/200\n",
      "1225/1225 [==============================] - 62s 51ms/step - loss: 0.4208 - accuracy: 0.7696 - val_loss: 0.4140 - val_accuracy: 0.7792\n",
      "Epoch 102/200\n",
      "1225/1225 [==============================] - 63s 51ms/step - loss: 0.4200 - accuracy: 0.7713 - val_loss: 0.4155 - val_accuracy: 0.7650\n",
      "Epoch 103/200\n",
      "1225/1225 [==============================] - 62s 51ms/step - loss: 0.4196 - accuracy: 0.7709 - val_loss: 0.4157 - val_accuracy: 0.7867\n",
      "Epoch 104/200\n",
      "1225/1225 [==============================] - 62s 51ms/step - loss: 0.4192 - accuracy: 0.7756 - val_loss: 0.4176 - val_accuracy: 0.7752\n",
      "Epoch 105/200\n",
      "1225/1225 [==============================] - 62s 51ms/step - loss: 0.4185 - accuracy: 0.7750 - val_loss: 0.4161 - val_accuracy: 0.7775\n",
      "Epoch 106/200\n",
      "1225/1225 [==============================] - 63s 51ms/step - loss: 0.4191 - accuracy: 0.7712 - val_loss: 0.4053 - val_accuracy: 0.7731\n",
      "Epoch 107/200\n",
      "1225/1225 [==============================] - 63s 51ms/step - loss: 0.4187 - accuracy: 0.7694 - val_loss: 0.4075 - val_accuracy: 0.7739\n",
      "Epoch 108/200\n",
      "1225/1225 [==============================] - 63s 51ms/step - loss: 0.4183 - accuracy: 0.7739 - val_loss: 0.4199 - val_accuracy: 0.7802\n",
      "Epoch 109/200\n",
      "1225/1225 [==============================] - 62s 51ms/step - loss: 0.4170 - accuracy: 0.7718 - val_loss: 0.4218 - val_accuracy: 0.7639\n",
      "Epoch 110/200\n",
      "1225/1225 [==============================] - 62s 51ms/step - loss: 0.4173 - accuracy: 0.7718 - val_loss: 0.4055 - val_accuracy: 0.7771\n",
      "Epoch 111/200\n"
     ]
    },
    {
     "name": "stdout",
     "output_type": "stream",
     "text": [
      "1225/1225 [==============================] - 62s 51ms/step - loss: 0.4169 - accuracy: 0.7730 - val_loss: 0.4085 - val_accuracy: 0.7787\n",
      "Epoch 112/200\n",
      "1225/1225 [==============================] - 63s 51ms/step - loss: 0.4169 - accuracy: 0.7738 - val_loss: 0.4040 - val_accuracy: 0.7814\n",
      "Epoch 113/200\n",
      "1225/1225 [==============================] - 62s 51ms/step - loss: 0.4164 - accuracy: 0.7740 - val_loss: 0.4035 - val_accuracy: 0.7778\n",
      "Epoch 114/200\n",
      "1225/1225 [==============================] - 62s 50ms/step - loss: 0.4166 - accuracy: 0.7746 - val_loss: 0.4335 - val_accuracy: 0.7680\n",
      "Epoch 115/200\n",
      "1225/1225 [==============================] - 62s 51ms/step - loss: 0.4163 - accuracy: 0.7753 - val_loss: 0.4046 - val_accuracy: 0.7754\n",
      "Epoch 116/200\n",
      "1225/1225 [==============================] - 62s 51ms/step - loss: 0.4153 - accuracy: 0.7742 - val_loss: 0.4100 - val_accuracy: 0.7692\n",
      "Epoch 117/200\n",
      "1225/1225 [==============================] - 62s 50ms/step - loss: 0.4161 - accuracy: 0.7726 - val_loss: 0.4214 - val_accuracy: 0.7753\n",
      "Epoch 118/200\n",
      "1225/1225 [==============================] - 63s 52ms/step - loss: 0.4147 - accuracy: 0.7754 - val_loss: 0.4070 - val_accuracy: 0.7783\n",
      "Epoch 119/200\n",
      "1225/1225 [==============================] - 61s 50ms/step - loss: 0.4148 - accuracy: 0.7752 - val_loss: 0.4046 - val_accuracy: 0.7742\n",
      "Epoch 120/200\n",
      "1225/1225 [==============================] - 64s 52ms/step - loss: 0.4147 - accuracy: 0.7740 - val_loss: 0.4190 - val_accuracy: 0.7729\n",
      "Epoch 121/200\n",
      "1225/1225 [==============================] - 62s 51ms/step - loss: 0.4149 - accuracy: 0.7760 - val_loss: 0.4035 - val_accuracy: 0.7795\n",
      "Epoch 122/200\n",
      "1225/1225 [==============================] - 62s 50ms/step - loss: 0.4142 - accuracy: 0.7769 - val_loss: 0.4214 - val_accuracy: 0.7810\n",
      "Epoch 123/200\n",
      "1225/1225 [==============================] - 62s 50ms/step - loss: 0.4142 - accuracy: 0.7799 - val_loss: 0.4147 - val_accuracy: 0.7699\n",
      "Epoch 124/200\n",
      "1225/1225 [==============================] - 62s 51ms/step - loss: 0.4129 - accuracy: 0.7767 - val_loss: 0.4103 - val_accuracy: 0.7757\n",
      "Epoch 125/200\n",
      "1225/1225 [==============================] - 62s 51ms/step - loss: 0.4133 - accuracy: 0.7773 - val_loss: 0.4018 - val_accuracy: 0.7836\n",
      "Epoch 126/200\n",
      "1225/1225 [==============================] - 62s 51ms/step - loss: 0.4122 - accuracy: 0.7759 - val_loss: 0.4092 - val_accuracy: 0.7862\n",
      "Epoch 127/200\n",
      "1225/1225 [==============================] - 62s 51ms/step - loss: 0.4128 - accuracy: 0.7766 - val_loss: 0.4124 - val_accuracy: 0.7802\n",
      "Epoch 128/200\n",
      "1225/1225 [==============================] - 62s 51ms/step - loss: 0.4126 - accuracy: 0.7746 - val_loss: 0.4165 - val_accuracy: 0.7822\n",
      "Epoch 129/200\n",
      "1225/1225 [==============================] - 62s 51ms/step - loss: 0.4115 - accuracy: 0.7786 - val_loss: 0.4130 - val_accuracy: 0.7756\n",
      "Epoch 130/200\n",
      "1225/1225 [==============================] - 62s 51ms/step - loss: 0.4122 - accuracy: 0.7740 - val_loss: 0.4109 - val_accuracy: 0.7827\n",
      "Epoch 131/200\n",
      "1225/1225 [==============================] - 63s 51ms/step - loss: 0.4122 - accuracy: 0.7750 - val_loss: 0.4094 - val_accuracy: 0.7859\n",
      "Epoch 132/200\n",
      "1225/1225 [==============================] - 63s 52ms/step - loss: 0.4114 - accuracy: 0.7761 - val_loss: 0.4130 - val_accuracy: 0.7776\n",
      "Epoch 133/200\n",
      "1225/1225 [==============================] - 63s 51ms/step - loss: 0.4108 - accuracy: 0.7785 - val_loss: 0.4010 - val_accuracy: 0.7765\n",
      "Epoch 134/200\n",
      "1225/1225 [==============================] - 62s 51ms/step - loss: 0.4107 - accuracy: 0.7764 - val_loss: 0.4027 - val_accuracy: 0.7799\n",
      "Epoch 135/200\n",
      "1225/1225 [==============================] - 63s 51ms/step - loss: 0.4103 - accuracy: 0.7809 - val_loss: 0.4125 - val_accuracy: 0.7735\n",
      "Epoch 136/200\n",
      "1225/1225 [==============================] - 62s 51ms/step - loss: 0.4110 - accuracy: 0.7765 - val_loss: 0.3991 - val_accuracy: 0.7794\n",
      "Epoch 137/200\n",
      "1225/1225 [==============================] - 62s 51ms/step - loss: 0.4104 - accuracy: 0.7778 - val_loss: 0.3969 - val_accuracy: 0.7807\n",
      "Epoch 138/200\n",
      "1225/1225 [==============================] - 62s 50ms/step - loss: 0.4095 - accuracy: 0.7785 - val_loss: 0.4012 - val_accuracy: 0.7819\n",
      "Epoch 139/200\n",
      "1225/1225 [==============================] - 63s 51ms/step - loss: 0.4101 - accuracy: 0.7780 - val_loss: 0.4009 - val_accuracy: 0.7786\n",
      "Epoch 140/200\n",
      "1225/1225 [==============================] - 62s 51ms/step - loss: 0.4101 - accuracy: 0.7790 - val_loss: 0.3965 - val_accuracy: 0.7853\n",
      "Epoch 141/200\n",
      "1225/1225 [==============================] - 63s 51ms/step - loss: 0.4094 - accuracy: 0.7791 - val_loss: 0.4153 - val_accuracy: 0.7792\n",
      "Epoch 142/200\n",
      "1225/1225 [==============================] - 62s 51ms/step - loss: 0.4095 - accuracy: 0.7794 - val_loss: 0.4000 - val_accuracy: 0.7794\n",
      "Epoch 143/200\n",
      "1225/1225 [==============================] - 62s 51ms/step - loss: 0.4097 - accuracy: 0.7793 - val_loss: 0.4176 - val_accuracy: 0.7675\n",
      "Epoch 144/200\n",
      "1225/1225 [==============================] - 63s 52ms/step - loss: 0.4098 - accuracy: 0.7782 - val_loss: 0.3962 - val_accuracy: 0.7784\n",
      "Epoch 145/200\n",
      "1225/1225 [==============================] - 63s 51ms/step - loss: 0.4085 - accuracy: 0.7797 - val_loss: 0.4036 - val_accuracy: 0.7844\n",
      "Epoch 146/200\n",
      "1225/1225 [==============================] - 62s 51ms/step - loss: 0.4094 - accuracy: 0.7786 - val_loss: 0.4012 - val_accuracy: 0.7807\n",
      "Epoch 147/200\n",
      "1225/1225 [==============================] - 62s 51ms/step - loss: 0.4081 - accuracy: 0.7781 - val_loss: 0.4095 - val_accuracy: 0.7843\n",
      "Epoch 148/200\n",
      "1225/1225 [==============================] - 62s 51ms/step - loss: 0.4093 - accuracy: 0.7807 - val_loss: 0.4000 - val_accuracy: 0.7789\n",
      "Epoch 149/200\n",
      "1225/1225 [==============================] - 62s 50ms/step - loss: 0.4086 - accuracy: 0.7786 - val_loss: 0.4062 - val_accuracy: 0.7792\n",
      "Epoch 150/200\n",
      "1225/1225 [==============================] - 63s 51ms/step - loss: 0.4084 - accuracy: 0.7814 - val_loss: 0.4009 - val_accuracy: 0.7830\n",
      "Epoch 151/200\n",
      "1225/1225 [==============================] - 62s 51ms/step - loss: 0.4075 - accuracy: 0.7801 - val_loss: 0.3994 - val_accuracy: 0.7750\n",
      "Epoch 152/200\n",
      "1225/1225 [==============================] - 63s 51ms/step - loss: 0.4086 - accuracy: 0.7796 - val_loss: 0.4026 - val_accuracy: 0.7766\n",
      "Epoch 153/200\n",
      "1225/1225 [==============================] - 62s 50ms/step - loss: 0.4083 - accuracy: 0.7779 - val_loss: 0.4041 - val_accuracy: 0.7789\n",
      "Epoch 154/200\n",
      "1225/1225 [==============================] - 63s 51ms/step - loss: 0.4082 - accuracy: 0.7786 - val_loss: 0.4118 - val_accuracy: 0.7769\n",
      "Epoch 155/200\n",
      "1225/1225 [==============================] - 62s 50ms/step - loss: 0.4087 - accuracy: 0.7806 - val_loss: 0.4183 - val_accuracy: 0.7854\n",
      "Epoch 156/200\n",
      "1225/1225 [==============================] - 64s 52ms/step - loss: 0.4077 - accuracy: 0.7800 - val_loss: 0.4018 - val_accuracy: 0.7815\n",
      "Epoch 157/200\n",
      "1225/1225 [==============================] - 60s 49ms/step - loss: 0.4080 - accuracy: 0.7789 - val_loss: 0.3980 - val_accuracy: 0.7814\n",
      "Epoch 158/200\n",
      "1225/1225 [==============================] - 63s 51ms/step - loss: 0.4078 - accuracy: 0.7812 - val_loss: 0.3971 - val_accuracy: 0.7819\n",
      "Epoch 159/200\n",
      "1225/1225 [==============================] - 63s 51ms/step - loss: 0.4073 - accuracy: 0.7799 - val_loss: 0.3962 - val_accuracy: 0.7697\n",
      "Epoch 160/200\n",
      "1225/1225 [==============================] - 62s 51ms/step - loss: 0.4077 - accuracy: 0.7783 - val_loss: 0.4059 - val_accuracy: 0.7823\n",
      "Epoch 161/200\n",
      "1225/1225 [==============================] - 63s 52ms/step - loss: 0.4068 - accuracy: 0.7807 - val_loss: 0.4045 - val_accuracy: 0.7816\n",
      "Epoch 162/200\n",
      "1225/1225 [==============================] - 63s 51ms/step - loss: 0.4064 - accuracy: 0.7812 - val_loss: 0.4088 - val_accuracy: 0.7795\n",
      "Epoch 163/200\n",
      "1225/1225 [==============================] - 62s 50ms/step - loss: 0.4071 - accuracy: 0.7804 - val_loss: 0.4073 - val_accuracy: 0.7863\n",
      "Epoch 164/200\n",
      "1225/1225 [==============================] - 63s 51ms/step - loss: 0.4072 - accuracy: 0.7837 - val_loss: 0.4033 - val_accuracy: 0.7717\n",
      "Epoch 165/200\n",
      "1225/1225 [==============================] - 62s 51ms/step - loss: 0.4068 - accuracy: 0.7825 - val_loss: 0.3948 - val_accuracy: 0.7894\n",
      "Epoch 166/200\n"
     ]
    },
    {
     "name": "stdout",
     "output_type": "stream",
     "text": [
      "1225/1225 [==============================] - 63s 51ms/step - loss: 0.4068 - accuracy: 0.7823 - val_loss: 0.3955 - val_accuracy: 0.7784\n",
      "Epoch 167/200\n",
      "1225/1225 [==============================] - 62s 51ms/step - loss: 0.4053 - accuracy: 0.7771 - val_loss: 0.4026 - val_accuracy: 0.7757\n",
      "Epoch 168/200\n",
      "1225/1225 [==============================] - 64s 52ms/step - loss: 0.4055 - accuracy: 0.7788 - val_loss: 0.4109 - val_accuracy: 0.7847\n",
      "Epoch 169/200\n",
      "1225/1225 [==============================] - 62s 51ms/step - loss: 0.4057 - accuracy: 0.7815 - val_loss: 0.4003 - val_accuracy: 0.7795\n",
      "Epoch 170/200\n",
      "1225/1225 [==============================] - 63s 51ms/step - loss: 0.4062 - accuracy: 0.7774 - val_loss: 0.3966 - val_accuracy: 0.7894\n",
      "Epoch 171/200\n",
      "1225/1225 [==============================] - 62s 51ms/step - loss: 0.4058 - accuracy: 0.7813 - val_loss: 0.3979 - val_accuracy: 0.7811\n",
      "Epoch 172/200\n",
      "1225/1225 [==============================] - 62s 51ms/step - loss: 0.4058 - accuracy: 0.7814 - val_loss: 0.3940 - val_accuracy: 0.7786\n",
      "Epoch 173/200\n",
      "1225/1225 [==============================] - 63s 51ms/step - loss: 0.4053 - accuracy: 0.7831 - val_loss: 0.3970 - val_accuracy: 0.7761\n",
      "Epoch 174/200\n",
      "1225/1225 [==============================] - 62s 51ms/step - loss: 0.4052 - accuracy: 0.7813 - val_loss: 0.4057 - val_accuracy: 0.7801\n",
      "Epoch 175/200\n",
      "1225/1225 [==============================] - 63s 51ms/step - loss: 0.4052 - accuracy: 0.7826 - val_loss: 0.3995 - val_accuracy: 0.7876\n",
      "Epoch 176/200\n",
      "1225/1225 [==============================] - 62s 51ms/step - loss: 0.4049 - accuracy: 0.7813 - val_loss: 0.4217 - val_accuracy: 0.7604\n",
      "Epoch 177/200\n",
      "1225/1225 [==============================] - 63s 52ms/step - loss: 0.4041 - accuracy: 0.7828 - val_loss: 0.4396 - val_accuracy: 0.7710\n",
      "Epoch 178/200\n",
      "1225/1225 [==============================] - 62s 51ms/step - loss: 0.4045 - accuracy: 0.7821 - val_loss: 0.4229 - val_accuracy: 0.7810\n",
      "Epoch 179/200\n",
      "1225/1225 [==============================] - 62s 50ms/step - loss: 0.4044 - accuracy: 0.7836 - val_loss: 0.3915 - val_accuracy: 0.7828\n",
      "Epoch 180/200\n",
      "1225/1225 [==============================] - 63s 52ms/step - loss: 0.4041 - accuracy: 0.7828 - val_loss: 0.4096 - val_accuracy: 0.7882\n",
      "Epoch 181/200\n",
      "1225/1225 [==============================] - 63s 52ms/step - loss: 0.4045 - accuracy: 0.7831 - val_loss: 0.4340 - val_accuracy: 0.7813\n",
      "Epoch 182/200\n",
      "1225/1225 [==============================] - 63s 51ms/step - loss: 0.4043 - accuracy: 0.7818 - val_loss: 0.3948 - val_accuracy: 0.7783\n",
      "Epoch 183/200\n",
      "1225/1225 [==============================] - 62s 51ms/step - loss: 0.4032 - accuracy: 0.7848 - val_loss: 0.3978 - val_accuracy: 0.7915\n",
      "Epoch 184/200\n",
      "1225/1225 [==============================] - 62s 51ms/step - loss: 0.4035 - accuracy: 0.7823 - val_loss: 0.4082 - val_accuracy: 0.7820\n",
      "Epoch 185/200\n",
      "1225/1225 [==============================] - 62s 51ms/step - loss: 0.4032 - accuracy: 0.7836 - val_loss: 0.4278 - val_accuracy: 0.7750\n",
      "Epoch 186/200\n",
      "1225/1225 [==============================] - 62s 51ms/step - loss: 0.4038 - accuracy: 0.7830 - val_loss: 0.3950 - val_accuracy: 0.7841\n",
      "Epoch 187/200\n",
      "1225/1225 [==============================] - 63s 52ms/step - loss: 0.4027 - accuracy: 0.7840 - val_loss: 0.3977 - val_accuracy: 0.7874\n",
      "Epoch 188/200\n",
      "1225/1225 [==============================] - 62s 50ms/step - loss: 0.4032 - accuracy: 0.7854 - val_loss: 0.3926 - val_accuracy: 0.7815\n",
      "Epoch 189/200\n",
      "1225/1225 [==============================] - 62s 51ms/step - loss: 0.4034 - accuracy: 0.7810 - val_loss: 0.3997 - val_accuracy: 0.7923\n",
      "Epoch 190/200\n",
      "1225/1225 [==============================] - 62s 50ms/step - loss: 0.4030 - accuracy: 0.7807 - val_loss: 0.3918 - val_accuracy: 0.7902\n",
      "Epoch 191/200\n",
      "1225/1225 [==============================] - 62s 51ms/step - loss: 0.4024 - accuracy: 0.7834 - val_loss: 0.3984 - val_accuracy: 0.7880\n",
      "Epoch 192/200\n",
      "1225/1225 [==============================] - 63s 51ms/step - loss: 0.4022 - accuracy: 0.7822 - val_loss: 0.3929 - val_accuracy: 0.7854\n",
      "Epoch 193/200\n",
      "1225/1225 [==============================] - 63s 51ms/step - loss: 0.4016 - accuracy: 0.7823 - val_loss: 0.3901 - val_accuracy: 0.7874\n",
      "Epoch 194/200\n",
      "1225/1225 [==============================] - 62s 51ms/step - loss: 0.4020 - accuracy: 0.7841 - val_loss: 0.3908 - val_accuracy: 0.7857\n",
      "Epoch 195/200\n",
      "1225/1225 [==============================] - 62s 51ms/step - loss: 0.4019 - accuracy: 0.7816 - val_loss: 0.3899 - val_accuracy: 0.7861\n",
      "Epoch 196/200\n",
      "1225/1225 [==============================] - 63s 51ms/step - loss: 0.4010 - accuracy: 0.7867 - val_loss: 0.3955 - val_accuracy: 0.7854\n",
      "Epoch 197/200\n",
      "1225/1225 [==============================] - 63s 51ms/step - loss: 0.4010 - accuracy: 0.7854 - val_loss: 0.3976 - val_accuracy: 0.7954\n",
      "Epoch 198/200\n",
      "1225/1225 [==============================] - 63s 51ms/step - loss: 0.4010 - accuracy: 0.7845 - val_loss: 0.3981 - val_accuracy: 0.7757\n",
      "Epoch 199/200\n",
      "1225/1225 [==============================] - 63s 51ms/step - loss: 0.4005 - accuracy: 0.7816 - val_loss: 0.3946 - val_accuracy: 0.7907\n",
      "Epoch 200/200\n",
      "1225/1225 [==============================] - 62s 50ms/step - loss: 0.4005 - accuracy: 0.7828 - val_loss: 0.4014 - val_accuracy: 0.7871\n"
     ]
    }
   ],
   "source": [
    "history = bnn.fit( xTrain, y, epochs=200, verbose=1, \n",
    "                  use_multiprocessing=True, validation_split=0.2)"
   ]
  },
  {
   "cell_type": "code",
   "execution_count": 12,
   "metadata": {},
   "outputs": [
    {
     "data": {
      "text/plain": [
       "<matplotlib.legend.Legend at 0x7f4811afe190>"
      ]
     },
     "execution_count": 12,
     "metadata": {},
     "output_type": "execute_result"
    },
    {
     "data": {
      "image/png": "[encoded data removed]",
      "text/plain": [
       "<Figure size 432x288 with 1 Axes>"
      ]
     },
     "metadata": {
      "needs_background": "light"
     },
     "output_type": "display_data"
    }
   ],
   "source": [
    "plt.plot( history.history['accuracy'], label=\"Accuracy\")\n",
    "plt.plot( history.history['val_accuracy'], label=\"val_acc\")\n",
    "plt.title('Model Accuracy')\n",
    "plt.ylabel('Accuracy')\n",
    "plt.xlabel('Epoch')\n",
    "plt.legend()"
   ]
  },
  {
   "cell_type": "code",
   "execution_count": 13,
   "metadata": {},
   "outputs": [
    {
     "data": {
      "text/plain": [
       "<matplotlib.legend.Legend at 0x7f4811d1df10>"
      ]
     },
     "execution_count": 13,
     "metadata": {},
     "output_type": "execute_result"
    },
    {
     "data": {
      "image/png": "[encoded data removed]",
      "text/plain": [
       "<Figure size 432x288 with 1 Axes>"
      ]
     },
     "metadata": {
      "needs_background": "light"
     },
     "output_type": "display_data"
    }
   ],
   "source": [
    "plt.plot( history.history['loss'], label=\"loss\")\n",
    "plt.plot( history.history['val_loss'], label=\"val_loss\")\n",
    "plt.title('Model Loss')\n",
    "plt.ylabel('Loss')\n",
    "plt.xlabel('Epoch')\n",
    "plt.legend()"
   ]
  },
  {
   "cell_type": "code",
   "execution_count": 14,
   "metadata": {},
   "outputs": [],
   "source": [
    "# serialize weights to HDF5\n",
    "bnn.save_weights(\"./model_weights_8PNN_with_sheath.h5\")"
   ]
  },
  {
   "cell_type": "code",
   "execution_count": 16,
   "metadata": {},
   "outputs": [],
   "source": [
    "from scipy.stats import entropy\n",
    "\n",
    "preds = []\n",
    "p = bnn( xTest )\n",
    "en = bnn( xTest ).entropy()\n",
    "\n",
    "for i in range( p.shape[0] ):\n",
    "    preds.append( np.argmax(p[i,:]) )"
   ]
  },
  {
   "cell_type": "code",
   "execution_count": 19,
   "metadata": {},
   "outputs": [],
   "source": [
    "font = {'weight' : 'bold', 'size'   : 24}\n",
    "plt.rc('font', **font)"
   ]
  },
  {
   "cell_type": "code",
   "execution_count": 20,
   "metadata": {
    "scrolled": false
   },
   "outputs": [
    {
     "data": {
      "text/plain": [
       "<sklearn.metrics._plot.confusion_matrix.ConfusionMatrixDisplay at 0x7f4744e23dc0>"
      ]
     },
     "execution_count": 20,
     "metadata": {},
     "output_type": "execute_result"
    },
    {
     "data": {
      "image/png": "[encoded data removed]",
      "text/plain": [
       "<Figure size 864x864 with 2 Axes>"
      ]
     },
     "metadata": {
      "needs_background": "light"
     },
     "output_type": "display_data"
    }
   ],
   "source": [
    "from sklearn.metrics import confusion_matrix, ConfusionMatrixDisplay\n",
    "\n",
    "fig, ax = plt.subplots(figsize=(12, 12))\n",
    "\n",
    "cm = confusion_matrix( yTest.astype(int), preds, normalize='true' )\n",
    "disp = ConfusionMatrixDisplay( confusion_matrix=cm )\n",
    "disp.plot(ax=ax, cmap='gist_yarg')"
   ]
  },
  {
   "cell_type": "code",
   "execution_count": 21,
   "metadata": {},
   "outputs": [
    {
     "name": "stdout",
     "output_type": "stream",
     "text": [
      "Macro F1: 0.771\n",
      "Macro Precision: 0.7775\n",
      "Macro Recall: 0.769\n",
      "Accuracy: 0.7694\n"
     ]
    }
   ],
   "source": [
    "from sklearn.metrics import f1_score\n",
    "from sklearn.metrics import recall_score\n",
    "from sklearn.metrics import precision_score\n",
    "from sklearn.metrics import accuracy_score\n",
    "\n",
    "yTest = yTest.astype(int)\n",
    "\n",
    "print( \"Macro F1:\", np.round( f1_score(yTest, preds, average='macro'), 4 ))\n",
    "print( \"Macro Precision:\", np.round( precision_score(yTest, preds, average='macro'), 4 ))\n",
    "print( \"Macro Recall:\", np.round( recall_score(yTest, preds, average='macro'), 4 ))\n",
    "print( \"Accuracy:\", np.round( accuracy_score(yTest, preds), 4 ))"
   ]
  },
  {
   "cell_type": "markdown",
   "metadata": {},
   "source": [
    "### If model already trained - Load the saved model for analysis"
   ]
  },
  {
   "cell_type": "code",
   "execution_count": 9,
   "metadata": {},
   "outputs": [],
   "source": [
    "from keras import backend as K \n",
    "\n",
    "# Keras keeps models hanging around in memory. If we retrain a model, Keras will\n",
    "# start from the previously concluded weight values. This resets everything.\n",
    "K.clear_session()\n",
    "\n",
    "bnn = create_probablistic_bnn_model( xTest.shape[0], xTest.shape[1] )\n",
    " \n",
    "# load weights into new model\n",
    "bnn.load_weights(\"./model_weights_8PNN_with_sheath.h5\")"
   ]
  },
  {
   "cell_type": "code",
   "execution_count": 10,
   "metadata": {},
   "outputs": [],
   "source": [
    "from scipy.stats import entropy\n",
    "\n",
    "preds = []\n",
    "p = bnn( xTest )\n",
    "en = bnn( xTest ).entropy()\n",
    "\n",
    "for i in range( p.shape[0] ):\n",
    "    preds.append( np.argmax(p[i,:]) )"
   ]
  },
  {
   "cell_type": "code",
   "execution_count": 17,
   "metadata": {},
   "outputs": [
    {
     "data": {
      "text/plain": [
       "Text(0.5, 1.0, 'Distribution of Prediction Uncertenties')"
      ]
     },
     "execution_count": 17,
     "metadata": {},
     "output_type": "execute_result"
    },
    {
     "data": {
      "image/png": "[encoded data removed]",
      "text/plain": [
       "<Figure size 432x288 with 1 Axes>"
      ]
     },
     "metadata": {
      "needs_background": "light"
     },
     "output_type": "display_data"
    }
   ],
   "source": [
    "en = np.array( en )\n",
    "preds = np.array( preds )\n",
    "\n",
    "c = np.where( preds == yTest.astype('int') )\n",
    "w = np.where( preds != yTest )\n",
    "plt.hist( en[c], label='Correct')\n",
    "plt.hist( en[w], label='Incorrect', alpha=0.5)\n",
    "plt.legend()\n",
    "plt.title('Distribution of Prediction Uncertenties')"
   ]
  },
  {
   "cell_type": "code",
   "execution_count": 13,
   "metadata": {},
   "outputs": [
    {
     "data": {
      "text/plain": [
       "0.7677"
      ]
     },
     "execution_count": 13,
     "metadata": {},
     "output_type": "execute_result"
    }
   ],
   "source": [
    "from sklearn.metrics import accuracy_score\n",
    "\n",
    "np.round( accuracy_score(yTest.astype(int), preds), 4 ) "
   ]
  },
  {
   "cell_type": "code",
   "execution_count": 38,
   "metadata": {},
   "outputs": [],
   "source": [
    "font = { 'weight' : 'bold', 'size'   : 12}\n",
    "plt.rc('font', **font)"
   ]
  },
  {
   "cell_type": "code",
   "execution_count": 41,
   "metadata": {},
   "outputs": [],
   "source": [
    "y = yTest.astype(int)\n",
    "preds = np.array(preds)\n",
    "\n",
    "n = len(preds)\n",
    "ens = np.arange(0.1,1.1,0.1)\n",
    "\n",
    "acs = []\n",
    "per = []\n",
    "for e in ens:\n",
    "    ix = np.where( en <= e )\n",
    "    per.append( (len(ix[0])/n)*100 )\n",
    "    acs.append( np.round( accuracy_score(y[ix], preds[ix]), 4 )*100 ) "
   ]
  },
  {
   "cell_type": "code",
   "execution_count": 45,
   "metadata": {},
   "outputs": [
    {
     "data": {
      "text/plain": [
       "<matplotlib.colorbar.Colorbar at 0x75ddc9dac9a0>"
      ]
     },
     "execution_count": 45,
     "metadata": {},
     "output_type": "execute_result"
    },
    {
     "data": {
      "image/png": "[encoded data removed]",
      "text/plain": [
       "<Figure size 432x288 with 2 Axes>"
      ]
     },
     "metadata": {
      "needs_background": "light"
     },
     "output_type": "display_data"
    }
   ],
   "source": [
    "plt.scatter( ens, acs, c=per )\n",
    "\n",
    "plt.ylim(80,100)\n",
    "plt.yticks([80,85,90,95,100])\n",
    "plt.xlabel('Uncertainty Threshold')\n",
    "plt.ylabel('Prediction Accuracy')\n",
    "plt.colorbar()"
   ]
  }
 ],
 "metadata": {
  "kernelspec": {
   "display_name": "Python 3 (ipykernel)",
   "language": "python",
   "name": "python3"
  },
  "language_info": {
   "codemirror_mode": {
    "name": "ipython",
    "version": 3
   },
   "file_extension": ".py",
   "mimetype": "text/x-python",
   "name": "python",
   "nbconvert_exporter": "python",
   "pygments_lexer": "ipython3",
   "version": "3.9.13"
  }
 },
 "nbformat": 4,
 "nbformat_minor": 2
}
