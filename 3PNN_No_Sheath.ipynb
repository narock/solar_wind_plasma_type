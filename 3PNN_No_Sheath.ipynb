{
 "cells": [
  {
   "cell_type": "code",
   "execution_count": 1,
   "metadata": {},
   "outputs": [
    {
     "name": "stderr",
     "output_type": "stream",
     "text": [
      "2024-07-11 14:06:58.814931: I tensorflow/core/platform/cpu_feature_guard.cc:182] This TensorFlow binary is optimized to use available CPU instructions in performance-critical operations.\n",
      "To enable the following instructions: AVX2 AVX512F FMA, in other operations, rebuild TensorFlow with the appropriate compiler flags.\n",
      "2024-07-11 14:07:02.026280: W tensorflow/compiler/tf2tensorrt/utils/py_utils.cc:38] TF-TRT Warning: Could not find TensorRT\n"
     ]
    }
   ],
   "source": [
    "import os\n",
    "import pywt\n",
    "import glob\n",
    "import random\n",
    "import datetime\n",
    "import numpy as np\n",
    "import pandas as pd\n",
    "from scipy.stats import entropy\n",
    "import matplotlib.pyplot as plt\n",
    "\n",
    "import tensorflow as tf\n",
    "from tensorflow import keras\n",
    "from tensorflow.keras import layers\n",
    "import tensorflow_probability as tfp\n",
    "from tensorflow.keras.models import Sequential\n",
    "from tensorflow.keras.layers import Dense\n",
    "from tensorflow.keras.optimizers import Adam"
   ]
  },
  {
   "cell_type": "markdown",
   "metadata": {},
   "source": [
    "### Load data and preprocess"
   ]
  },
  {
   "cell_type": "code",
   "execution_count": 2,
   "metadata": {},
   "outputs": [],
   "source": [
    "xTrain = np.load(\"./xTrain.npy\")\n",
    "yTrain = np.load(\"./yTrain.npy\", allow_pickle=True)\n",
    "\n",
    "xTest = np.load(\"./xTest.npy\")\n",
    "yTest = np.load(\"./yTest.npy\", allow_pickle=True)"
   ]
  },
  {
   "cell_type": "code",
   "execution_count": 3,
   "metadata": {},
   "outputs": [],
   "source": [
    "# Columns are:\n",
    "#\n",
    "# 0 = 'Beta_p'\n",
    "# 1 = 'Va'\n",
    "# 2 = 'Tratio'\n",
    "# 3 = 'entropy'\n",
    "# 4 = 'crossHelicity'\n",
    "# 5 = 'residualEnergy'\n",
    "# 6 = 'TotalPressure'\n",
    "# 7 = 'bFluctuations'"
   ]
  },
  {
   "cell_type": "code",
   "execution_count": 3,
   "metadata": {},
   "outputs": [],
   "source": [
    "remove = [0,4,5,6,7]\n",
    "xTrain = np.delete(xTrain, remove, 1) \n",
    "xTest = np.delete(xTest, remove, 1) "
   ]
  },
  {
   "cell_type": "code",
   "execution_count": 4,
   "metadata": {},
   "outputs": [
    {
     "data": {
      "text/plain": [
       "(48975, 3)"
      ]
     },
     "execution_count": 4,
     "metadata": {},
     "output_type": "execute_result"
    }
   ],
   "source": [
    "xTrain.shape"
   ]
  },
  {
   "cell_type": "code",
   "execution_count": 5,
   "metadata": {},
   "outputs": [],
   "source": [
    "# remove sheath\n",
    "ixTrain = np.where(yTrain != 4)\n",
    "ixTest = np.where(yTest != 4)\n",
    "\n",
    "xTrain = xTrain[ixTrain,:]\n",
    "xTest = xTest[ixTest,:]\n",
    "\n",
    "yTrain = yTrain[ixTrain]\n",
    "yTest = yTest[ixTest]\n",
    "\n",
    "xTrain = xTrain[0,:,:]\n",
    "xTest = xTest[0,:,:]"
   ]
  },
  {
   "cell_type": "code",
   "execution_count": 6,
   "metadata": {},
   "outputs": [
    {
     "data": {
      "text/plain": [
       "4"
      ]
     },
     "execution_count": 6,
     "metadata": {},
     "output_type": "execute_result"
    }
   ],
   "source": [
    "nClasses = len( np. unique( yTrain ) )\n",
    "nClasses"
   ]
  },
  {
   "cell_type": "code",
   "execution_count": 7,
   "metadata": {},
   "outputs": [
    {
     "data": {
      "text/plain": [
       "((39168, 3), (9813, 3), (39168,), (9813,))"
      ]
     },
     "execution_count": 7,
     "metadata": {},
     "output_type": "execute_result"
    }
   ],
   "source": [
    "xTrain.shape,xTest.shape,yTrain.shape,yTest.shape"
   ]
  },
  {
   "cell_type": "code",
   "execution_count": 8,
   "metadata": {},
   "outputs": [
    {
     "name": "stderr",
     "output_type": "stream",
     "text": [
      "2024-07-11 14:07:22.814919: I tensorflow/core/common_runtime/gpu/gpu_device.cc:1635] Created device /job:localhost/replica:0/task:0/device:GPU:0 with 5337 MB memory:  -> device: 0, name: NVIDIA GeForce GTX TITAN Black, pci bus id: 0000:65:00.0, compute capability: 3.5\n"
     ]
    }
   ],
   "source": [
    "y = tf.one_hot(yTrain,nClasses)"
   ]
  },
  {
   "cell_type": "markdown",
   "metadata": {},
   "source": [
    "### Neural Network"
   ]
  },
  {
   "cell_type": "code",
   "execution_count": 9,
   "metadata": {},
   "outputs": [],
   "source": [
    "from keras import backend as K \n",
    "\n",
    "# Keras keeps models hanging around in memory. If we retrain a model, Keras will\n",
    "# start from the previously concluded weight values. This resets everything.\n",
    "K.clear_session()"
   ]
  },
  {
   "cell_type": "code",
   "execution_count": 10,
   "metadata": {},
   "outputs": [],
   "source": [
    "def create_probablistic_bnn_model(rows,columns):\n",
    "    \n",
    "    inputs = tf.keras.layers.Input(shape=columns)\n",
    "    \n",
    "    hidden1 = tf.keras.layers.Dense(16, activation='relu')(inputs)\n",
    "    hidden2 = tf.keras.layers.Dense(8, activation='relu')(hidden1)\n",
    "    \n",
    "    distribution_params = layers.Dense(nClasses)(hidden2)\n",
    "    outputs = tfp.layers.OneHotCategorical(1)(distribution_params)\n",
    "\n",
    "    model = keras.Model(inputs=inputs, outputs=outputs)\n",
    "    \n",
    "    return model"
   ]
  },
  {
   "cell_type": "code",
   "execution_count": 11,
   "metadata": {},
   "outputs": [],
   "source": [
    "def negative_loglikelihood(targets, estimated_distribution):\n",
    "    return -estimated_distribution.log_prob(targets)"
   ]
  },
  {
   "cell_type": "code",
   "execution_count": 13,
   "metadata": {},
   "outputs": [
    {
     "name": "stdout",
     "output_type": "stream",
     "text": [
      "Model: \"model\"\n",
      "_________________________________________________________________\n",
      " Layer (type)                Output Shape              Param #   \n",
      "=================================================================\n",
      " input_1 (InputLayer)        [(None, 3)]               0         \n",
      "                                                                 \n",
      " dense (Dense)               (None, 16)                64        \n",
      "                                                                 \n",
      " dense_1 (Dense)             (None, 8)                 136       \n",
      "                                                                 \n",
      " dense_2 (Dense)             (None, 4)                 36        \n",
      "                                                                 \n",
      " one_hot_categorical (OneHot  ((None, 4),              0         \n",
      " Categorical)                 (None, 4))                         \n",
      "                                                                 \n",
      "=================================================================\n",
      "Total params: 236\n",
      "Trainable params: 236\n",
      "Non-trainable params: 0\n",
      "_________________________________________________________________\n"
     ]
    }
   ],
   "source": [
    "bnn = create_probablistic_bnn_model(xTrain.shape[0],xTrain.shape[1])\n",
    "bnn.summary()"
   ]
  },
  {
   "cell_type": "code",
   "execution_count": 14,
   "metadata": {},
   "outputs": [],
   "source": [
    "bnn.compile( loss=negative_loglikelihood, metrics=['accuracy'] )"
   ]
  },
  {
   "cell_type": "code",
   "execution_count": 15,
   "metadata": {
    "scrolled": true
   },
   "outputs": [
    {
     "name": "stdout",
     "output_type": "stream",
     "text": [
      "Epoch 1/200\n"
     ]
    },
    {
     "name": "stderr",
     "output_type": "stream",
     "text": [
      "2024-01-17 12:51:55.711690: I tensorflow/compiler/xla/service/service.cc:169] XLA service 0x7f9a08024ef0 initialized for platform CUDA (this does not guarantee that XLA will be used). Devices:\n",
      "2024-01-17 12:51:55.711758: I tensorflow/compiler/xla/service/service.cc:177]   StreamExecutor device (0): NVIDIA GeForce GTX TITAN Black, Compute Capability 3.5\n",
      "2024-01-17 12:51:55.725101: I tensorflow/compiler/mlir/tensorflow/utils/dump_mlir_util.cc:269] disabling MLIR crash reproducer, set env var `MLIR_CRASH_REPRODUCER_DIRECTORY` to enable.\n",
      "2024-01-17 12:51:55.931368: I tensorflow/compiler/xla/stream_executor/cuda/cuda_dnn.cc:424] Loaded cuDNN version 8600\n",
      "2024-01-17 12:51:55.977814: I tensorflow/tsl/platform/default/subprocess.cc:304] Start cannot spawn child process: No such file or directory\n",
      "2024-01-17 12:51:56.040016: I ./tensorflow/compiler/jit/device_compiler.h:180] Compiled cluster using XLA!  This line is logged at most once for the lifetime of the process.\n"
     ]
    },
    {
     "name": "stdout",
     "output_type": "stream",
     "text": [
      "980/980 [==============================] - 7s 6ms/step - loss: 1.2337 - accuracy: 0.2979 - val_loss: 1.0379 - val_accuracy: 0.3864\n",
      "Epoch 2/200\n",
      "980/980 [==============================] - 5s 6ms/step - loss: 0.9206 - accuracy: 0.4398 - val_loss: 0.8512 - val_accuracy: 0.4774\n",
      "Epoch 3/200\n",
      "980/980 [==============================] - 5s 6ms/step - loss: 0.7745 - accuracy: 0.5172 - val_loss: 0.7140 - val_accuracy: 0.5523\n",
      "Epoch 4/200\n",
      "980/980 [==============================] - 5s 6ms/step - loss: 0.6534 - accuracy: 0.5981 - val_loss: 0.6100 - val_accuracy: 0.6316\n",
      "Epoch 5/200\n",
      "980/980 [==============================] - 6s 6ms/step - loss: 0.5709 - accuracy: 0.6568 - val_loss: 0.5506 - val_accuracy: 0.6800\n",
      "Epoch 6/200\n",
      "980/980 [==============================] - 5s 6ms/step - loss: 0.5190 - accuracy: 0.6919 - val_loss: 0.5028 - val_accuracy: 0.6986\n",
      "Epoch 7/200\n",
      "980/980 [==============================] - 5s 6ms/step - loss: 0.4840 - accuracy: 0.7091 - val_loss: 0.4757 - val_accuracy: 0.7178\n",
      "Epoch 8/200\n",
      "980/980 [==============================] - 5s 6ms/step - loss: 0.4590 - accuracy: 0.7287 - val_loss: 0.4584 - val_accuracy: 0.7411\n",
      "Epoch 9/200\n",
      "980/980 [==============================] - 5s 6ms/step - loss: 0.4377 - accuracy: 0.7405 - val_loss: 0.4332 - val_accuracy: 0.7446\n",
      "Epoch 10/200\n",
      "980/980 [==============================] - 5s 6ms/step - loss: 0.4215 - accuracy: 0.7495 - val_loss: 0.4216 - val_accuracy: 0.7595\n",
      "Epoch 11/200\n",
      "980/980 [==============================] - 5s 5ms/step - loss: 0.4106 - accuracy: 0.7607 - val_loss: 0.4075 - val_accuracy: 0.7644\n",
      "Epoch 12/200\n",
      "980/980 [==============================] - 5s 5ms/step - loss: 0.4017 - accuracy: 0.7659 - val_loss: 0.4102 - val_accuracy: 0.7581\n",
      "Epoch 13/200\n",
      "980/980 [==============================] - 5s 6ms/step - loss: 0.3954 - accuracy: 0.7676 - val_loss: 0.4052 - val_accuracy: 0.7769\n",
      "Epoch 14/200\n",
      "980/980 [==============================] - 5s 6ms/step - loss: 0.3909 - accuracy: 0.7743 - val_loss: 0.3882 - val_accuracy: 0.7820\n",
      "Epoch 15/200\n",
      "980/980 [==============================] - 5s 5ms/step - loss: 0.3856 - accuracy: 0.7810 - val_loss: 0.3885 - val_accuracy: 0.7838\n",
      "Epoch 16/200\n",
      "980/980 [==============================] - 5s 6ms/step - loss: 0.3826 - accuracy: 0.7837 - val_loss: 0.3810 - val_accuracy: 0.7801\n",
      "Epoch 17/200\n",
      "980/980 [==============================] - 5s 6ms/step - loss: 0.3799 - accuracy: 0.7830 - val_loss: 0.3828 - val_accuracy: 0.7816\n",
      "Epoch 18/200\n",
      "980/980 [==============================] - 5s 6ms/step - loss: 0.3772 - accuracy: 0.7811 - val_loss: 0.3826 - val_accuracy: 0.7919\n",
      "Epoch 19/200\n",
      "980/980 [==============================] - 5s 6ms/step - loss: 0.3738 - accuracy: 0.7874 - val_loss: 0.3874 - val_accuracy: 0.7877\n",
      "Epoch 20/200\n",
      "980/980 [==============================] - 5s 6ms/step - loss: 0.3717 - accuracy: 0.7911 - val_loss: 0.3743 - val_accuracy: 0.7942\n",
      "Epoch 21/200\n",
      "980/980 [==============================] - 5s 6ms/step - loss: 0.3694 - accuracy: 0.7894 - val_loss: 0.3808 - val_accuracy: 0.7986\n",
      "Epoch 22/200\n",
      "980/980 [==============================] - 5s 6ms/step - loss: 0.3675 - accuracy: 0.7962 - val_loss: 0.3747 - val_accuracy: 0.7849\n",
      "Epoch 23/200\n",
      "980/980 [==============================] - 5s 6ms/step - loss: 0.3654 - accuracy: 0.7940 - val_loss: 0.3703 - val_accuracy: 0.7908\n",
      "Epoch 24/200\n",
      "980/980 [==============================] - 5s 6ms/step - loss: 0.3633 - accuracy: 0.7932 - val_loss: 0.3656 - val_accuracy: 0.7930\n",
      "Epoch 25/200\n",
      "980/980 [==============================] - 5s 6ms/step - loss: 0.3619 - accuracy: 0.7926 - val_loss: 0.3649 - val_accuracy: 0.7963\n",
      "Epoch 26/200\n",
      "980/980 [==============================] - 5s 6ms/step - loss: 0.3600 - accuracy: 0.7994 - val_loss: 0.3622 - val_accuracy: 0.7984\n",
      "Epoch 27/200\n",
      "980/980 [==============================] - 5s 6ms/step - loss: 0.3585 - accuracy: 0.7996 - val_loss: 0.3610 - val_accuracy: 0.7997\n",
      "Epoch 28/200\n",
      "980/980 [==============================] - 5s 6ms/step - loss: 0.3572 - accuracy: 0.7998 - val_loss: 0.3680 - val_accuracy: 0.7873\n",
      "Epoch 29/200\n",
      "980/980 [==============================] - 5s 5ms/step - loss: 0.3560 - accuracy: 0.7969 - val_loss: 0.3605 - val_accuracy: 0.8006\n",
      "Epoch 30/200\n",
      "980/980 [==============================] - 5s 6ms/step - loss: 0.3541 - accuracy: 0.8018 - val_loss: 0.3549 - val_accuracy: 0.8002\n",
      "Epoch 31/200\n",
      "980/980 [==============================] - 5s 6ms/step - loss: 0.3526 - accuracy: 0.8010 - val_loss: 0.3533 - val_accuracy: 0.8032\n",
      "Epoch 32/200\n",
      "980/980 [==============================] - 5s 6ms/step - loss: 0.3516 - accuracy: 0.8030 - val_loss: 0.3549 - val_accuracy: 0.7959\n",
      "Epoch 33/200\n",
      "980/980 [==============================] - 5s 6ms/step - loss: 0.3509 - accuracy: 0.8028 - val_loss: 0.3647 - val_accuracy: 0.8035\n",
      "Epoch 34/200\n",
      "980/980 [==============================] - 5s 6ms/step - loss: 0.3490 - accuracy: 0.8047 - val_loss: 0.3537 - val_accuracy: 0.8048\n",
      "Epoch 35/200\n",
      "980/980 [==============================] - 5s 5ms/step - loss: 0.3473 - accuracy: 0.8055 - val_loss: 0.3505 - val_accuracy: 0.8113\n",
      "Epoch 36/200\n",
      "980/980 [==============================] - 5s 5ms/step - loss: 0.3462 - accuracy: 0.8070 - val_loss: 0.3601 - val_accuracy: 0.7928\n",
      "Epoch 37/200\n",
      "980/980 [==============================] - 5s 6ms/step - loss: 0.3451 - accuracy: 0.8069 - val_loss: 0.3585 - val_accuracy: 0.7981\n",
      "Epoch 38/200\n",
      "980/980 [==============================] - 5s 6ms/step - loss: 0.3433 - accuracy: 0.8068 - val_loss: 0.3494 - val_accuracy: 0.8066\n",
      "Epoch 39/200\n",
      "980/980 [==============================] - 5s 5ms/step - loss: 0.3423 - accuracy: 0.8068 - val_loss: 0.3472 - val_accuracy: 0.8052\n",
      "Epoch 40/200\n",
      "980/980 [==============================] - 5s 6ms/step - loss: 0.3409 - accuracy: 0.8090 - val_loss: 0.3668 - val_accuracy: 0.8018\n",
      "Epoch 41/200\n",
      "980/980 [==============================] - 5s 6ms/step - loss: 0.3398 - accuracy: 0.8081 - val_loss: 0.3428 - val_accuracy: 0.8118\n",
      "Epoch 42/200\n",
      "980/980 [==============================] - 5s 6ms/step - loss: 0.3390 - accuracy: 0.8125 - val_loss: 0.3527 - val_accuracy: 0.8079\n",
      "Epoch 43/200\n",
      "980/980 [==============================] - 5s 6ms/step - loss: 0.3371 - accuracy: 0.8128 - val_loss: 0.3512 - val_accuracy: 0.8066\n",
      "Epoch 44/200\n",
      "980/980 [==============================] - 5s 5ms/step - loss: 0.3354 - accuracy: 0.8133 - val_loss: 0.3389 - val_accuracy: 0.8097\n",
      "Epoch 45/200\n",
      "980/980 [==============================] - 5s 5ms/step - loss: 0.3342 - accuracy: 0.8137 - val_loss: 0.3410 - val_accuracy: 0.8154\n",
      "Epoch 46/200\n",
      "980/980 [==============================] - 5s 6ms/step - loss: 0.3332 - accuracy: 0.8156 - val_loss: 0.3346 - val_accuracy: 0.8152\n",
      "Epoch 47/200\n",
      "980/980 [==============================] - 5s 6ms/step - loss: 0.3320 - accuracy: 0.8135 - val_loss: 0.3386 - val_accuracy: 0.8141\n",
      "Epoch 48/200\n",
      "980/980 [==============================] - 5s 6ms/step - loss: 0.3313 - accuracy: 0.8192 - val_loss: 0.3540 - val_accuracy: 0.8066\n",
      "Epoch 49/200\n",
      "980/980 [==============================] - 5s 6ms/step - loss: 0.3300 - accuracy: 0.8167 - val_loss: 0.3477 - val_accuracy: 0.8155\n",
      "Epoch 50/200\n",
      "980/980 [==============================] - 5s 6ms/step - loss: 0.3284 - accuracy: 0.8155 - val_loss: 0.3367 - val_accuracy: 0.8108\n",
      "Epoch 51/200\n",
      "980/980 [==============================] - 5s 6ms/step - loss: 0.3277 - accuracy: 0.8160 - val_loss: 0.3344 - val_accuracy: 0.8217\n",
      "Epoch 52/200\n",
      "980/980 [==============================] - 5s 6ms/step - loss: 0.3264 - accuracy: 0.8170 - val_loss: 0.3445 - val_accuracy: 0.8101\n",
      "Epoch 53/200\n",
      "980/980 [==============================] - 5s 6ms/step - loss: 0.3256 - accuracy: 0.8170 - val_loss: 0.3288 - val_accuracy: 0.8163\n",
      "Epoch 54/200\n",
      "980/980 [==============================] - 5s 6ms/step - loss: 0.3248 - accuracy: 0.8202 - val_loss: 0.3253 - val_accuracy: 0.8201\n",
      "Epoch 55/200\n",
      "980/980 [==============================] - 5s 5ms/step - loss: 0.3235 - accuracy: 0.8207 - val_loss: 0.3279 - val_accuracy: 0.8232\n",
      "Epoch 56/200\n",
      "980/980 [==============================] - 5s 6ms/step - loss: 0.3226 - accuracy: 0.8188 - val_loss: 0.3260 - val_accuracy: 0.8190\n",
      "Epoch 57/200\n",
      "980/980 [==============================] - 5s 6ms/step - loss: 0.3214 - accuracy: 0.8227 - val_loss: 0.3221 - val_accuracy: 0.8242\n",
      "Epoch 58/200\n"
     ]
    },
    {
     "name": "stdout",
     "output_type": "stream",
     "text": [
      "980/980 [==============================] - 5s 6ms/step - loss: 0.3208 - accuracy: 0.8215 - val_loss: 0.3220 - val_accuracy: 0.8237\n",
      "Epoch 59/200\n",
      "980/980 [==============================] - 5s 5ms/step - loss: 0.3194 - accuracy: 0.8247 - val_loss: 0.3491 - val_accuracy: 0.8148\n",
      "Epoch 60/200\n",
      "980/980 [==============================] - 5s 5ms/step - loss: 0.3194 - accuracy: 0.8234 - val_loss: 0.3260 - val_accuracy: 0.8153\n",
      "Epoch 61/200\n",
      "980/980 [==============================] - 5s 6ms/step - loss: 0.3184 - accuracy: 0.8228 - val_loss: 0.3338 - val_accuracy: 0.8258\n",
      "Epoch 62/200\n",
      "980/980 [==============================] - 5s 6ms/step - loss: 0.3174 - accuracy: 0.8257 - val_loss: 0.3331 - val_accuracy: 0.8078\n",
      "Epoch 63/200\n",
      "980/980 [==============================] - 5s 6ms/step - loss: 0.3170 - accuracy: 0.8250 - val_loss: 0.3279 - val_accuracy: 0.8250\n",
      "Epoch 64/200\n",
      "980/980 [==============================] - 5s 6ms/step - loss: 0.3159 - accuracy: 0.8246 - val_loss: 0.3190 - val_accuracy: 0.8214\n",
      "Epoch 65/200\n",
      "980/980 [==============================] - 5s 6ms/step - loss: 0.3149 - accuracy: 0.8259 - val_loss: 0.3270 - val_accuracy: 0.8212\n",
      "Epoch 66/200\n",
      "980/980 [==============================] - 5s 6ms/step - loss: 0.3143 - accuracy: 0.8260 - val_loss: 0.3160 - val_accuracy: 0.8187\n",
      "Epoch 67/200\n",
      "980/980 [==============================] - 5s 6ms/step - loss: 0.3138 - accuracy: 0.8246 - val_loss: 0.3187 - val_accuracy: 0.8217\n",
      "Epoch 68/200\n",
      "980/980 [==============================] - 5s 6ms/step - loss: 0.3132 - accuracy: 0.8247 - val_loss: 0.3218 - val_accuracy: 0.8215\n",
      "Epoch 69/200\n",
      "980/980 [==============================] - 5s 6ms/step - loss: 0.3124 - accuracy: 0.8268 - val_loss: 0.3178 - val_accuracy: 0.8185\n",
      "Epoch 70/200\n",
      "980/980 [==============================] - 5s 6ms/step - loss: 0.3112 - accuracy: 0.8253 - val_loss: 0.3410 - val_accuracy: 0.8108\n",
      "Epoch 71/200\n",
      "980/980 [==============================] - 5s 6ms/step - loss: 0.3109 - accuracy: 0.8258 - val_loss: 0.3226 - val_accuracy: 0.8281\n",
      "Epoch 72/200\n",
      "980/980 [==============================] - 5s 6ms/step - loss: 0.3100 - accuracy: 0.8248 - val_loss: 0.3220 - val_accuracy: 0.8150\n",
      "Epoch 73/200\n",
      "980/980 [==============================] - 5s 6ms/step - loss: 0.3093 - accuracy: 0.8304 - val_loss: 0.3143 - val_accuracy: 0.8242\n",
      "Epoch 74/200\n",
      "980/980 [==============================] - 5s 5ms/step - loss: 0.3083 - accuracy: 0.8258 - val_loss: 0.3152 - val_accuracy: 0.8223\n",
      "Epoch 75/200\n",
      "980/980 [==============================] - 5s 5ms/step - loss: 0.3072 - accuracy: 0.8279 - val_loss: 0.3104 - val_accuracy: 0.8219\n",
      "Epoch 76/200\n",
      "980/980 [==============================] - 5s 6ms/step - loss: 0.3067 - accuracy: 0.8278 - val_loss: 0.3105 - val_accuracy: 0.8215\n",
      "Epoch 77/200\n",
      "980/980 [==============================] - 5s 5ms/step - loss: 0.3060 - accuracy: 0.8322 - val_loss: 0.3098 - val_accuracy: 0.8319\n",
      "Epoch 78/200\n",
      "980/980 [==============================] - 5s 5ms/step - loss: 0.3059 - accuracy: 0.8285 - val_loss: 0.3243 - val_accuracy: 0.8275\n",
      "Epoch 79/200\n",
      "980/980 [==============================] - 5s 6ms/step - loss: 0.3054 - accuracy: 0.8286 - val_loss: 0.3223 - val_accuracy: 0.8237\n",
      "Epoch 80/200\n",
      "980/980 [==============================] - 5s 6ms/step - loss: 0.3046 - accuracy: 0.8307 - val_loss: 0.3067 - val_accuracy: 0.8291\n",
      "Epoch 81/200\n",
      "980/980 [==============================] - 5s 6ms/step - loss: 0.3042 - accuracy: 0.8304 - val_loss: 0.3231 - val_accuracy: 0.8210\n",
      "Epoch 82/200\n",
      "980/980 [==============================] - 5s 5ms/step - loss: 0.3031 - accuracy: 0.8314 - val_loss: 0.3050 - val_accuracy: 0.8333\n",
      "Epoch 83/200\n",
      "980/980 [==============================] - 5s 6ms/step - loss: 0.3030 - accuracy: 0.8305 - val_loss: 0.3040 - val_accuracy: 0.8268\n",
      "Epoch 84/200\n",
      "980/980 [==============================] - 5s 6ms/step - loss: 0.3020 - accuracy: 0.8307 - val_loss: 0.3115 - val_accuracy: 0.8300\n",
      "Epoch 85/200\n",
      "980/980 [==============================] - 5s 6ms/step - loss: 0.3010 - accuracy: 0.8296 - val_loss: 0.3044 - val_accuracy: 0.8268\n",
      "Epoch 86/200\n",
      "980/980 [==============================] - 5s 5ms/step - loss: 0.3008 - accuracy: 0.8298 - val_loss: 0.3011 - val_accuracy: 0.8287\n",
      "Epoch 87/200\n",
      "980/980 [==============================] - 5s 6ms/step - loss: 0.3000 - accuracy: 0.8348 - val_loss: 0.3077 - val_accuracy: 0.8255\n",
      "Epoch 88/200\n",
      "980/980 [==============================] - 5s 6ms/step - loss: 0.2988 - accuracy: 0.8331 - val_loss: 0.3004 - val_accuracy: 0.8275\n",
      "Epoch 89/200\n",
      "980/980 [==============================] - 5s 5ms/step - loss: 0.2983 - accuracy: 0.8336 - val_loss: 0.3088 - val_accuracy: 0.8329\n",
      "Epoch 90/200\n",
      "980/980 [==============================] - 4s 4ms/step - loss: 0.2974 - accuracy: 0.8311 - val_loss: 0.3002 - val_accuracy: 0.8290\n",
      "Epoch 91/200\n",
      "980/980 [==============================] - 4s 4ms/step - loss: 0.2972 - accuracy: 0.8298 - val_loss: 0.3028 - val_accuracy: 0.8314\n",
      "Epoch 92/200\n",
      "980/980 [==============================] - 5s 5ms/step - loss: 0.2963 - accuracy: 0.8306 - val_loss: 0.2980 - val_accuracy: 0.8372\n",
      "Epoch 93/200\n",
      "980/980 [==============================] - 5s 5ms/step - loss: 0.2962 - accuracy: 0.8329 - val_loss: 0.2965 - val_accuracy: 0.8311\n",
      "Epoch 94/200\n",
      "980/980 [==============================] - 5s 6ms/step - loss: 0.2949 - accuracy: 0.8326 - val_loss: 0.2964 - val_accuracy: 0.8369\n",
      "Epoch 95/200\n",
      "980/980 [==============================] - 5s 5ms/step - loss: 0.2948 - accuracy: 0.8319 - val_loss: 0.3204 - val_accuracy: 0.8249\n",
      "Epoch 96/200\n",
      "980/980 [==============================] - 5s 6ms/step - loss: 0.2939 - accuracy: 0.8355 - val_loss: 0.3014 - val_accuracy: 0.8295\n",
      "Epoch 97/200\n",
      "980/980 [==============================] - 5s 6ms/step - loss: 0.2933 - accuracy: 0.8343 - val_loss: 0.2929 - val_accuracy: 0.8372\n",
      "Epoch 98/200\n",
      "980/980 [==============================] - 5s 5ms/step - loss: 0.2924 - accuracy: 0.8332 - val_loss: 0.3060 - val_accuracy: 0.8324\n",
      "Epoch 99/200\n",
      "980/980 [==============================] - 5s 6ms/step - loss: 0.2925 - accuracy: 0.8366 - val_loss: 0.2923 - val_accuracy: 0.8407\n",
      "Epoch 100/200\n",
      "980/980 [==============================] - 5s 6ms/step - loss: 0.2915 - accuracy: 0.8351 - val_loss: 0.2937 - val_accuracy: 0.8333\n",
      "Epoch 101/200\n",
      "980/980 [==============================] - 5s 5ms/step - loss: 0.2914 - accuracy: 0.8355 - val_loss: 0.3019 - val_accuracy: 0.8329\n",
      "Epoch 102/200\n",
      "980/980 [==============================] - 5s 6ms/step - loss: 0.2901 - accuracy: 0.8394 - val_loss: 0.2927 - val_accuracy: 0.8415\n",
      "Epoch 103/200\n",
      "980/980 [==============================] - 5s 5ms/step - loss: 0.2895 - accuracy: 0.8351 - val_loss: 0.2954 - val_accuracy: 0.8362\n",
      "Epoch 104/200\n",
      "980/980 [==============================] - 5s 6ms/step - loss: 0.2889 - accuracy: 0.8369 - val_loss: 0.2944 - val_accuracy: 0.8371\n",
      "Epoch 105/200\n",
      "980/980 [==============================] - 5s 5ms/step - loss: 0.2883 - accuracy: 0.8389 - val_loss: 0.2965 - val_accuracy: 0.8352\n",
      "Epoch 106/200\n",
      "980/980 [==============================] - 5s 5ms/step - loss: 0.2884 - accuracy: 0.8347 - val_loss: 0.2971 - val_accuracy: 0.8304\n",
      "Epoch 107/200\n",
      "980/980 [==============================] - 5s 6ms/step - loss: 0.2863 - accuracy: 0.8412 - val_loss: 0.3086 - val_accuracy: 0.8236\n",
      "Epoch 108/200\n",
      "980/980 [==============================] - 5s 5ms/step - loss: 0.2863 - accuracy: 0.8393 - val_loss: 0.2988 - val_accuracy: 0.8238\n",
      "Epoch 109/200\n",
      "980/980 [==============================] - 5s 6ms/step - loss: 0.2852 - accuracy: 0.8390 - val_loss: 0.2970 - val_accuracy: 0.8482\n",
      "Epoch 110/200\n",
      "980/980 [==============================] - 5s 6ms/step - loss: 0.2850 - accuracy: 0.8381 - val_loss: 0.2847 - val_accuracy: 0.8399\n",
      "Epoch 111/200\n",
      "980/980 [==============================] - 5s 6ms/step - loss: 0.2842 - accuracy: 0.8429 - val_loss: 0.2877 - val_accuracy: 0.8380\n",
      "Epoch 112/200\n",
      "980/980 [==============================] - 5s 5ms/step - loss: 0.2832 - accuracy: 0.8389 - val_loss: 0.2891 - val_accuracy: 0.8319\n",
      "Epoch 113/200\n",
      "980/980 [==============================] - 5s 5ms/step - loss: 0.2833 - accuracy: 0.8387 - val_loss: 0.2829 - val_accuracy: 0.8376\n",
      "Epoch 114/200\n",
      "980/980 [==============================] - 5s 5ms/step - loss: 0.2825 - accuracy: 0.8373 - val_loss: 0.2834 - val_accuracy: 0.8485\n"
     ]
    },
    {
     "name": "stdout",
     "output_type": "stream",
     "text": [
      "Epoch 115/200\n",
      "980/980 [==============================] - 5s 6ms/step - loss: 0.2821 - accuracy: 0.8392 - val_loss: 0.2817 - val_accuracy: 0.8427\n",
      "Epoch 116/200\n",
      "980/980 [==============================] - 5s 6ms/step - loss: 0.2812 - accuracy: 0.8422 - val_loss: 0.2864 - val_accuracy: 0.8384\n",
      "Epoch 117/200\n",
      "980/980 [==============================] - 5s 6ms/step - loss: 0.2808 - accuracy: 0.8398 - val_loss: 0.2850 - val_accuracy: 0.8412\n",
      "Epoch 118/200\n",
      "980/980 [==============================] - 5s 5ms/step - loss: 0.2806 - accuracy: 0.8435 - val_loss: 0.2887 - val_accuracy: 0.8444\n",
      "Epoch 119/200\n",
      "980/980 [==============================] - 5s 6ms/step - loss: 0.2801 - accuracy: 0.8416 - val_loss: 0.3015 - val_accuracy: 0.8491\n",
      "Epoch 120/200\n",
      "980/980 [==============================] - 5s 6ms/step - loss: 0.2799 - accuracy: 0.8415 - val_loss: 0.2860 - val_accuracy: 0.8324\n",
      "Epoch 121/200\n",
      "980/980 [==============================] - 5s 6ms/step - loss: 0.2791 - accuracy: 0.8402 - val_loss: 0.3177 - val_accuracy: 0.8201\n",
      "Epoch 122/200\n",
      "980/980 [==============================] - 5s 6ms/step - loss: 0.2788 - accuracy: 0.8449 - val_loss: 0.2829 - val_accuracy: 0.8457\n",
      "Epoch 123/200\n",
      "980/980 [==============================] - 5s 6ms/step - loss: 0.2784 - accuracy: 0.8423 - val_loss: 0.2867 - val_accuracy: 0.8436\n",
      "Epoch 124/200\n",
      "980/980 [==============================] - 5s 5ms/step - loss: 0.2777 - accuracy: 0.8428 - val_loss: 0.2772 - val_accuracy: 0.8429\n",
      "Epoch 125/200\n",
      "980/980 [==============================] - 5s 5ms/step - loss: 0.2771 - accuracy: 0.8439 - val_loss: 0.2894 - val_accuracy: 0.8329\n",
      "Epoch 126/200\n",
      "980/980 [==============================] - 5s 6ms/step - loss: 0.2773 - accuracy: 0.8403 - val_loss: 0.2757 - val_accuracy: 0.8385\n",
      "Epoch 127/200\n",
      "980/980 [==============================] - 5s 6ms/step - loss: 0.2768 - accuracy: 0.8446 - val_loss: 0.2801 - val_accuracy: 0.8472\n",
      "Epoch 128/200\n",
      "980/980 [==============================] - 5s 6ms/step - loss: 0.2756 - accuracy: 0.8462 - val_loss: 0.2783 - val_accuracy: 0.8415\n",
      "Epoch 129/200\n",
      "980/980 [==============================] - 5s 6ms/step - loss: 0.2757 - accuracy: 0.8442 - val_loss: 0.2827 - val_accuracy: 0.8481\n",
      "Epoch 130/200\n",
      "980/980 [==============================] - 5s 6ms/step - loss: 0.2753 - accuracy: 0.8430 - val_loss: 0.3062 - val_accuracy: 0.8273\n",
      "Epoch 131/200\n",
      "980/980 [==============================] - 5s 5ms/step - loss: 0.2751 - accuracy: 0.8440 - val_loss: 0.3011 - val_accuracy: 0.8416\n",
      "Epoch 132/200\n",
      "980/980 [==============================] - 5s 6ms/step - loss: 0.2749 - accuracy: 0.8439 - val_loss: 0.2805 - val_accuracy: 0.8458\n",
      "Epoch 133/200\n",
      "980/980 [==============================] - 5s 6ms/step - loss: 0.2753 - accuracy: 0.8429 - val_loss: 0.2866 - val_accuracy: 0.8500\n",
      "Epoch 134/200\n",
      "980/980 [==============================] - 5s 6ms/step - loss: 0.2742 - accuracy: 0.8435 - val_loss: 0.2722 - val_accuracy: 0.8453\n",
      "Epoch 135/200\n",
      "980/980 [==============================] - 5s 6ms/step - loss: 0.2740 - accuracy: 0.8441 - val_loss: 0.2782 - val_accuracy: 0.8490\n",
      "Epoch 136/200\n",
      "980/980 [==============================] - 5s 5ms/step - loss: 0.2739 - accuracy: 0.8428 - val_loss: 0.2858 - val_accuracy: 0.8448\n",
      "Epoch 137/200\n",
      "980/980 [==============================] - 5s 6ms/step - loss: 0.2740 - accuracy: 0.8451 - val_loss: 0.2750 - val_accuracy: 0.8429\n",
      "Epoch 138/200\n",
      "980/980 [==============================] - 5s 6ms/step - loss: 0.2728 - accuracy: 0.8421 - val_loss: 0.2778 - val_accuracy: 0.8489\n",
      "Epoch 139/200\n",
      "980/980 [==============================] - 5s 6ms/step - loss: 0.2728 - accuracy: 0.8462 - val_loss: 0.2805 - val_accuracy: 0.8319\n",
      "Epoch 140/200\n",
      "980/980 [==============================] - 5s 6ms/step - loss: 0.2730 - accuracy: 0.8462 - val_loss: 0.2733 - val_accuracy: 0.8379\n",
      "Epoch 141/200\n",
      "980/980 [==============================] - 5s 6ms/step - loss: 0.2729 - accuracy: 0.8466 - val_loss: 0.3051 - val_accuracy: 0.8434\n",
      "Epoch 142/200\n",
      "980/980 [==============================] - 5s 6ms/step - loss: 0.2718 - accuracy: 0.8440 - val_loss: 0.2709 - val_accuracy: 0.8421\n",
      "Epoch 143/200\n",
      "980/980 [==============================] - 5s 6ms/step - loss: 0.2720 - accuracy: 0.8449 - val_loss: 0.2766 - val_accuracy: 0.8341\n",
      "Epoch 144/200\n",
      "980/980 [==============================] - 5s 6ms/step - loss: 0.2712 - accuracy: 0.8460 - val_loss: 0.2772 - val_accuracy: 0.8315\n",
      "Epoch 145/200\n",
      "980/980 [==============================] - 5s 6ms/step - loss: 0.2716 - accuracy: 0.8496 - val_loss: 0.2703 - val_accuracy: 0.8409\n",
      "Epoch 146/200\n",
      "980/980 [==============================] - 5s 5ms/step - loss: 0.2710 - accuracy: 0.8479 - val_loss: 0.2744 - val_accuracy: 0.8480\n",
      "Epoch 147/200\n",
      "980/980 [==============================] - 5s 6ms/step - loss: 0.2714 - accuracy: 0.8434 - val_loss: 0.2789 - val_accuracy: 0.8417\n",
      "Epoch 148/200\n",
      "980/980 [==============================] - 5s 6ms/step - loss: 0.2705 - accuracy: 0.8466 - val_loss: 0.2716 - val_accuracy: 0.8476\n",
      "Epoch 149/200\n",
      "980/980 [==============================] - 5s 6ms/step - loss: 0.2707 - accuracy: 0.8486 - val_loss: 0.2924 - val_accuracy: 0.8357\n",
      "Epoch 150/200\n",
      "980/980 [==============================] - 5s 6ms/step - loss: 0.2709 - accuracy: 0.8486 - val_loss: 0.2970 - val_accuracy: 0.8318\n",
      "Epoch 151/200\n",
      "980/980 [==============================] - 5s 6ms/step - loss: 0.2699 - accuracy: 0.8459 - val_loss: 0.2676 - val_accuracy: 0.8518\n",
      "Epoch 152/200\n",
      "980/980 [==============================] - 5s 6ms/step - loss: 0.2699 - accuracy: 0.8460 - val_loss: 0.2704 - val_accuracy: 0.8558\n",
      "Epoch 153/200\n",
      "980/980 [==============================] - 5s 6ms/step - loss: 0.2689 - accuracy: 0.8467 - val_loss: 0.2910 - val_accuracy: 0.8346\n",
      "Epoch 154/200\n",
      "980/980 [==============================] - 5s 6ms/step - loss: 0.2696 - accuracy: 0.8463 - val_loss: 0.2750 - val_accuracy: 0.8461\n",
      "Epoch 155/200\n",
      "980/980 [==============================] - 5s 6ms/step - loss: 0.2694 - accuracy: 0.8503 - val_loss: 0.2716 - val_accuracy: 0.8365\n",
      "Epoch 156/200\n",
      "980/980 [==============================] - 5s 6ms/step - loss: 0.2688 - accuracy: 0.8460 - val_loss: 0.2705 - val_accuracy: 0.8475\n",
      "Epoch 157/200\n",
      "980/980 [==============================] - 5s 6ms/step - loss: 0.2688 - accuracy: 0.8505 - val_loss: 0.2673 - val_accuracy: 0.8473\n",
      "Epoch 158/200\n",
      "980/980 [==============================] - 5s 6ms/step - loss: 0.2686 - accuracy: 0.8485 - val_loss: 0.2691 - val_accuracy: 0.8505\n",
      "Epoch 159/200\n",
      "980/980 [==============================] - 5s 6ms/step - loss: 0.2685 - accuracy: 0.8473 - val_loss: 0.2966 - val_accuracy: 0.8392\n",
      "Epoch 160/200\n",
      "980/980 [==============================] - 5s 6ms/step - loss: 0.2682 - accuracy: 0.8495 - val_loss: 0.2850 - val_accuracy: 0.8426\n",
      "Epoch 161/200\n",
      "980/980 [==============================] - 5s 6ms/step - loss: 0.2679 - accuracy: 0.8462 - val_loss: 0.2671 - val_accuracy: 0.8542\n",
      "Epoch 162/200\n",
      "980/980 [==============================] - 5s 6ms/step - loss: 0.2672 - accuracy: 0.8489 - val_loss: 0.2747 - val_accuracy: 0.8409\n",
      "Epoch 163/200\n",
      "980/980 [==============================] - 5s 6ms/step - loss: 0.2676 - accuracy: 0.8486 - val_loss: 0.2680 - val_accuracy: 0.8567\n",
      "Epoch 164/200\n",
      "980/980 [==============================] - 5s 6ms/step - loss: 0.2677 - accuracy: 0.8475 - val_loss: 0.2939 - val_accuracy: 0.8372\n",
      "Epoch 165/200\n",
      "980/980 [==============================] - 5s 6ms/step - loss: 0.2677 - accuracy: 0.8503 - val_loss: 0.2745 - val_accuracy: 0.8375\n",
      "Epoch 166/200\n",
      "980/980 [==============================] - 5s 6ms/step - loss: 0.2678 - accuracy: 0.8483 - val_loss: 0.2747 - val_accuracy: 0.8510\n",
      "Epoch 167/200\n",
      "980/980 [==============================] - 5s 6ms/step - loss: 0.2672 - accuracy: 0.8502 - val_loss: 0.2680 - val_accuracy: 0.8476\n",
      "Epoch 168/200\n",
      "980/980 [==============================] - 5s 5ms/step - loss: 0.2673 - accuracy: 0.8515 - val_loss: 0.2751 - val_accuracy: 0.8452\n",
      "Epoch 169/200\n",
      "980/980 [==============================] - 5s 6ms/step - loss: 0.2665 - accuracy: 0.8494 - val_loss: 0.2842 - val_accuracy: 0.8508\n",
      "Epoch 170/200\n",
      "980/980 [==============================] - 5s 6ms/step - loss: 0.2669 - accuracy: 0.8514 - val_loss: 0.2804 - val_accuracy: 0.8387\n",
      "Epoch 171/200\n",
      "980/980 [==============================] - 5s 6ms/step - loss: 0.2667 - accuracy: 0.8520 - val_loss: 0.2708 - val_accuracy: 0.8458\n",
      "Epoch 172/200\n",
      "980/980 [==============================] - 5s 6ms/step - loss: 0.2672 - accuracy: 0.8490 - val_loss: 0.2664 - val_accuracy: 0.8467\n",
      "Epoch 173/200\n",
      "980/980 [==============================] - 5s 5ms/step - loss: 0.2663 - accuracy: 0.8509 - val_loss: 0.2707 - val_accuracy: 0.8536\n",
      "Epoch 174/200\n",
      "980/980 [==============================] - 5s 6ms/step - loss: 0.2659 - accuracy: 0.8498 - val_loss: 0.2747 - val_accuracy: 0.8421\n",
      "Epoch 175/200\n",
      "980/980 [==============================] - 5s 6ms/step - loss: 0.2658 - accuracy: 0.8519 - val_loss: 0.2641 - val_accuracy: 0.8445\n",
      "Epoch 176/200\n",
      "980/980 [==============================] - 5s 6ms/step - loss: 0.2665 - accuracy: 0.8500 - val_loss: 0.2856 - val_accuracy: 0.8411\n",
      "Epoch 177/200\n",
      "980/980 [==============================] - 5s 6ms/step - loss: 0.2665 - accuracy: 0.8509 - val_loss: 0.2695 - val_accuracy: 0.8503\n",
      "Epoch 178/200\n",
      "980/980 [==============================] - 5s 6ms/step - loss: 0.2661 - accuracy: 0.8477 - val_loss: 0.2663 - val_accuracy: 0.8495\n",
      "Epoch 179/200\n",
      "980/980 [==============================] - 5s 6ms/step - loss: 0.2658 - accuracy: 0.8495 - val_loss: 0.2720 - val_accuracy: 0.8494\n",
      "Epoch 180/200\n",
      "980/980 [==============================] - 5s 6ms/step - loss: 0.2656 - accuracy: 0.8545 - val_loss: 0.2949 - val_accuracy: 0.8439\n",
      "Epoch 181/200\n",
      "980/980 [==============================] - 5s 6ms/step - loss: 0.2663 - accuracy: 0.8485 - val_loss: 0.2645 - val_accuracy: 0.8499\n",
      "Epoch 182/200\n",
      "980/980 [==============================] - 5s 6ms/step - loss: 0.2658 - accuracy: 0.8482 - val_loss: 0.2662 - val_accuracy: 0.8561\n",
      "Epoch 183/200\n",
      "980/980 [==============================] - 5s 6ms/step - loss: 0.2653 - accuracy: 0.8506 - val_loss: 0.3113 - val_accuracy: 0.8312\n",
      "Epoch 184/200\n",
      "980/980 [==============================] - 5s 6ms/step - loss: 0.2658 - accuracy: 0.8504 - val_loss: 0.2666 - val_accuracy: 0.8518\n",
      "Epoch 185/200\n",
      "980/980 [==============================] - 5s 6ms/step - loss: 0.2660 - accuracy: 0.8530 - val_loss: 0.2693 - val_accuracy: 0.8503\n",
      "Epoch 186/200\n",
      "980/980 [==============================] - 5s 6ms/step - loss: 0.2653 - accuracy: 0.8527 - val_loss: 0.2936 - val_accuracy: 0.8395\n",
      "Epoch 187/200\n",
      "980/980 [==============================] - 5s 5ms/step - loss: 0.2654 - accuracy: 0.8515 - val_loss: 0.2758 - val_accuracy: 0.8432\n",
      "Epoch 188/200\n",
      "980/980 [==============================] - 5s 6ms/step - loss: 0.2654 - accuracy: 0.8475 - val_loss: 0.2638 - val_accuracy: 0.8489\n",
      "Epoch 189/200\n",
      "980/980 [==============================] - 5s 5ms/step - loss: 0.2651 - accuracy: 0.8506 - val_loss: 0.2797 - val_accuracy: 0.8445\n",
      "Epoch 190/200\n",
      "980/980 [==============================] - 5s 6ms/step - loss: 0.2652 - accuracy: 0.8505 - val_loss: 0.2762 - val_accuracy: 0.8472\n",
      "Epoch 191/200\n",
      "980/980 [==============================] - 5s 6ms/step - loss: 0.2651 - accuracy: 0.8484 - val_loss: 0.2656 - val_accuracy: 0.8551\n",
      "Epoch 192/200\n",
      "980/980 [==============================] - 5s 6ms/step - loss: 0.2657 - accuracy: 0.8541 - val_loss: 0.2671 - val_accuracy: 0.8538\n",
      "Epoch 193/200\n",
      "980/980 [==============================] - 5s 5ms/step - loss: 0.2653 - accuracy: 0.8513 - val_loss: 0.2608 - val_accuracy: 0.8541\n",
      "Epoch 194/200\n",
      "980/980 [==============================] - 5s 6ms/step - loss: 0.2646 - accuracy: 0.8511 - val_loss: 0.2728 - val_accuracy: 0.8554\n",
      "Epoch 195/200\n",
      "980/980 [==============================] - 5s 5ms/step - loss: 0.2650 - accuracy: 0.8527 - val_loss: 0.2661 - val_accuracy: 0.8533\n",
      "Epoch 196/200\n",
      "980/980 [==============================] - 5s 5ms/step - loss: 0.2647 - accuracy: 0.8524 - val_loss: 0.2742 - val_accuracy: 0.8532\n",
      "Epoch 197/200\n",
      "980/980 [==============================] - 5s 6ms/step - loss: 0.2652 - accuracy: 0.8507 - val_loss: 0.2634 - val_accuracy: 0.8503\n",
      "Epoch 198/200\n",
      "980/980 [==============================] - 5s 6ms/step - loss: 0.2647 - accuracy: 0.8530 - val_loss: 0.2839 - val_accuracy: 0.8505\n",
      "Epoch 199/200\n",
      "980/980 [==============================] - 5s 6ms/step - loss: 0.2642 - accuracy: 0.8546 - val_loss: 0.2635 - val_accuracy: 0.8515\n",
      "Epoch 200/200\n",
      "980/980 [==============================] - 5s 6ms/step - loss: 0.2651 - accuracy: 0.8511 - val_loss: 0.2768 - val_accuracy: 0.8429\n"
     ]
    }
   ],
   "source": [
    "history = bnn.fit( xTrain, y, epochs=200, verbose=1, \n",
    "                  use_multiprocessing=True, validation_split=0.2)"
   ]
  },
  {
   "cell_type": "code",
   "execution_count": 16,
   "metadata": {},
   "outputs": [
    {
     "data": {
      "text/plain": [
       "<matplotlib.legend.Legend at 0x7f9b10bc5940>"
      ]
     },
     "execution_count": 16,
     "metadata": {},
     "output_type": "execute_result"
    },
    {
     "data": {
      "image/png": "[encoded data removed]",
      "text/plain": [
       "<Figure size 432x288 with 1 Axes>"
      ]
     },
     "metadata": {
      "needs_background": "light"
     },
     "output_type": "display_data"
    }
   ],
   "source": [
    "plt.plot( history.history['accuracy'], label=\"Accuracy\")\n",
    "plt.plot( history.history['val_accuracy'], label=\"val_acc\")\n",
    "plt.title('Model Accuracy')\n",
    "plt.ylabel('Accuracy')\n",
    "plt.xlabel('Epoch')\n",
    "plt.legend()"
   ]
  },
  {
   "cell_type": "code",
   "execution_count": 17,
   "metadata": {},
   "outputs": [
    {
     "data": {
      "text/plain": [
       "<matplotlib.legend.Legend at 0x7f9b0c223cd0>"
      ]
     },
     "execution_count": 17,
     "metadata": {},
     "output_type": "execute_result"
    },
    {
     "data": {
      "image/png": "[encoded data removed]",
      "text/plain": [
       "<Figure size 432x288 with 1 Axes>"
      ]
     },
     "metadata": {
      "needs_background": "light"
     },
     "output_type": "display_data"
    }
   ],
   "source": [
    "plt.plot( history.history['loss'], label=\"loss\")\n",
    "plt.plot( history.history['val_loss'], label=\"val_loss\")\n",
    "plt.title('Model Loss')\n",
    "plt.ylabel('Loss')\n",
    "plt.xlabel('Epoch')\n",
    "plt.legend()"
   ]
  },
  {
   "cell_type": "code",
   "execution_count": 18,
   "metadata": {},
   "outputs": [],
   "source": [
    "# serialize weights to HDF5\n",
    "bnn.save_weights(\"./model_weights_3PNN_no_sheath.h5\")"
   ]
  },
  {
   "cell_type": "code",
   "execution_count": 19,
   "metadata": {},
   "outputs": [],
   "source": [
    "from scipy.stats import entropy\n",
    "\n",
    "preds = []\n",
    "en = bnn(xTest).entropy()\n",
    "\n",
    "p = bnn(xTest)\n",
    "for i in range(p.shape[0]):\n",
    "    preds.append( np.argmax(p[i,:]) )"
   ]
  },
  {
   "cell_type": "code",
   "execution_count": 20,
   "metadata": {},
   "outputs": [],
   "source": [
    "font = {'family' : 'normal',\n",
    "    'weight' : 'bold',\n",
    "    'size'   : 24}\n",
    "plt.rc('font', **font)"
   ]
  },
  {
   "cell_type": "code",
   "execution_count": 21,
   "metadata": {
    "scrolled": false
   },
   "outputs": [
    {
     "data": {
      "text/plain": [
       "<sklearn.metrics._plot.confusion_matrix.ConfusionMatrixDisplay at 0x7f9a7c0d21c0>"
      ]
     },
     "execution_count": 21,
     "metadata": {},
     "output_type": "execute_result"
    },
    {
     "name": "stderr",
     "output_type": "stream",
     "text": [
      "findfont: Font family ['normal'] not found. Falling back to DejaVu Sans.\n",
      "findfont: Font family ['normal'] not found. Falling back to DejaVu Sans.\n"
     ]
    },
    {
     "data": {
      "image/png": "[encoded data removed]",
      "text/plain": [
       "<Figure size 720x720 with 2 Axes>"
      ]
     },
     "metadata": {
      "needs_background": "light"
     },
     "output_type": "display_data"
    }
   ],
   "source": [
    "from sklearn.metrics import confusion_matrix, ConfusionMatrixDisplay\n",
    "\n",
    "fig, ax = plt.subplots(figsize=(10, 10))\n",
    "\n",
    "cm = confusion_matrix( yTest.astype(int), preds, normalize='true' )\n",
    "disp = ConfusionMatrixDisplay( confusion_matrix=cm )\n",
    "disp.plot(ax=ax, cmap='gist_yarg')"
   ]
  },
  {
   "cell_type": "code",
   "execution_count": 22,
   "metadata": {},
   "outputs": [
    {
     "name": "stdout",
     "output_type": "stream",
     "text": [
      "Macro F1: 0.8764\n",
      "Macro Precision: 0.8783\n",
      "Macro Recall: 0.8779\n",
      "Accuracy: 0.8779\n"
     ]
    }
   ],
   "source": [
    "from sklearn.metrics import f1_score\n",
    "from sklearn.metrics import recall_score\n",
    "from sklearn.metrics import precision_score\n",
    "from sklearn.metrics import accuracy_score\n",
    "\n",
    "yTest = yTest.astype(int)\n",
    "\n",
    "print( \"Macro F1:\", np.round( f1_score(yTest, preds, average='macro'), 4 ))\n",
    "print( \"Macro Precision:\", np.round( precision_score(yTest, preds, average='macro'), 4 ))\n",
    "print( \"Macro Recall:\", np.round( recall_score(yTest, preds, average='macro'), 4 ))\n",
    "print( \"Accuracy:\", np.round( accuracy_score(yTest, preds), 4 ))"
   ]
  },
  {
   "cell_type": "markdown",
   "metadata": {},
   "source": [
    "### If model was already trained - Load the saved model for analysis"
   ]
  },
  {
   "cell_type": "code",
   "execution_count": 12,
   "metadata": {},
   "outputs": [],
   "source": [
    "from keras import backend as K \n",
    "\n",
    "# Keras keeps models hanging around in memory. If we retrain a model, Keras will\n",
    "# start from the previously concluded weight values. This resets everything.\n",
    "K.clear_session()\n",
    "\n",
    "bnn = create_probablistic_bnn_model( xTest.shape[0], xTest.shape[1] )\n",
    " \n",
    "# load weights into new model\n",
    "bnn.load_weights(\"./model_weights_3PNN_no_sheath.h5\")"
   ]
  },
  {
   "cell_type": "code",
   "execution_count": 13,
   "metadata": {},
   "outputs": [],
   "source": [
    "from scipy.stats import entropy\n",
    "\n",
    "preds = []\n",
    "en = bnn(xTest).entropy()\n",
    "\n",
    "p = bnn(xTest)\n",
    "for i in range(p.shape[0]):\n",
    "    preds.append( np.argmax(p[i,:]) )"
   ]
  }
 ],
 "metadata": {
  "kernelspec": {
   "display_name": "Python 3 (ipykernel)",
   "language": "python",
   "name": "python3"
  },
  "language_info": {
   "codemirror_mode": {
    "name": "ipython",
    "version": 3
   },
   "file_extension": ".py",
   "mimetype": "text/x-python",
   "name": "python",
   "nbconvert_exporter": "python",
   "pygments_lexer": "ipython3",
   "version": "3.9.13"
  }
 },
 "nbformat": 4,
 "nbformat_minor": 2
}
