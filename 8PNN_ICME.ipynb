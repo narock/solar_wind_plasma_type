{
 "cells": [
  {
   "cell_type": "code",
   "execution_count": 1,
   "metadata": {},
   "outputs": [
    {
     "name": "stderr",
     "output_type": "stream",
     "text": [
      "2024-07-05 14:52:14.766305: I tensorflow/core/platform/cpu_feature_guard.cc:182] This TensorFlow binary is optimized to use available CPU instructions in performance-critical operations.\n",
      "To enable the following instructions: AVX2 AVX512F FMA, in other operations, rebuild TensorFlow with the appropriate compiler flags.\n",
      "2024-07-05 14:52:17.949820: W tensorflow/compiler/tf2tensorrt/utils/py_utils.cc:38] TF-TRT Warning: Could not find TensorRT\n"
     ]
    }
   ],
   "source": [
    "import os\n",
    "import pywt\n",
    "import glob\n",
    "import random\n",
    "import datetime\n",
    "import numpy as np\n",
    "import pandas as pd\n",
    "import matplotlib.pyplot as plt\n",
    "\n",
    "import tensorflow as tf\n",
    "from tensorflow import keras\n",
    "from tensorflow.keras import layers\n",
    "import tensorflow_probability as tfp\n",
    "from tensorflow.keras.models import Sequential\n",
    "from tensorflow.keras.layers import Dense\n",
    "from tensorflow.keras.optimizers import Adam"
   ]
  },
  {
   "cell_type": "markdown",
   "metadata": {},
   "source": [
    "### Load data and preprocess"
   ]
  },
  {
   "cell_type": "code",
   "execution_count": 2,
   "metadata": {},
   "outputs": [],
   "source": [
    "xTrain = np.load(\"./xTrain.npy\")\n",
    "yTrain = np.load(\"./yTrain.npy\", allow_pickle=True)\n",
    "\n",
    "xTest = np.load(\"./xTest.npy\")\n",
    "yTest = np.load(\"./yTest.npy\", allow_pickle=True)"
   ]
  },
  {
   "cell_type": "code",
   "execution_count": 3,
   "metadata": {},
   "outputs": [],
   "source": [
    "# Columns are:\n",
    "#\n",
    "# 0 = 'Beta_p'\n",
    "# 1 = 'Va'\n",
    "# 2 = 'Tratio'\n",
    "# 3 = 'entropy'\n",
    "# 4 = 'crossHelicity'\n",
    "# 5 = 'residualEnergy'\n",
    "# 6 = 'TotalPressure'\n",
    "# 7 = 'bFluctuations'"
   ]
  },
  {
   "cell_type": "code",
   "execution_count": 3,
   "metadata": {},
   "outputs": [],
   "source": [
    "# merge MO and SH into one class\n",
    "ix0 = np.where( (yTrain == 0) | (yTrain == 4) )\n",
    "yTrain[ix0[0]] = 0"
   ]
  },
  {
   "cell_type": "code",
   "execution_count": 4,
   "metadata": {},
   "outputs": [],
   "source": [
    "# merge MO and SH into one class\n",
    "ix0 = np.where( (yTest == 0) | (yTest == 4) )\n",
    "yTest[ix0[0]] = 0"
   ]
  },
  {
   "cell_type": "code",
   "execution_count": 5,
   "metadata": {},
   "outputs": [
    {
     "data": {
      "text/plain": [
       "4"
      ]
     },
     "execution_count": 5,
     "metadata": {},
     "output_type": "execute_result"
    }
   ],
   "source": [
    "nClasses = len( np.unique( yTrain ) )\n",
    "nClasses"
   ]
  },
  {
   "cell_type": "code",
   "execution_count": 7,
   "metadata": {},
   "outputs": [
    {
     "name": "stderr",
     "output_type": "stream",
     "text": [
      "2024-06-21 15:37:05.658033: I tensorflow/core/common_runtime/gpu/gpu_device.cc:1635] Created device /job:localhost/replica:0/task:0/device:GPU:0 with 5337 MB memory:  -> device: 0, name: NVIDIA GeForce GTX TITAN Black, pci bus id: 0000:65:00.0, compute capability: 3.5\n"
     ]
    }
   ],
   "source": [
    "y = tf.one_hot(yTrain,nClasses)"
   ]
  },
  {
   "cell_type": "markdown",
   "metadata": {},
   "source": [
    "### Neural Network"
   ]
  },
  {
   "cell_type": "code",
   "execution_count": 8,
   "metadata": {},
   "outputs": [],
   "source": [
    "from keras import backend as K \n",
    "\n",
    "# Keras keeps models hanging around in memory. If we retrain a model, Keras will\n",
    "# start from the previously concluded weight values. This resets everything.\n",
    "K.clear_session()"
   ]
  },
  {
   "cell_type": "code",
   "execution_count": 7,
   "metadata": {},
   "outputs": [],
   "source": [
    "def create_probablistic_bnn_model(rows,columns):\n",
    "    \n",
    "    inputs = tf.keras.layers.Input(shape=columns)\n",
    "    \n",
    "    hidden1 = tf.keras.layers.Dense(16, activation='relu')(inputs)    \n",
    "    hidden2 = tf.keras.layers.Dense(8, activation='relu')(hidden1)\n",
    "    \n",
    "    distribution_params = layers.Dense(nClasses)(hidden2)\n",
    "    outputs = tfp.layers.OneHotCategorical(1)(distribution_params)\n",
    "\n",
    "    model = keras.Model(inputs=inputs, outputs=outputs)\n",
    "    \n",
    "    return model"
   ]
  },
  {
   "cell_type": "code",
   "execution_count": 8,
   "metadata": {},
   "outputs": [],
   "source": [
    "def negative_loglikelihood(targets, estimated_distribution):\n",
    "    return -estimated_distribution.log_prob(targets)"
   ]
  },
  {
   "cell_type": "code",
   "execution_count": 11,
   "metadata": {},
   "outputs": [
    {
     "name": "stdout",
     "output_type": "stream",
     "text": [
      "Model: \"model\"\n",
      "_________________________________________________________________\n",
      " Layer (type)                Output Shape              Param #   \n",
      "=================================================================\n",
      " input_1 (InputLayer)        [(None, 8)]               0         \n",
      "                                                                 \n",
      " dense (Dense)               (None, 16)                144       \n",
      "                                                                 \n",
      " dense_1 (Dense)             (None, 8)                 136       \n",
      "                                                                 \n",
      " dense_2 (Dense)             (None, 4)                 36        \n",
      "                                                                 \n",
      " one_hot_categorical (OneHot  ((None, 4),              0         \n",
      " Categorical)                 (None, 4))                         \n",
      "                                                                 \n",
      "=================================================================\n",
      "Total params: 316\n",
      "Trainable params: 316\n",
      "Non-trainable params: 0\n",
      "_________________________________________________________________\n"
     ]
    }
   ],
   "source": [
    "bnn = create_probablistic_bnn_model(xTrain.shape[0],xTrain.shape[1])\n",
    "bnn.summary()"
   ]
  },
  {
   "cell_type": "code",
   "execution_count": 12,
   "metadata": {},
   "outputs": [],
   "source": [
    "bnn.compile( loss=negative_loglikelihood, metrics=['accuracy'] )"
   ]
  },
  {
   "cell_type": "code",
   "execution_count": 13,
   "metadata": {
    "scrolled": true
   },
   "outputs": [
    {
     "name": "stdout",
     "output_type": "stream",
     "text": [
      "Epoch 1/200\n"
     ]
    },
    {
     "name": "stderr",
     "output_type": "stream",
     "text": [
      "2024-06-21 15:38:25.756604: I tensorflow/compiler/xla/service/service.cc:169] XLA service 0x718c1401fd80 initialized for platform CUDA (this does not guarantee that XLA will be used). Devices:\n",
      "2024-06-21 15:38:25.756676: I tensorflow/compiler/xla/service/service.cc:177]   StreamExecutor device (0): NVIDIA GeForce GTX TITAN Black, Compute Capability 3.5\n",
      "2024-06-21 15:38:25.853105: I tensorflow/compiler/mlir/tensorflow/utils/dump_mlir_util.cc:269] disabling MLIR crash reproducer, set env var `MLIR_CRASH_REPRODUCER_DIRECTORY` to enable.\n",
      "2024-06-21 15:38:27.151298: I tensorflow/compiler/xla/stream_executor/cuda/cuda_dnn.cc:424] Loaded cuDNN version 8600\n",
      "2024-06-21 15:38:27.346504: I tensorflow/tsl/platform/default/subprocess.cc:304] Start cannot spawn child process: No such file or directory\n",
      "2024-06-21 15:38:27.864415: I ./tensorflow/compiler/jit/device_compiler.h:180] Compiled cluster using XLA!  This line is logged at most once for the lifetime of the process.\n"
     ]
    },
    {
     "name": "stdout",
     "output_type": "stream",
     "text": [
      "1225/1225 [==============================] - 74s 52ms/step - loss: 1.1016 - accuracy: 0.3797 - val_loss: 0.8860 - val_accuracy: 0.4881\n",
      "Epoch 2/200\n",
      "1225/1225 [==============================] - 62s 50ms/step - loss: 0.7780 - accuracy: 0.5422 - val_loss: 0.6816 - val_accuracy: 0.5858\n",
      "Epoch 3/200\n",
      "1225/1225 [==============================] - 62s 50ms/step - loss: 0.6166 - accuracy: 0.6250 - val_loss: 0.5574 - val_accuracy: 0.6563\n",
      "Epoch 4/200\n",
      "1225/1225 [==============================] - 62s 51ms/step - loss: 0.5231 - accuracy: 0.6832 - val_loss: 0.4950 - val_accuracy: 0.6990\n",
      "Epoch 5/200\n",
      "1225/1225 [==============================] - 61s 50ms/step - loss: 0.4721 - accuracy: 0.7139 - val_loss: 0.4775 - val_accuracy: 0.7234\n",
      "Epoch 6/200\n",
      "1225/1225 [==============================] - 61s 50ms/step - loss: 0.4395 - accuracy: 0.7359 - val_loss: 0.4227 - val_accuracy: 0.7485\n",
      "Epoch 7/200\n",
      "1225/1225 [==============================] - 60s 49ms/step - loss: 0.4136 - accuracy: 0.7509 - val_loss: 0.4177 - val_accuracy: 0.7450\n",
      "Epoch 8/200\n",
      "1225/1225 [==============================] - 61s 50ms/step - loss: 0.3903 - accuracy: 0.7663 - val_loss: 0.3748 - val_accuracy: 0.7736\n",
      "Epoch 9/200\n",
      "1225/1225 [==============================] - 60s 49ms/step - loss: 0.3667 - accuracy: 0.7783 - val_loss: 0.3534 - val_accuracy: 0.7869\n",
      "Epoch 10/200\n",
      "1225/1225 [==============================] - 61s 49ms/step - loss: 0.3432 - accuracy: 0.7912 - val_loss: 0.3387 - val_accuracy: 0.7984\n",
      "Epoch 11/200\n",
      "1225/1225 [==============================] - 60s 49ms/step - loss: 0.3211 - accuracy: 0.8011 - val_loss: 0.3289 - val_accuracy: 0.8008\n",
      "Epoch 12/200\n",
      "1225/1225 [==============================] - 61s 50ms/step - loss: 0.3019 - accuracy: 0.8150 - val_loss: 0.2947 - val_accuracy: 0.8193\n",
      "Epoch 13/200\n",
      "1225/1225 [==============================] - 60s 49ms/step - loss: 0.2828 - accuracy: 0.8270 - val_loss: 0.2812 - val_accuracy: 0.8342\n",
      "Epoch 14/200\n",
      "1225/1225 [==============================] - 60s 49ms/step - loss: 0.2660 - accuracy: 0.8375 - val_loss: 0.2777 - val_accuracy: 0.8315\n",
      "Epoch 15/200\n",
      "1225/1225 [==============================] - 60s 49ms/step - loss: 0.2510 - accuracy: 0.8459 - val_loss: 0.2496 - val_accuracy: 0.8560\n",
      "Epoch 16/200\n",
      "1225/1225 [==============================] - 61s 50ms/step - loss: 0.2377 - accuracy: 0.8551 - val_loss: 0.2313 - val_accuracy: 0.8636\n",
      "Epoch 17/200\n",
      "1225/1225 [==============================] - 62s 51ms/step - loss: 0.2259 - accuracy: 0.8628 - val_loss: 0.2194 - val_accuracy: 0.8713\n",
      "Epoch 18/200\n",
      "1225/1225 [==============================] - 62s 51ms/step - loss: 0.2149 - accuracy: 0.8703 - val_loss: 0.2109 - val_accuracy: 0.8692\n",
      "Epoch 19/200\n",
      "1225/1225 [==============================] - 62s 50ms/step - loss: 0.2041 - accuracy: 0.8761 - val_loss: 0.2061 - val_accuracy: 0.8757\n",
      "Epoch 20/200\n",
      "1225/1225 [==============================] - 62s 51ms/step - loss: 0.1944 - accuracy: 0.8806 - val_loss: 0.1860 - val_accuracy: 0.8868\n",
      "Epoch 21/200\n",
      "1225/1225 [==============================] - 62s 51ms/step - loss: 0.1855 - accuracy: 0.8868 - val_loss: 0.1889 - val_accuracy: 0.8872\n",
      "Epoch 22/200\n",
      "1225/1225 [==============================] - 61s 50ms/step - loss: 0.1786 - accuracy: 0.8909 - val_loss: 0.1732 - val_accuracy: 0.8965\n",
      "Epoch 23/200\n",
      "1225/1225 [==============================] - 62s 51ms/step - loss: 0.1715 - accuracy: 0.8961 - val_loss: 0.1669 - val_accuracy: 0.9012\n",
      "Epoch 24/200\n",
      "1225/1225 [==============================] - 62s 51ms/step - loss: 0.1660 - accuracy: 0.9009 - val_loss: 0.1812 - val_accuracy: 0.8993\n",
      "Epoch 25/200\n",
      "1225/1225 [==============================] - 62s 51ms/step - loss: 0.1612 - accuracy: 0.9023 - val_loss: 0.1599 - val_accuracy: 0.9041\n",
      "Epoch 26/200\n",
      "1225/1225 [==============================] - 62s 51ms/step - loss: 0.1554 - accuracy: 0.9052 - val_loss: 0.1602 - val_accuracy: 0.9075\n",
      "Epoch 27/200\n",
      "1225/1225 [==============================] - 62s 51ms/step - loss: 0.1518 - accuracy: 0.9089 - val_loss: 0.1507 - val_accuracy: 0.9083\n",
      "Epoch 28/200\n",
      "1225/1225 [==============================] - 62s 50ms/step - loss: 0.1476 - accuracy: 0.9109 - val_loss: 0.1610 - val_accuracy: 0.9033\n",
      "Epoch 29/200\n",
      "1225/1225 [==============================] - 62s 51ms/step - loss: 0.1449 - accuracy: 0.9141 - val_loss: 0.1429 - val_accuracy: 0.9154\n",
      "Epoch 30/200\n",
      "1225/1225 [==============================] - 62s 50ms/step - loss: 0.1410 - accuracy: 0.9175 - val_loss: 0.1399 - val_accuracy: 0.9188\n",
      "Epoch 31/200\n",
      "1225/1225 [==============================] - 62s 51ms/step - loss: 0.1379 - accuracy: 0.9179 - val_loss: 0.1584 - val_accuracy: 0.9109\n",
      "Epoch 32/200\n",
      "1225/1225 [==============================] - 61s 50ms/step - loss: 0.1355 - accuracy: 0.9190 - val_loss: 0.1376 - val_accuracy: 0.9218\n",
      "Epoch 33/200\n",
      "1225/1225 [==============================] - 62s 51ms/step - loss: 0.1329 - accuracy: 0.9204 - val_loss: 0.1285 - val_accuracy: 0.9248\n",
      "Epoch 34/200\n",
      "1225/1225 [==============================] - 62s 50ms/step - loss: 0.1308 - accuracy: 0.9224 - val_loss: 0.1351 - val_accuracy: 0.9218\n",
      "Epoch 35/200\n",
      "1225/1225 [==============================] - 62s 50ms/step - loss: 0.1287 - accuracy: 0.9231 - val_loss: 0.1265 - val_accuracy: 0.9311\n",
      "Epoch 36/200\n",
      "1225/1225 [==============================] - 62s 50ms/step - loss: 0.1262 - accuracy: 0.9252 - val_loss: 0.1239 - val_accuracy: 0.9314\n",
      "Epoch 37/200\n",
      "1225/1225 [==============================] - 62s 51ms/step - loss: 0.1237 - accuracy: 0.9275 - val_loss: 0.1268 - val_accuracy: 0.9329\n",
      "Epoch 38/200\n",
      "1225/1225 [==============================] - 62s 50ms/step - loss: 0.1222 - accuracy: 0.9262 - val_loss: 0.1405 - val_accuracy: 0.9225\n",
      "Epoch 39/200\n",
      "1225/1225 [==============================] - 63s 51ms/step - loss: 0.1198 - accuracy: 0.9267 - val_loss: 0.1201 - val_accuracy: 0.9306\n",
      "Epoch 40/200\n",
      "1225/1225 [==============================] - 61s 50ms/step - loss: 0.1188 - accuracy: 0.9313 - val_loss: 0.1169 - val_accuracy: 0.9316\n",
      "Epoch 41/200\n",
      "1225/1225 [==============================] - 62s 50ms/step - loss: 0.1165 - accuracy: 0.9313 - val_loss: 0.1169 - val_accuracy: 0.9299\n",
      "Epoch 42/200\n",
      "1225/1225 [==============================] - 62s 51ms/step - loss: 0.1145 - accuracy: 0.9322 - val_loss: 0.1240 - val_accuracy: 0.9315\n",
      "Epoch 43/200\n",
      "1225/1225 [==============================] - 62s 51ms/step - loss: 0.1120 - accuracy: 0.9334 - val_loss: 0.1137 - val_accuracy: 0.9355\n",
      "Epoch 44/200\n",
      "1225/1225 [==============================] - 61s 50ms/step - loss: 0.1104 - accuracy: 0.9351 - val_loss: 0.1101 - val_accuracy: 0.9343\n",
      "Epoch 45/200\n",
      "1225/1225 [==============================] - 63s 51ms/step - loss: 0.1085 - accuracy: 0.9356 - val_loss: 0.1346 - val_accuracy: 0.9311\n",
      "Epoch 46/200\n",
      "1225/1225 [==============================] - 61s 50ms/step - loss: 0.1065 - accuracy: 0.9374 - val_loss: 0.1274 - val_accuracy: 0.9297\n",
      "Epoch 47/200\n",
      "1225/1225 [==============================] - 62s 51ms/step - loss: 0.1047 - accuracy: 0.9390 - val_loss: 0.1016 - val_accuracy: 0.9429\n",
      "Epoch 48/200\n",
      "1225/1225 [==============================] - 63s 51ms/step - loss: 0.1030 - accuracy: 0.9384 - val_loss: 0.1102 - val_accuracy: 0.9351\n",
      "Epoch 49/200\n",
      "1225/1225 [==============================] - 62s 51ms/step - loss: 0.1012 - accuracy: 0.9398 - val_loss: 0.1107 - val_accuracy: 0.9431\n",
      "Epoch 50/200\n",
      "1225/1225 [==============================] - 62s 50ms/step - loss: 0.0994 - accuracy: 0.9413 - val_loss: 0.0971 - val_accuracy: 0.9432\n",
      "Epoch 51/200\n",
      "1225/1225 [==============================] - 62s 50ms/step - loss: 0.0975 - accuracy: 0.9414 - val_loss: 0.1084 - val_accuracy: 0.9447\n",
      "Epoch 52/200\n",
      "1225/1225 [==============================] - 63s 51ms/step - loss: 0.0964 - accuracy: 0.9429 - val_loss: 0.0983 - val_accuracy: 0.9438\n",
      "Epoch 53/200\n",
      "1225/1225 [==============================] - 62s 51ms/step - loss: 0.0949 - accuracy: 0.9450 - val_loss: 0.1075 - val_accuracy: 0.9400\n",
      "Epoch 54/200\n",
      "1225/1225 [==============================] - 62s 50ms/step - loss: 0.0930 - accuracy: 0.9467 - val_loss: 0.0941 - val_accuracy: 0.9493\n",
      "Epoch 55/200\n",
      "1225/1225 [==============================] - 61s 50ms/step - loss: 0.0911 - accuracy: 0.9461 - val_loss: 0.0938 - val_accuracy: 0.9517\n",
      "Epoch 56/200\n",
      "1225/1225 [==============================] - 61s 50ms/step - loss: 0.0906 - accuracy: 0.9485 - val_loss: 0.0992 - val_accuracy: 0.9487\n",
      "Epoch 57/200\n",
      "1225/1225 [==============================] - 61s 50ms/step - loss: 0.0890 - accuracy: 0.9496 - val_loss: 0.0882 - val_accuracy: 0.9487\n",
      "Epoch 58/200\n",
      "1225/1225 [==============================] - 63s 51ms/step - loss: 0.0880 - accuracy: 0.9469 - val_loss: 0.0891 - val_accuracy: 0.9526\n",
      "Epoch 59/200\n",
      "1225/1225 [==============================] - 62s 50ms/step - loss: 0.0874 - accuracy: 0.9506 - val_loss: 0.1010 - val_accuracy: 0.9481\n",
      "Epoch 60/200\n",
      "1225/1225 [==============================] - 61s 50ms/step - loss: 0.0860 - accuracy: 0.9507 - val_loss: 0.0883 - val_accuracy: 0.9509\n",
      "Epoch 61/200\n",
      "1225/1225 [==============================] - 62s 51ms/step - loss: 0.0845 - accuracy: 0.9517 - val_loss: 0.0912 - val_accuracy: 0.9513\n",
      "Epoch 62/200\n",
      "1225/1225 [==============================] - 62s 51ms/step - loss: 0.0837 - accuracy: 0.9521 - val_loss: 0.0844 - val_accuracy: 0.9514\n",
      "Epoch 63/200\n",
      "1225/1225 [==============================] - 62s 50ms/step - loss: 0.0834 - accuracy: 0.9525 - val_loss: 0.0903 - val_accuracy: 0.9507\n",
      "Epoch 64/200\n",
      "1225/1225 [==============================] - 62s 50ms/step - loss: 0.0817 - accuracy: 0.9536 - val_loss: 0.0840 - val_accuracy: 0.9536\n",
      "Epoch 65/200\n",
      "1225/1225 [==============================] - 62s 50ms/step - loss: 0.0815 - accuracy: 0.9546 - val_loss: 0.0869 - val_accuracy: 0.9553\n",
      "Epoch 66/200\n",
      "1225/1225 [==============================] - 62s 51ms/step - loss: 0.0811 - accuracy: 0.9542 - val_loss: 0.1068 - val_accuracy: 0.9432\n",
      "Epoch 67/200\n",
      "1225/1225 [==============================] - 62s 51ms/step - loss: 0.0799 - accuracy: 0.9533 - val_loss: 0.0815 - val_accuracy: 0.9560\n",
      "Epoch 68/200\n",
      "1225/1225 [==============================] - 63s 51ms/step - loss: 0.0790 - accuracy: 0.9549 - val_loss: 0.0946 - val_accuracy: 0.9514\n",
      "Epoch 69/200\n",
      "1225/1225 [==============================] - 62s 50ms/step - loss: 0.0790 - accuracy: 0.9558 - val_loss: 0.0821 - val_accuracy: 0.9535\n",
      "Epoch 70/200\n",
      "1225/1225 [==============================] - 63s 51ms/step - loss: 0.0777 - accuracy: 0.9559 - val_loss: 0.0824 - val_accuracy: 0.9605\n",
      "Epoch 71/200\n",
      "1225/1225 [==============================] - 61s 50ms/step - loss: 0.0772 - accuracy: 0.9555 - val_loss: 0.0820 - val_accuracy: 0.9597\n",
      "Epoch 72/200\n",
      "1225/1225 [==============================] - 62s 51ms/step - loss: 0.0767 - accuracy: 0.9563 - val_loss: 0.0810 - val_accuracy: 0.9569\n",
      "Epoch 73/200\n",
      "1225/1225 [==============================] - 62s 51ms/step - loss: 0.0757 - accuracy: 0.9560 - val_loss: 0.0765 - val_accuracy: 0.9613\n",
      "Epoch 74/200\n",
      "1225/1225 [==============================] - 63s 51ms/step - loss: 0.0750 - accuracy: 0.9588 - val_loss: 0.0775 - val_accuracy: 0.9606\n",
      "Epoch 75/200\n",
      "1225/1225 [==============================] - 62s 51ms/step - loss: 0.0745 - accuracy: 0.9584 - val_loss: 0.0798 - val_accuracy: 0.9575\n",
      "Epoch 76/200\n",
      "1225/1225 [==============================] - 63s 51ms/step - loss: 0.0743 - accuracy: 0.9564 - val_loss: 0.0738 - val_accuracy: 0.9596\n",
      "Epoch 77/200\n",
      "1225/1225 [==============================] - 61s 50ms/step - loss: 0.0732 - accuracy: 0.9589 - val_loss: 0.0778 - val_accuracy: 0.9586\n",
      "Epoch 78/200\n",
      "1225/1225 [==============================] - 62s 51ms/step - loss: 0.0724 - accuracy: 0.9589 - val_loss: 0.0774 - val_accuracy: 0.9588\n",
      "Epoch 79/200\n",
      "1225/1225 [==============================] - 62s 50ms/step - loss: 0.0725 - accuracy: 0.9606 - val_loss: 0.0846 - val_accuracy: 0.9543\n",
      "Epoch 80/200\n",
      "1225/1225 [==============================] - 61s 50ms/step - loss: 0.0715 - accuracy: 0.9602 - val_loss: 0.0743 - val_accuracy: 0.9598\n",
      "Epoch 81/200\n",
      "1225/1225 [==============================] - 62s 51ms/step - loss: 0.0708 - accuracy: 0.9611 - val_loss: 0.0838 - val_accuracy: 0.9568\n",
      "Epoch 82/200\n",
      "1225/1225 [==============================] - 62s 51ms/step - loss: 0.0705 - accuracy: 0.9594 - val_loss: 0.0723 - val_accuracy: 0.9619\n",
      "Epoch 83/200\n",
      "1225/1225 [==============================] - 62s 51ms/step - loss: 0.0697 - accuracy: 0.9609 - val_loss: 0.0704 - val_accuracy: 0.9626\n",
      "Epoch 84/200\n",
      "1225/1225 [==============================] - 62s 51ms/step - loss: 0.0691 - accuracy: 0.9614 - val_loss: 0.0751 - val_accuracy: 0.9623\n",
      "Epoch 85/200\n",
      "1225/1225 [==============================] - 62s 51ms/step - loss: 0.0687 - accuracy: 0.9630 - val_loss: 0.0738 - val_accuracy: 0.9619\n",
      "Epoch 86/200\n",
      "1225/1225 [==============================] - 62s 50ms/step - loss: 0.0688 - accuracy: 0.9614 - val_loss: 0.0959 - val_accuracy: 0.9582\n",
      "Epoch 87/200\n",
      "1225/1225 [==============================] - 62s 51ms/step - loss: 0.0687 - accuracy: 0.9620 - val_loss: 0.0726 - val_accuracy: 0.9651\n",
      "Epoch 88/200\n",
      "1225/1225 [==============================] - 62s 51ms/step - loss: 0.0675 - accuracy: 0.9627 - val_loss: 0.0853 - val_accuracy: 0.9576\n",
      "Epoch 89/200\n",
      "1225/1225 [==============================] - 62s 51ms/step - loss: 0.0675 - accuracy: 0.9631 - val_loss: 0.0838 - val_accuracy: 0.9531\n",
      "Epoch 90/200\n",
      "1225/1225 [==============================] - 62s 50ms/step - loss: 0.0665 - accuracy: 0.9637 - val_loss: 0.0745 - val_accuracy: 0.9624\n",
      "Epoch 91/200\n",
      "1225/1225 [==============================] - 62s 51ms/step - loss: 0.0657 - accuracy: 0.9636 - val_loss: 0.0944 - val_accuracy: 0.9567\n",
      "Epoch 92/200\n",
      "1225/1225 [==============================] - 62s 51ms/step - loss: 0.0657 - accuracy: 0.9643 - val_loss: 0.0810 - val_accuracy: 0.9641\n",
      "Epoch 93/200\n",
      "1225/1225 [==============================] - 62s 51ms/step - loss: 0.0648 - accuracy: 0.9646 - val_loss: 0.0862 - val_accuracy: 0.9556\n",
      "Epoch 94/200\n",
      "1225/1225 [==============================] - 61s 50ms/step - loss: 0.0656 - accuracy: 0.9639 - val_loss: 0.0739 - val_accuracy: 0.9627\n",
      "Epoch 95/200\n",
      "1225/1225 [==============================] - 62s 51ms/step - loss: 0.0642 - accuracy: 0.9647 - val_loss: 0.0682 - val_accuracy: 0.9661\n",
      "Epoch 96/200\n",
      "1225/1225 [==============================] - 62s 50ms/step - loss: 0.0645 - accuracy: 0.9637 - val_loss: 0.0739 - val_accuracy: 0.9603\n",
      "Epoch 97/200\n",
      "1225/1225 [==============================] - 62s 51ms/step - loss: 0.0639 - accuracy: 0.9654 - val_loss: 0.0627 - val_accuracy: 0.9673\n",
      "Epoch 98/200\n",
      "1225/1225 [==============================] - 61s 50ms/step - loss: 0.0631 - accuracy: 0.9650 - val_loss: 0.0699 - val_accuracy: 0.9654\n",
      "Epoch 99/200\n",
      "1225/1225 [==============================] - 62s 51ms/step - loss: 0.0636 - accuracy: 0.9656 - val_loss: 0.0680 - val_accuracy: 0.9669\n",
      "Epoch 100/200\n",
      "1225/1225 [==============================] - 62s 51ms/step - loss: 0.0632 - accuracy: 0.9665 - val_loss: 0.0727 - val_accuracy: 0.9647\n",
      "Epoch 101/200\n",
      "1225/1225 [==============================] - 62s 51ms/step - loss: 0.0624 - accuracy: 0.9655 - val_loss: 0.0669 - val_accuracy: 0.9639\n",
      "Epoch 102/200\n",
      "1225/1225 [==============================] - 63s 51ms/step - loss: 0.0619 - accuracy: 0.9660 - val_loss: 0.0707 - val_accuracy: 0.9663\n",
      "Epoch 103/200\n",
      "1225/1225 [==============================] - 62s 51ms/step - loss: 0.0622 - accuracy: 0.9653 - val_loss: 0.0747 - val_accuracy: 0.9685\n",
      "Epoch 104/200\n",
      "1225/1225 [==============================] - 62s 50ms/step - loss: 0.0620 - accuracy: 0.9671 - val_loss: 0.0695 - val_accuracy: 0.9652\n",
      "Epoch 105/200\n",
      "1225/1225 [==============================] - 62s 50ms/step - loss: 0.0619 - accuracy: 0.9670 - val_loss: 0.0632 - val_accuracy: 0.9691\n",
      "Epoch 106/200\n",
      "1225/1225 [==============================] - 62s 50ms/step - loss: 0.0608 - accuracy: 0.9670 - val_loss: 0.0843 - val_accuracy: 0.9582\n",
      "Epoch 107/200\n",
      "1225/1225 [==============================] - 62s 51ms/step - loss: 0.0609 - accuracy: 0.9669 - val_loss: 0.0766 - val_accuracy: 0.9654\n",
      "Epoch 108/200\n",
      "1225/1225 [==============================] - 62s 51ms/step - loss: 0.0605 - accuracy: 0.9681 - val_loss: 0.0691 - val_accuracy: 0.9654\n",
      "Epoch 109/200\n",
      "1225/1225 [==============================] - 62s 50ms/step - loss: 0.0604 - accuracy: 0.9674 - val_loss: 0.0664 - val_accuracy: 0.9691\n",
      "Epoch 110/200\n",
      "1225/1225 [==============================] - 62s 50ms/step - loss: 0.0605 - accuracy: 0.9689 - val_loss: 0.0711 - val_accuracy: 0.9664\n",
      "Epoch 111/200\n"
     ]
    },
    {
     "name": "stdout",
     "output_type": "stream",
     "text": [
      "1225/1225 [==============================] - 62s 51ms/step - loss: 0.0599 - accuracy: 0.9678 - val_loss: 0.0654 - val_accuracy: 0.9692\n",
      "Epoch 112/200\n",
      "1225/1225 [==============================] - 62s 50ms/step - loss: 0.0598 - accuracy: 0.9679 - val_loss: 0.0614 - val_accuracy: 0.9670\n",
      "Epoch 113/200\n",
      "1225/1225 [==============================] - 62s 51ms/step - loss: 0.0592 - accuracy: 0.9694 - val_loss: 0.0958 - val_accuracy: 0.9554\n",
      "Epoch 114/200\n",
      "1225/1225 [==============================] - 62s 51ms/step - loss: 0.0596 - accuracy: 0.9678 - val_loss: 0.0635 - val_accuracy: 0.9655\n",
      "Epoch 115/200\n",
      "1225/1225 [==============================] - 62s 50ms/step - loss: 0.0586 - accuracy: 0.9688 - val_loss: 0.0678 - val_accuracy: 0.9679\n",
      "Epoch 116/200\n",
      "1225/1225 [==============================] - 62s 51ms/step - loss: 0.0588 - accuracy: 0.9691 - val_loss: 0.0663 - val_accuracy: 0.9691\n",
      "Epoch 117/200\n",
      "1225/1225 [==============================] - 63s 51ms/step - loss: 0.0585 - accuracy: 0.9685 - val_loss: 0.0634 - val_accuracy: 0.9716\n",
      "Epoch 118/200\n",
      "1225/1225 [==============================] - 62s 51ms/step - loss: 0.0586 - accuracy: 0.9682 - val_loss: 0.0849 - val_accuracy: 0.9578\n",
      "Epoch 119/200\n",
      "1225/1225 [==============================] - 61s 50ms/step - loss: 0.0582 - accuracy: 0.9674 - val_loss: 0.0758 - val_accuracy: 0.9628\n",
      "Epoch 120/200\n",
      "1225/1225 [==============================] - 63s 52ms/step - loss: 0.0581 - accuracy: 0.9705 - val_loss: 0.0597 - val_accuracy: 0.9736\n",
      "Epoch 121/200\n",
      "1225/1225 [==============================] - 63s 52ms/step - loss: 0.0583 - accuracy: 0.9686 - val_loss: 0.0928 - val_accuracy: 0.9599\n",
      "Epoch 122/200\n",
      "1225/1225 [==============================] - 62s 51ms/step - loss: 0.0583 - accuracy: 0.9693 - val_loss: 0.0600 - val_accuracy: 0.9697\n",
      "Epoch 123/200\n",
      "1225/1225 [==============================] - 62s 51ms/step - loss: 0.0580 - accuracy: 0.9701 - val_loss: 0.0612 - val_accuracy: 0.9679\n",
      "Epoch 124/200\n",
      "1225/1225 [==============================] - 62s 51ms/step - loss: 0.0578 - accuracy: 0.9702 - val_loss: 0.0813 - val_accuracy: 0.9592\n",
      "Epoch 125/200\n",
      "1225/1225 [==============================] - 62s 50ms/step - loss: 0.0574 - accuracy: 0.9692 - val_loss: 0.0842 - val_accuracy: 0.9610\n",
      "Epoch 126/200\n",
      "1225/1225 [==============================] - 62s 51ms/step - loss: 0.0569 - accuracy: 0.9704 - val_loss: 0.0617 - val_accuracy: 0.9715\n",
      "Epoch 127/200\n",
      "1225/1225 [==============================] - 62s 51ms/step - loss: 0.0567 - accuracy: 0.9705 - val_loss: 0.0617 - val_accuracy: 0.9699\n",
      "Epoch 128/200\n",
      "1225/1225 [==============================] - 62s 50ms/step - loss: 0.0567 - accuracy: 0.9697 - val_loss: 0.0593 - val_accuracy: 0.9701\n",
      "Epoch 129/200\n",
      "1225/1225 [==============================] - 62s 51ms/step - loss: 0.0576 - accuracy: 0.9697 - val_loss: 0.0609 - val_accuracy: 0.9736\n",
      "Epoch 130/200\n",
      "1225/1225 [==============================] - 62s 50ms/step - loss: 0.0564 - accuracy: 0.9712 - val_loss: 0.0596 - val_accuracy: 0.9719\n",
      "Epoch 131/200\n",
      "1225/1225 [==============================] - 62s 50ms/step - loss: 0.0565 - accuracy: 0.9702 - val_loss: 0.0726 - val_accuracy: 0.9670\n",
      "Epoch 132/200\n",
      "1225/1225 [==============================] - 62s 51ms/step - loss: 0.0564 - accuracy: 0.9717 - val_loss: 0.0696 - val_accuracy: 0.9691\n",
      "Epoch 133/200\n",
      "1225/1225 [==============================] - 62s 50ms/step - loss: 0.0562 - accuracy: 0.9707 - val_loss: 0.0618 - val_accuracy: 0.9692\n",
      "Epoch 134/200\n",
      "1225/1225 [==============================] - 62s 51ms/step - loss: 0.0561 - accuracy: 0.9706 - val_loss: 0.0747 - val_accuracy: 0.9694\n",
      "Epoch 135/200\n",
      "1225/1225 [==============================] - 62s 51ms/step - loss: 0.0563 - accuracy: 0.9704 - val_loss: 0.0654 - val_accuracy: 0.9691\n",
      "Epoch 136/200\n",
      "1225/1225 [==============================] - 63s 51ms/step - loss: 0.0559 - accuracy: 0.9705 - val_loss: 0.0666 - val_accuracy: 0.9680\n",
      "Epoch 137/200\n",
      "1225/1225 [==============================] - 62s 51ms/step - loss: 0.0559 - accuracy: 0.9717 - val_loss: 0.0748 - val_accuracy: 0.9672\n",
      "Epoch 138/200\n",
      "1225/1225 [==============================] - 62s 50ms/step - loss: 0.0559 - accuracy: 0.9714 - val_loss: 0.0572 - val_accuracy: 0.9760\n",
      "Epoch 139/200\n",
      "1225/1225 [==============================] - 62s 51ms/step - loss: 0.0559 - accuracy: 0.9712 - val_loss: 0.0602 - val_accuracy: 0.9713\n",
      "Epoch 140/200\n",
      "1225/1225 [==============================] - 62s 51ms/step - loss: 0.0547 - accuracy: 0.9716 - val_loss: 0.0648 - val_accuracy: 0.9717\n",
      "Epoch 141/200\n",
      "1225/1225 [==============================] - 62s 51ms/step - loss: 0.0560 - accuracy: 0.9715 - val_loss: 0.0549 - val_accuracy: 0.9719\n",
      "Epoch 142/200\n",
      "1225/1225 [==============================] - 62s 51ms/step - loss: 0.0550 - accuracy: 0.9708 - val_loss: 0.0574 - val_accuracy: 0.9719\n",
      "Epoch 143/200\n",
      "1225/1225 [==============================] - 62s 51ms/step - loss: 0.0551 - accuracy: 0.9723 - val_loss: 0.0646 - val_accuracy: 0.9706\n",
      "Epoch 144/200\n",
      "1225/1225 [==============================] - 62s 51ms/step - loss: 0.0548 - accuracy: 0.9718 - val_loss: 0.0618 - val_accuracy: 0.9699\n",
      "Epoch 145/200\n",
      "1225/1225 [==============================] - 63s 52ms/step - loss: 0.0553 - accuracy: 0.9714 - val_loss: 0.0583 - val_accuracy: 0.9744\n",
      "Epoch 146/200\n",
      "1225/1225 [==============================] - 62s 51ms/step - loss: 0.0552 - accuracy: 0.9717 - val_loss: 0.0595 - val_accuracy: 0.9713\n",
      "Epoch 147/200\n",
      "1225/1225 [==============================] - 62s 51ms/step - loss: 0.0542 - accuracy: 0.9714 - val_loss: 0.0557 - val_accuracy: 0.9739\n",
      "Epoch 148/200\n",
      "1225/1225 [==============================] - 62s 50ms/step - loss: 0.0548 - accuracy: 0.9725 - val_loss: 0.0559 - val_accuracy: 0.9714\n",
      "Epoch 149/200\n",
      "1225/1225 [==============================] - 63s 51ms/step - loss: 0.0541 - accuracy: 0.9716 - val_loss: 0.0655 - val_accuracy: 0.9716\n",
      "Epoch 150/200\n",
      "1225/1225 [==============================] - 62s 51ms/step - loss: 0.0548 - accuracy: 0.9718 - val_loss: 0.0581 - val_accuracy: 0.9726\n",
      "Epoch 151/200\n",
      "1225/1225 [==============================] - 62s 51ms/step - loss: 0.0547 - accuracy: 0.9712 - val_loss: 0.0624 - val_accuracy: 0.9743\n",
      "Epoch 152/200\n",
      "1225/1225 [==============================] - 62s 50ms/step - loss: 0.0538 - accuracy: 0.9721 - val_loss: 0.0548 - val_accuracy: 0.9737\n",
      "Epoch 153/200\n",
      "1225/1225 [==============================] - 62s 50ms/step - loss: 0.0544 - accuracy: 0.9717 - val_loss: 0.0664 - val_accuracy: 0.9715\n",
      "Epoch 154/200\n",
      "1225/1225 [==============================] - 62s 51ms/step - loss: 0.0537 - accuracy: 0.9733 - val_loss: 0.0583 - val_accuracy: 0.9730\n",
      "Epoch 155/200\n",
      "1225/1225 [==============================] - 62s 51ms/step - loss: 0.0536 - accuracy: 0.9727 - val_loss: 0.0605 - val_accuracy: 0.9711\n",
      "Epoch 156/200\n",
      "1225/1225 [==============================] - 61s 50ms/step - loss: 0.0543 - accuracy: 0.9728 - val_loss: 0.0548 - val_accuracy: 0.9750\n",
      "Epoch 157/200\n",
      "1225/1225 [==============================] - 62s 51ms/step - loss: 0.0539 - accuracy: 0.9716 - val_loss: 0.0578 - val_accuracy: 0.9717\n",
      "Epoch 158/200\n",
      "1225/1225 [==============================] - 62s 51ms/step - loss: 0.0548 - accuracy: 0.9723 - val_loss: 0.0597 - val_accuracy: 0.9721\n",
      "Epoch 159/200\n",
      "1225/1225 [==============================] - 62s 51ms/step - loss: 0.0531 - accuracy: 0.9733 - val_loss: 0.0564 - val_accuracy: 0.9731\n",
      "Epoch 160/200\n",
      "1225/1225 [==============================] - 61s 50ms/step - loss: 0.0532 - accuracy: 0.9735 - val_loss: 0.0551 - val_accuracy: 0.9724\n",
      "Epoch 161/200\n",
      "1225/1225 [==============================] - 63s 51ms/step - loss: 0.0532 - accuracy: 0.9720 - val_loss: 0.0545 - val_accuracy: 0.9747\n",
      "Epoch 162/200\n",
      "1225/1225 [==============================] - 62s 51ms/step - loss: 0.0533 - accuracy: 0.9724 - val_loss: 0.0543 - val_accuracy: 0.9735\n",
      "Epoch 163/200\n",
      "1225/1225 [==============================] - 62s 51ms/step - loss: 0.0524 - accuracy: 0.9732 - val_loss: 0.0599 - val_accuracy: 0.9748\n",
      "Epoch 164/200\n",
      "1225/1225 [==============================] - 63s 51ms/step - loss: 0.0528 - accuracy: 0.9721 - val_loss: 0.0644 - val_accuracy: 0.9686\n",
      "Epoch 165/200\n",
      "1225/1225 [==============================] - 62s 50ms/step - loss: 0.0530 - accuracy: 0.9734 - val_loss: 0.0638 - val_accuracy: 0.9736\n",
      "Epoch 166/200\n"
     ]
    },
    {
     "name": "stdout",
     "output_type": "stream",
     "text": [
      "1225/1225 [==============================] - 62s 51ms/step - loss: 0.0534 - accuracy: 0.9714 - val_loss: 0.0648 - val_accuracy: 0.9673\n",
      "Epoch 167/200\n",
      "1225/1225 [==============================] - 63s 51ms/step - loss: 0.0525 - accuracy: 0.9742 - val_loss: 0.0561 - val_accuracy: 0.9739\n",
      "Epoch 168/200\n",
      "1225/1225 [==============================] - 62s 51ms/step - loss: 0.0531 - accuracy: 0.9729 - val_loss: 0.0586 - val_accuracy: 0.9715\n",
      "Epoch 169/200\n",
      "1225/1225 [==============================] - 62s 51ms/step - loss: 0.0528 - accuracy: 0.9740 - val_loss: 0.0670 - val_accuracy: 0.9691\n",
      "Epoch 170/200\n",
      "1225/1225 [==============================] - 62s 51ms/step - loss: 0.0525 - accuracy: 0.9730 - val_loss: 0.0544 - val_accuracy: 0.9754\n",
      "Epoch 171/200\n",
      "1225/1225 [==============================] - 62s 50ms/step - loss: 0.0528 - accuracy: 0.9725 - val_loss: 0.0695 - val_accuracy: 0.9685\n",
      "Epoch 172/200\n",
      "1225/1225 [==============================] - 62s 50ms/step - loss: 0.0521 - accuracy: 0.9743 - val_loss: 0.0557 - val_accuracy: 0.9743\n",
      "Epoch 173/200\n",
      "1225/1225 [==============================] - 62s 50ms/step - loss: 0.0520 - accuracy: 0.9737 - val_loss: 0.0544 - val_accuracy: 0.9769\n",
      "Epoch 174/200\n",
      "1225/1225 [==============================] - 62s 51ms/step - loss: 0.0511 - accuracy: 0.9742 - val_loss: 0.0841 - val_accuracy: 0.9650\n",
      "Epoch 175/200\n",
      "1225/1225 [==============================] - 62s 50ms/step - loss: 0.0521 - accuracy: 0.9730 - val_loss: 0.0779 - val_accuracy: 0.9673\n",
      "Epoch 176/200\n",
      "1225/1225 [==============================] - 63s 51ms/step - loss: 0.0519 - accuracy: 0.9736 - val_loss: 0.0713 - val_accuracy: 0.9689\n",
      "Epoch 177/200\n",
      "1225/1225 [==============================] - 62s 51ms/step - loss: 0.0514 - accuracy: 0.9742 - val_loss: 0.0647 - val_accuracy: 0.9698\n",
      "Epoch 178/200\n",
      "1225/1225 [==============================] - 63s 51ms/step - loss: 0.0519 - accuracy: 0.9730 - val_loss: 0.0575 - val_accuracy: 0.9744\n",
      "Epoch 179/200\n",
      "1225/1225 [==============================] - 62s 51ms/step - loss: 0.0514 - accuracy: 0.9734 - val_loss: 0.0552 - val_accuracy: 0.9739\n",
      "Epoch 180/200\n",
      "1225/1225 [==============================] - 62s 51ms/step - loss: 0.0511 - accuracy: 0.9735 - val_loss: 0.0531 - val_accuracy: 0.9753\n",
      "Epoch 181/200\n",
      "1225/1225 [==============================] - 63s 51ms/step - loss: 0.0510 - accuracy: 0.9736 - val_loss: 0.0529 - val_accuracy: 0.9758\n",
      "Epoch 182/200\n",
      "1225/1225 [==============================] - 62s 51ms/step - loss: 0.0512 - accuracy: 0.9740 - val_loss: 0.0524 - val_accuracy: 0.9746\n",
      "Epoch 183/200\n",
      "1225/1225 [==============================] - 63s 51ms/step - loss: 0.0514 - accuracy: 0.9736 - val_loss: 0.0520 - val_accuracy: 0.9762\n",
      "Epoch 184/200\n",
      "1225/1225 [==============================] - 61s 50ms/step - loss: 0.0514 - accuracy: 0.9742 - val_loss: 0.0548 - val_accuracy: 0.9761\n",
      "Epoch 185/200\n",
      "1225/1225 [==============================] - 62s 51ms/step - loss: 0.0508 - accuracy: 0.9741 - val_loss: 0.0531 - val_accuracy: 0.9775\n",
      "Epoch 186/200\n",
      "1225/1225 [==============================] - 62s 50ms/step - loss: 0.0506 - accuracy: 0.9738 - val_loss: 0.0540 - val_accuracy: 0.9776\n",
      "Epoch 187/200\n",
      "1225/1225 [==============================] - 62s 50ms/step - loss: 0.0511 - accuracy: 0.9750 - val_loss: 0.0556 - val_accuracy: 0.9745\n",
      "Epoch 188/200\n",
      "1225/1225 [==============================] - 61s 50ms/step - loss: 0.0504 - accuracy: 0.9739 - val_loss: 0.0574 - val_accuracy: 0.9753\n",
      "Epoch 189/200\n",
      "1225/1225 [==============================] - 62s 50ms/step - loss: 0.0500 - accuracy: 0.9754 - val_loss: 0.0561 - val_accuracy: 0.9737\n",
      "Epoch 190/200\n",
      "1225/1225 [==============================] - 62s 51ms/step - loss: 0.0501 - accuracy: 0.9742 - val_loss: 0.0548 - val_accuracy: 0.9758\n",
      "Epoch 191/200\n",
      "1225/1225 [==============================] - 62s 50ms/step - loss: 0.0502 - accuracy: 0.9746 - val_loss: 0.0752 - val_accuracy: 0.9696\n",
      "Epoch 192/200\n",
      "1225/1225 [==============================] - 62s 50ms/step - loss: 0.0501 - accuracy: 0.9745 - val_loss: 0.0587 - val_accuracy: 0.9737\n",
      "Epoch 193/200\n",
      "1225/1225 [==============================] - 62s 50ms/step - loss: 0.0500 - accuracy: 0.9729 - val_loss: 0.0681 - val_accuracy: 0.9661\n",
      "Epoch 194/200\n",
      "1225/1225 [==============================] - 63s 51ms/step - loss: 0.0490 - accuracy: 0.9747 - val_loss: 0.0527 - val_accuracy: 0.9751\n",
      "Epoch 195/200\n",
      "1225/1225 [==============================] - 62s 50ms/step - loss: 0.0500 - accuracy: 0.9743 - val_loss: 0.0532 - val_accuracy: 0.9745\n",
      "Epoch 196/200\n",
      "1225/1225 [==============================] - 50s 41ms/step - loss: 0.0492 - accuracy: 0.9735 - val_loss: 0.0517 - val_accuracy: 0.9756\n",
      "Epoch 197/200\n",
      "1225/1225 [==============================] - 49s 40ms/step - loss: 0.0493 - accuracy: 0.9759 - val_loss: 0.0664 - val_accuracy: 0.9671\n",
      "Epoch 198/200\n",
      "1225/1225 [==============================] - 60s 49ms/step - loss: 0.0491 - accuracy: 0.9741 - val_loss: 0.0709 - val_accuracy: 0.9679\n",
      "Epoch 199/200\n",
      "1225/1225 [==============================] - 62s 51ms/step - loss: 0.0491 - accuracy: 0.9737 - val_loss: 0.0535 - val_accuracy: 0.9755\n",
      "Epoch 200/200\n",
      "1225/1225 [==============================] - 62s 51ms/step - loss: 0.0484 - accuracy: 0.9750 - val_loss: 0.0535 - val_accuracy: 0.9786\n"
     ]
    }
   ],
   "source": [
    "history = bnn.fit( xTrain, y, epochs=200, verbose=1, \n",
    "                  use_multiprocessing=True, validation_split=0.2)"
   ]
  },
  {
   "cell_type": "code",
   "execution_count": 14,
   "metadata": {},
   "outputs": [
    {
     "data": {
      "text/plain": [
       "<matplotlib.legend.Legend at 0x718cac363f70>"
      ]
     },
     "execution_count": 14,
     "metadata": {},
     "output_type": "execute_result"
    },
    {
     "data": {
      "image/png": "[encoded data removed]",
      "text/plain": [
       "<Figure size 432x288 with 1 Axes>"
      ]
     },
     "metadata": {
      "needs_background": "light"
     },
     "output_type": "display_data"
    }
   ],
   "source": [
    "plt.plot( history.history['accuracy'], label=\"Accuracy\")\n",
    "plt.plot( history.history['val_accuracy'], label=\"val_acc\")\n",
    "plt.title('Model Accuracy')\n",
    "plt.ylabel('Accuracy')\n",
    "plt.xlabel('Epoch')\n",
    "plt.legend()"
   ]
  },
  {
   "cell_type": "code",
   "execution_count": 15,
   "metadata": {},
   "outputs": [
    {
     "data": {
      "text/plain": [
       "<matplotlib.legend.Legend at 0x718cac2c9a90>"
      ]
     },
     "execution_count": 15,
     "metadata": {},
     "output_type": "execute_result"
    },
    {
     "data": {
      "image/png": "[encoded data removed]",
      "text/plain": [
       "<Figure size 432x288 with 1 Axes>"
      ]
     },
     "metadata": {
      "needs_background": "light"
     },
     "output_type": "display_data"
    }
   ],
   "source": [
    "plt.plot( history.history['loss'], label=\"loss\")\n",
    "plt.plot( history.history['val_loss'], label=\"val_loss\")\n",
    "plt.title('Model Loss')\n",
    "plt.ylabel('Loss')\n",
    "plt.xlabel('Epoch')\n",
    "plt.legend()"
   ]
  },
  {
   "cell_type": "code",
   "execution_count": 16,
   "metadata": {},
   "outputs": [],
   "source": [
    "# serialize weights to HDF5\n",
    "bnn.save_weights(\"./model_weights_8PNN_icme.h5\")"
   ]
  },
  {
   "cell_type": "code",
   "execution_count": 17,
   "metadata": {},
   "outputs": [],
   "source": [
    "from scipy.stats import entropy\n",
    "\n",
    "preds = []\n",
    "p = bnn( xTest )\n",
    "en = bnn( xTest ).entropy()\n",
    "\n",
    "for i in range( p.shape[0] ):\n",
    "    preds.append( np.argmax(p[i,:]) )\n",
    "    \n",
    "preds = np.array(preds)"
   ]
  },
  {
   "cell_type": "code",
   "execution_count": 23,
   "metadata": {},
   "outputs": [],
   "source": [
    "font = {'weight' : 'bold', 'size'   : 20}\n",
    "plt.rc('font', **font)"
   ]
  },
  {
   "cell_type": "code",
   "execution_count": 24,
   "metadata": {
    "scrolled": false
   },
   "outputs": [
    {
     "data": {
      "text/plain": [
       "<sklearn.metrics._plot.confusion_matrix.ConfusionMatrixDisplay at 0x718c1a258c10>"
      ]
     },
     "execution_count": 24,
     "metadata": {},
     "output_type": "execute_result"
    },
    {
     "data": {
      "image/png": "[encoded data removed]",
      "text/plain": [
       "<Figure size 576x576 with 2 Axes>"
      ]
     },
     "metadata": {
      "needs_background": "light"
     },
     "output_type": "display_data"
    }
   ],
   "source": [
    "from sklearn.metrics import confusion_matrix, ConfusionMatrixDisplay\n",
    "\n",
    "fig, ax = plt.subplots(figsize=(8, 8))\n",
    "\n",
    "cm = confusion_matrix( yTest.astype(int), preds, normalize='true' )\n",
    "disp = ConfusionMatrixDisplay( confusion_matrix=cm )\n",
    "disp.plot(ax=ax, cmap='gist_yarg')"
   ]
  },
  {
   "cell_type": "code",
   "execution_count": 25,
   "metadata": {},
   "outputs": [
    {
     "name": "stdout",
     "output_type": "stream",
     "text": [
      "Macro F1: 0.9591\n",
      "Macro Precision: 0.9563\n",
      "Macro Recall: 0.9629\n",
      "Accuracy: 0.9636\n"
     ]
    }
   ],
   "source": [
    "from sklearn.metrics import f1_score\n",
    "from sklearn.metrics import recall_score\n",
    "from sklearn.metrics import precision_score\n",
    "from sklearn.metrics import accuracy_score\n",
    "\n",
    "yTest = yTest.astype(int)\n",
    "\n",
    "print( \"Macro F1:\", np.round( f1_score(yTest, preds, average='macro'), 4 ))\n",
    "print( \"Macro Precision:\", np.round( precision_score(yTest, preds, average='macro'), 4 ))\n",
    "print( \"Macro Recall:\", np.round( recall_score(yTest, preds, average='macro'), 4 ))\n",
    "print( \"Accuracy:\", np.round( accuracy_score(yTest, preds), 4 ))"
   ]
  },
  {
   "cell_type": "markdown",
   "metadata": {},
   "source": [
    "### Load saved model"
   ]
  },
  {
   "cell_type": "code",
   "execution_count": 10,
   "metadata": {},
   "outputs": [],
   "source": [
    "from keras import backend as K \n",
    "\n",
    "# Keras keeps models hanging around in memory. If we retrain a model, Keras will\n",
    "# start from the previously concluded weight values. This resets everything.\n",
    "K.clear_session()\n",
    "\n",
    "bnn = create_probablistic_bnn_model( xTest.shape[0], xTest.shape[1] )\n",
    " \n",
    "# load weights into new model\n",
    "bnn.load_weights(\"./model_weights_8PNN_icme.h5\")"
   ]
  },
  {
   "cell_type": "code",
   "execution_count": 11,
   "metadata": {},
   "outputs": [],
   "source": [
    "from scipy.stats import entropy\n",
    "\n",
    "preds = []\n",
    "p = bnn( xTest )\n",
    "en = bnn( xTest ).entropy()\n",
    "\n",
    "for i in range( p.shape[0] ):\n",
    "    preds.append( np.argmax(p[i,:]) )"
   ]
  }
 ],
 "metadata": {
  "kernelspec": {
   "display_name": "Python 3 (ipykernel)",
   "language": "python",
   "name": "python3"
  },
  "language_info": {
   "codemirror_mode": {
    "name": "ipython",
    "version": 3
   },
   "file_extension": ".py",
   "mimetype": "text/x-python",
   "name": "python",
   "nbconvert_exporter": "python",
   "pygments_lexer": "ipython3",
   "version": "3.9.13"
  }
 },
 "nbformat": 4,
 "nbformat_minor": 2
}
