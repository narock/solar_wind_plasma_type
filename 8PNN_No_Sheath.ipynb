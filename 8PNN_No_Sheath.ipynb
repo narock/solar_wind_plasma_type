{
 "cells": [
  {
   "cell_type": "code",
   "execution_count": 1,
   "metadata": {},
   "outputs": [
    {
     "name": "stderr",
     "output_type": "stream",
     "text": [
      "2024-07-07 09:18:10.628616: I tensorflow/core/platform/cpu_feature_guard.cc:182] This TensorFlow binary is optimized to use available CPU instructions in performance-critical operations.\n",
      "To enable the following instructions: AVX2 AVX512F FMA, in other operations, rebuild TensorFlow with the appropriate compiler flags.\n",
      "2024-07-07 09:18:13.737640: W tensorflow/compiler/tf2tensorrt/utils/py_utils.cc:38] TF-TRT Warning: Could not find TensorRT\n"
     ]
    }
   ],
   "source": [
    "import os\n",
    "import pywt\n",
    "import glob\n",
    "import random\n",
    "import datetime\n",
    "import numpy as np\n",
    "import pandas as pd\n",
    "import matplotlib.pyplot as plt\n",
    "\n",
    "import tensorflow as tf\n",
    "from tensorflow import keras\n",
    "from tensorflow.keras import layers\n",
    "import tensorflow_probability as tfp\n",
    "from tensorflow.keras.models import Sequential\n",
    "from tensorflow.keras.layers import Dense\n",
    "from tensorflow.keras.optimizers import Adam"
   ]
  },
  {
   "cell_type": "markdown",
   "metadata": {},
   "source": [
    "### Load data and preprocess"
   ]
  },
  {
   "cell_type": "code",
   "execution_count": 2,
   "metadata": {},
   "outputs": [],
   "source": [
    "xTrain = np.load(\"./xTrain.npy\")\n",
    "yTrain = np.load(\"./yTrain.npy\", allow_pickle=True)\n",
    "\n",
    "xTest = np.load(\"./xTest.npy\")\n",
    "yTest = np.load(\"./yTest.npy\", allow_pickle=True)"
   ]
  },
  {
   "cell_type": "code",
   "execution_count": 3,
   "metadata": {},
   "outputs": [],
   "source": [
    "# remove sheath\n",
    "ixTrain = np.where(yTrain != 4)\n",
    "ixTest = np.where(yTest != 4)\n",
    "\n",
    "xTrain = xTrain[ixTrain,:]\n",
    "xTest = xTest[ixTest,:]\n",
    "\n",
    "yTrain = yTrain[ixTrain]\n",
    "yTest = yTest[ixTest]\n",
    "\n",
    "xTrain = xTrain[0,:,:]\n",
    "xTest = xTest[0,:,:]"
   ]
  },
  {
   "cell_type": "code",
   "execution_count": 4,
   "metadata": {},
   "outputs": [],
   "source": [
    "# Columns are:\n",
    "#\n",
    "# 0 = 'Beta_p'\n",
    "# 1 = 'Va'\n",
    "# 2 = 'Tratio'\n",
    "# 3 = 'entropy'\n",
    "# 4 = 'crossHelicity'\n",
    "# 5 = 'residualEnergy'\n",
    "# 6 = 'TotalPressure'\n",
    "# 7 = 'bFluctuations'"
   ]
  },
  {
   "cell_type": "code",
   "execution_count": 4,
   "metadata": {},
   "outputs": [
    {
     "data": {
      "text/plain": [
       "4"
      ]
     },
     "execution_count": 4,
     "metadata": {},
     "output_type": "execute_result"
    }
   ],
   "source": [
    "nClasses = len( np. unique( yTrain ) )\n",
    "nClasses"
   ]
  },
  {
   "cell_type": "code",
   "execution_count": 5,
   "metadata": {},
   "outputs": [
    {
     "name": "stderr",
     "output_type": "stream",
     "text": [
      "2024-07-07 09:18:33.031793: I tensorflow/core/common_runtime/gpu/gpu_device.cc:1635] Created device /job:localhost/replica:0/task:0/device:GPU:0 with 5337 MB memory:  -> device: 0, name: NVIDIA GeForce GTX TITAN Black, pci bus id: 0000:65:00.0, compute capability: 3.5\n"
     ]
    }
   ],
   "source": [
    "y = tf.one_hot(yTrain,nClasses)"
   ]
  },
  {
   "cell_type": "markdown",
   "metadata": {},
   "source": [
    "### Neural Network"
   ]
  },
  {
   "cell_type": "code",
   "execution_count": 23,
   "metadata": {},
   "outputs": [],
   "source": [
    "from keras import backend as K \n",
    "\n",
    "# Keras keeps models hanging around in memory. If we retrain a model, Keras will\n",
    "# start from the previously concluded weight values. This resets everything.\n",
    "K.clear_session()"
   ]
  },
  {
   "cell_type": "code",
   "execution_count": 6,
   "metadata": {},
   "outputs": [],
   "source": [
    "def create_probablistic_bnn_model(rows,columns):\n",
    "    \n",
    "    inputs = tf.keras.layers.Input(shape=columns)\n",
    "    \n",
    "    hidden1 = tf.keras.layers.Dense(16, activation='relu')(inputs)    \n",
    "    hidden2 = tf.keras.layers.Dense(8, activation='relu')(hidden1)\n",
    "    \n",
    "    distribution_params = layers.Dense(nClasses)(hidden2)\n",
    "    outputs = tfp.layers.OneHotCategorical(1)(distribution_params)\n",
    "\n",
    "    model = keras.Model(inputs=inputs, outputs=outputs)\n",
    "    \n",
    "    return model"
   ]
  },
  {
   "cell_type": "code",
   "execution_count": 7,
   "metadata": {},
   "outputs": [],
   "source": [
    "def negative_loglikelihood(targets, estimated_distribution):\n",
    "    return -estimated_distribution.log_prob(targets)"
   ]
  },
  {
   "cell_type": "code",
   "execution_count": 10,
   "metadata": {},
   "outputs": [
    {
     "name": "stdout",
     "output_type": "stream",
     "text": [
      "Model: \"model\"\n",
      "_________________________________________________________________\n",
      " Layer (type)                Output Shape              Param #   \n",
      "=================================================================\n",
      " input_1 (InputLayer)        [(None, 7)]               0         \n",
      "                                                                 \n",
      " dense (Dense)               (None, 16)                128       \n",
      "                                                                 \n",
      " dense_1 (Dense)             (None, 8)                 136       \n",
      "                                                                 \n",
      " dense_2 (Dense)             (None, 4)                 36        \n",
      "                                                                 \n",
      " one_hot_categorical (OneHot  ((None, 4),              0         \n",
      " Categorical)                 (None, 4))                         \n",
      "                                                                 \n",
      "=================================================================\n",
      "Total params: 300\n",
      "Trainable params: 300\n",
      "Non-trainable params: 0\n",
      "_________________________________________________________________\n"
     ]
    }
   ],
   "source": [
    "bnn = create_probablistic_bnn_model(xTrain.shape[0],xTrain.shape[1])\n",
    "bnn.summary()"
   ]
  },
  {
   "cell_type": "code",
   "execution_count": 12,
   "metadata": {},
   "outputs": [],
   "source": [
    "bnn.compile( loss=negative_loglikelihood, metrics=['accuracy'] )"
   ]
  },
  {
   "cell_type": "code",
   "execution_count": 13,
   "metadata": {
    "scrolled": true
   },
   "outputs": [
    {
     "name": "stdout",
     "output_type": "stream",
     "text": [
      "Epoch 1/200\n"
     ]
    },
    {
     "name": "stderr",
     "output_type": "stream",
     "text": [
      "2024-06-21 10:23:28.462780: I tensorflow/compiler/xla/service/service.cc:169] XLA service 0x752460023ef0 initialized for platform CUDA (this does not guarantee that XLA will be used). Devices:\n",
      "2024-06-21 10:23:28.462832: I tensorflow/compiler/xla/service/service.cc:177]   StreamExecutor device (0): NVIDIA GeForce GTX TITAN Black, Compute Capability 3.5\n",
      "2024-06-21 10:23:28.469237: I tensorflow/compiler/mlir/tensorflow/utils/dump_mlir_util.cc:269] disabling MLIR crash reproducer, set env var `MLIR_CRASH_REPRODUCER_DIRECTORY` to enable.\n",
      "2024-06-21 10:23:30.474754: I tensorflow/compiler/xla/stream_executor/cuda/cuda_dnn.cc:424] Loaded cuDNN version 8600\n",
      "2024-06-21 10:23:31.061958: I tensorflow/tsl/platform/default/subprocess.cc:304] Start cannot spawn child process: No such file or directory\n",
      "2024-06-21 10:23:31.372794: I ./tensorflow/compiler/jit/device_compiler.h:180] Compiled cluster using XLA!  This line is logged at most once for the lifetime of the process.\n"
     ]
    },
    {
     "name": "stdout",
     "output_type": "stream",
     "text": [
      "980/980 [==============================] - 61s 51ms/step - loss: 1.2630 - accuracy: 0.3010 - val_loss: 1.1648 - val_accuracy: 0.3406\n",
      "Epoch 2/200\n",
      "980/980 [==============================] - 49s 50ms/step - loss: 0.9961 - accuracy: 0.4149 - val_loss: 0.8322 - val_accuracy: 0.4838\n",
      "Epoch 3/200\n",
      "980/980 [==============================] - 51s 52ms/step - loss: 0.7257 - accuracy: 0.5517 - val_loss: 0.6433 - val_accuracy: 0.5994\n",
      "Epoch 4/200\n",
      "980/980 [==============================] - 49s 50ms/step - loss: 0.5917 - accuracy: 0.6307 - val_loss: 0.5442 - val_accuracy: 0.6659\n",
      "Epoch 5/200\n",
      "980/980 [==============================] - 49s 50ms/step - loss: 0.5169 - accuracy: 0.6803 - val_loss: 0.4974 - val_accuracy: 0.7055\n",
      "Epoch 6/200\n",
      "980/980 [==============================] - 49s 50ms/step - loss: 0.4726 - accuracy: 0.7105 - val_loss: 0.4581 - val_accuracy: 0.7221\n",
      "Epoch 7/200\n",
      "980/980 [==============================] - 48s 49ms/step - loss: 0.4436 - accuracy: 0.7346 - val_loss: 0.4421 - val_accuracy: 0.7460\n",
      "Epoch 8/200\n",
      "980/980 [==============================] - 48s 49ms/step - loss: 0.4238 - accuracy: 0.7470 - val_loss: 0.4184 - val_accuracy: 0.7563\n",
      "Epoch 9/200\n",
      "980/980 [==============================] - 49s 50ms/step - loss: 0.4080 - accuracy: 0.7622 - val_loss: 0.4156 - val_accuracy: 0.7510\n",
      "Epoch 10/200\n",
      "980/980 [==============================] - 49s 50ms/step - loss: 0.3960 - accuracy: 0.7653 - val_loss: 0.3898 - val_accuracy: 0.7721\n",
      "Epoch 11/200\n",
      "980/980 [==============================] - 49s 50ms/step - loss: 0.3854 - accuracy: 0.7740 - val_loss: 0.3804 - val_accuracy: 0.7752\n",
      "Epoch 12/200\n",
      "980/980 [==============================] - 49s 50ms/step - loss: 0.3751 - accuracy: 0.7815 - val_loss: 0.3725 - val_accuracy: 0.7826\n",
      "Epoch 13/200\n",
      "980/980 [==============================] - 49s 50ms/step - loss: 0.3642 - accuracy: 0.7885 - val_loss: 0.3570 - val_accuracy: 0.7960\n",
      "Epoch 14/200\n",
      "980/980 [==============================] - 49s 50ms/step - loss: 0.3550 - accuracy: 0.7941 - val_loss: 0.3492 - val_accuracy: 0.8037\n",
      "Epoch 15/200\n",
      "980/980 [==============================] - 48s 49ms/step - loss: 0.3468 - accuracy: 0.7971 - val_loss: 0.3451 - val_accuracy: 0.8018\n",
      "Epoch 16/200\n",
      "980/980 [==============================] - 49s 50ms/step - loss: 0.3395 - accuracy: 0.8016 - val_loss: 0.3375 - val_accuracy: 0.8032\n",
      "Epoch 17/200\n",
      "980/980 [==============================] - 49s 50ms/step - loss: 0.3339 - accuracy: 0.8113 - val_loss: 0.3404 - val_accuracy: 0.8067\n",
      "Epoch 18/200\n",
      "980/980 [==============================] - 48s 49ms/step - loss: 0.3282 - accuracy: 0.8107 - val_loss: 0.3349 - val_accuracy: 0.8060\n",
      "Epoch 19/200\n",
      "980/980 [==============================] - 49s 50ms/step - loss: 0.3237 - accuracy: 0.8169 - val_loss: 0.3280 - val_accuracy: 0.8162\n",
      "Epoch 20/200\n",
      "980/980 [==============================] - 48s 49ms/step - loss: 0.3190 - accuracy: 0.8180 - val_loss: 0.3145 - val_accuracy: 0.8235\n",
      "Epoch 21/200\n",
      "980/980 [==============================] - 50s 50ms/step - loss: 0.3144 - accuracy: 0.8227 - val_loss: 0.3115 - val_accuracy: 0.8252\n",
      "Epoch 22/200\n",
      "980/980 [==============================] - 49s 50ms/step - loss: 0.3120 - accuracy: 0.8198 - val_loss: 0.3206 - val_accuracy: 0.8118\n",
      "Epoch 23/200\n",
      "980/980 [==============================] - 49s 50ms/step - loss: 0.3082 - accuracy: 0.8235 - val_loss: 0.3191 - val_accuracy: 0.8260\n",
      "Epoch 24/200\n",
      "980/980 [==============================] - 49s 50ms/step - loss: 0.3059 - accuracy: 0.8302 - val_loss: 0.3041 - val_accuracy: 0.8312\n",
      "Epoch 25/200\n",
      "980/980 [==============================] - 49s 50ms/step - loss: 0.3029 - accuracy: 0.8276 - val_loss: 0.3071 - val_accuracy: 0.8231\n",
      "Epoch 26/200\n",
      "980/980 [==============================] - 48s 49ms/step - loss: 0.2996 - accuracy: 0.8296 - val_loss: 0.3169 - val_accuracy: 0.8231\n",
      "Epoch 27/200\n",
      "980/980 [==============================] - 49s 50ms/step - loss: 0.2973 - accuracy: 0.8308 - val_loss: 0.2951 - val_accuracy: 0.8309\n",
      "Epoch 28/200\n",
      "980/980 [==============================] - 49s 50ms/step - loss: 0.2958 - accuracy: 0.8333 - val_loss: 0.3029 - val_accuracy: 0.8328\n",
      "Epoch 29/200\n",
      "980/980 [==============================] - 49s 50ms/step - loss: 0.2936 - accuracy: 0.8341 - val_loss: 0.3049 - val_accuracy: 0.8420\n",
      "Epoch 30/200\n",
      "980/980 [==============================] - 49s 50ms/step - loss: 0.2911 - accuracy: 0.8358 - val_loss: 0.2907 - val_accuracy: 0.8342\n",
      "Epoch 31/200\n",
      "980/980 [==============================] - 49s 50ms/step - loss: 0.2886 - accuracy: 0.8373 - val_loss: 0.3044 - val_accuracy: 0.8370\n",
      "Epoch 32/200\n",
      "980/980 [==============================] - 48s 49ms/step - loss: 0.2876 - accuracy: 0.8390 - val_loss: 0.2833 - val_accuracy: 0.8379\n",
      "Epoch 33/200\n",
      "980/980 [==============================] - 49s 50ms/step - loss: 0.2858 - accuracy: 0.8383 - val_loss: 0.2807 - val_accuracy: 0.8407\n",
      "Epoch 34/200\n",
      "980/980 [==============================] - 49s 50ms/step - loss: 0.2839 - accuracy: 0.8403 - val_loss: 0.2856 - val_accuracy: 0.8461\n",
      "Epoch 35/200\n",
      "980/980 [==============================] - 49s 50ms/step - loss: 0.2822 - accuracy: 0.8437 - val_loss: 0.2792 - val_accuracy: 0.8453\n",
      "Epoch 36/200\n",
      "980/980 [==============================] - 49s 50ms/step - loss: 0.2810 - accuracy: 0.8424 - val_loss: 0.3291 - val_accuracy: 0.8256\n",
      "Epoch 37/200\n",
      "980/980 [==============================] - 48s 49ms/step - loss: 0.2793 - accuracy: 0.8431 - val_loss: 0.2880 - val_accuracy: 0.8394\n",
      "Epoch 38/200\n",
      "980/980 [==============================] - 49s 50ms/step - loss: 0.2780 - accuracy: 0.8453 - val_loss: 0.2878 - val_accuracy: 0.8443\n",
      "Epoch 39/200\n",
      "980/980 [==============================] - 49s 50ms/step - loss: 0.2766 - accuracy: 0.8446 - val_loss: 0.2805 - val_accuracy: 0.8431\n",
      "Epoch 40/200\n",
      "980/980 [==============================] - 49s 50ms/step - loss: 0.2758 - accuracy: 0.8431 - val_loss: 0.2745 - val_accuracy: 0.8441\n",
      "Epoch 41/200\n",
      "980/980 [==============================] - 49s 50ms/step - loss: 0.2740 - accuracy: 0.8458 - val_loss: 0.2965 - val_accuracy: 0.8375\n",
      "Epoch 42/200\n",
      "980/980 [==============================] - 48s 49ms/step - loss: 0.2730 - accuracy: 0.8452 - val_loss: 0.2771 - val_accuracy: 0.8494\n",
      "Epoch 43/200\n",
      "980/980 [==============================] - 50s 50ms/step - loss: 0.2715 - accuracy: 0.8469 - val_loss: 0.2698 - val_accuracy: 0.8489\n",
      "Epoch 44/200\n",
      "980/980 [==============================] - 49s 50ms/step - loss: 0.2704 - accuracy: 0.8482 - val_loss: 0.2708 - val_accuracy: 0.8448\n",
      "Epoch 45/200\n",
      "980/980 [==============================] - 46s 47ms/step - loss: 0.2695 - accuracy: 0.8482 - val_loss: 0.2888 - val_accuracy: 0.8436\n",
      "Epoch 46/200\n",
      "980/980 [==============================] - 49s 50ms/step - loss: 0.2682 - accuracy: 0.8501 - val_loss: 0.2655 - val_accuracy: 0.8489\n",
      "Epoch 47/200\n",
      "980/980 [==============================] - 49s 50ms/step - loss: 0.2663 - accuracy: 0.8477 - val_loss: 0.2705 - val_accuracy: 0.8508\n",
      "Epoch 48/200\n",
      "980/980 [==============================] - 50s 51ms/step - loss: 0.2665 - accuracy: 0.8524 - val_loss: 0.2641 - val_accuracy: 0.8524\n",
      "Epoch 49/200\n",
      "980/980 [==============================] - 48s 49ms/step - loss: 0.2648 - accuracy: 0.8503 - val_loss: 0.2699 - val_accuracy: 0.8521\n",
      "Epoch 50/200\n",
      "980/980 [==============================] - 49s 50ms/step - loss: 0.2639 - accuracy: 0.8509 - val_loss: 0.2933 - val_accuracy: 0.8395\n",
      "Epoch 51/200\n",
      "980/980 [==============================] - 49s 50ms/step - loss: 0.2627 - accuracy: 0.8546 - val_loss: 0.2676 - val_accuracy: 0.8544\n",
      "Epoch 52/200\n",
      "980/980 [==============================] - 49s 50ms/step - loss: 0.2617 - accuracy: 0.8535 - val_loss: 0.2618 - val_accuracy: 0.8619\n",
      "Epoch 53/200\n",
      "980/980 [==============================] - 49s 50ms/step - loss: 0.2607 - accuracy: 0.8553 - val_loss: 0.2675 - val_accuracy: 0.8518\n",
      "Epoch 54/200\n",
      "980/980 [==============================] - 49s 50ms/step - loss: 0.2598 - accuracy: 0.8565 - val_loss: 0.2631 - val_accuracy: 0.8528\n",
      "Epoch 55/200\n",
      "980/980 [==============================] - 48s 49ms/step - loss: 0.2596 - accuracy: 0.8549 - val_loss: 0.2617 - val_accuracy: 0.8598\n",
      "Epoch 56/200\n",
      "980/980 [==============================] - 49s 50ms/step - loss: 0.2578 - accuracy: 0.8554 - val_loss: 0.2656 - val_accuracy: 0.8609\n",
      "Epoch 57/200\n",
      "980/980 [==============================] - 49s 50ms/step - loss: 0.2571 - accuracy: 0.8551 - val_loss: 0.2568 - val_accuracy: 0.8564\n",
      "Epoch 58/200\n",
      "980/980 [==============================] - 49s 51ms/step - loss: 0.2561 - accuracy: 0.8551 - val_loss: 0.2722 - val_accuracy: 0.8567\n",
      "Epoch 59/200\n",
      "980/980 [==============================] - 49s 50ms/step - loss: 0.2559 - accuracy: 0.8601 - val_loss: 0.2601 - val_accuracy: 0.8517\n",
      "Epoch 60/200\n",
      "980/980 [==============================] - 49s 50ms/step - loss: 0.2554 - accuracy: 0.8590 - val_loss: 0.2622 - val_accuracy: 0.8522\n",
      "Epoch 61/200\n",
      "980/980 [==============================] - 49s 50ms/step - loss: 0.2539 - accuracy: 0.8605 - val_loss: 0.2586 - val_accuracy: 0.8605\n",
      "Epoch 62/200\n",
      "980/980 [==============================] - 49s 50ms/step - loss: 0.2545 - accuracy: 0.8588 - val_loss: 0.2590 - val_accuracy: 0.8532\n",
      "Epoch 63/200\n",
      "980/980 [==============================] - 49s 50ms/step - loss: 0.2531 - accuracy: 0.8574 - val_loss: 0.2854 - val_accuracy: 0.8498\n",
      "Epoch 64/200\n",
      "980/980 [==============================] - 49s 50ms/step - loss: 0.2523 - accuracy: 0.8599 - val_loss: 0.2722 - val_accuracy: 0.8609\n",
      "Epoch 65/200\n",
      "980/980 [==============================] - 49s 50ms/step - loss: 0.2519 - accuracy: 0.8601 - val_loss: 0.2567 - val_accuracy: 0.8633\n",
      "Epoch 66/200\n",
      "980/980 [==============================] - 49s 50ms/step - loss: 0.2515 - accuracy: 0.8621 - val_loss: 0.2578 - val_accuracy: 0.8615\n",
      "Epoch 67/200\n",
      "980/980 [==============================] - 48s 49ms/step - loss: 0.2513 - accuracy: 0.8582 - val_loss: 0.2613 - val_accuracy: 0.8653\n",
      "Epoch 68/200\n",
      "980/980 [==============================] - 49s 50ms/step - loss: 0.2499 - accuracy: 0.8582 - val_loss: 0.2633 - val_accuracy: 0.8656\n",
      "Epoch 69/200\n",
      "980/980 [==============================] - 49s 50ms/step - loss: 0.2501 - accuracy: 0.8625 - val_loss: 0.2526 - val_accuracy: 0.8536\n",
      "Epoch 70/200\n",
      "980/980 [==============================] - 49s 50ms/step - loss: 0.2484 - accuracy: 0.8624 - val_loss: 0.2598 - val_accuracy: 0.8597\n",
      "Epoch 71/200\n",
      "980/980 [==============================] - 49s 50ms/step - loss: 0.2488 - accuracy: 0.8584 - val_loss: 0.2492 - val_accuracy: 0.8595\n",
      "Epoch 72/200\n",
      "980/980 [==============================] - 49s 50ms/step - loss: 0.2480 - accuracy: 0.8628 - val_loss: 0.2507 - val_accuracy: 0.8569\n",
      "Epoch 73/200\n",
      "980/980 [==============================] - 49s 50ms/step - loss: 0.2472 - accuracy: 0.8622 - val_loss: 0.2525 - val_accuracy: 0.8546\n",
      "Epoch 74/200\n",
      "980/980 [==============================] - 48s 49ms/step - loss: 0.2472 - accuracy: 0.8614 - val_loss: 0.2749 - val_accuracy: 0.8522\n",
      "Epoch 75/200\n",
      "980/980 [==============================] - 48s 49ms/step - loss: 0.2464 - accuracy: 0.8643 - val_loss: 0.2692 - val_accuracy: 0.8626\n",
      "Epoch 76/200\n",
      "980/980 [==============================] - 49s 50ms/step - loss: 0.2459 - accuracy: 0.8651 - val_loss: 0.2466 - val_accuracy: 0.8614\n",
      "Epoch 77/200\n",
      "980/980 [==============================] - 49s 50ms/step - loss: 0.2443 - accuracy: 0.8656 - val_loss: 0.2462 - val_accuracy: 0.8712\n",
      "Epoch 78/200\n",
      "980/980 [==============================] - 49s 50ms/step - loss: 0.2447 - accuracy: 0.8648 - val_loss: 0.2498 - val_accuracy: 0.8532\n",
      "Epoch 79/200\n",
      "980/980 [==============================] - 48s 49ms/step - loss: 0.2442 - accuracy: 0.8667 - val_loss: 0.2552 - val_accuracy: 0.8651\n",
      "Epoch 80/200\n",
      "980/980 [==============================] - 49s 50ms/step - loss: 0.2434 - accuracy: 0.8684 - val_loss: 0.2454 - val_accuracy: 0.8683\n",
      "Epoch 81/200\n",
      "980/980 [==============================] - 49s 50ms/step - loss: 0.2430 - accuracy: 0.8702 - val_loss: 0.2760 - val_accuracy: 0.8552\n",
      "Epoch 82/200\n",
      "980/980 [==============================] - 49s 50ms/step - loss: 0.2429 - accuracy: 0.8664 - val_loss: 0.2421 - val_accuracy: 0.8634\n",
      "Epoch 83/200\n",
      "980/980 [==============================] - 48s 49ms/step - loss: 0.2418 - accuracy: 0.8690 - val_loss: 0.2463 - val_accuracy: 0.8672\n",
      "Epoch 84/200\n",
      "980/980 [==============================] - 49s 50ms/step - loss: 0.2416 - accuracy: 0.8649 - val_loss: 0.2452 - val_accuracy: 0.8678\n",
      "Epoch 85/200\n",
      "980/980 [==============================] - 49s 50ms/step - loss: 0.2411 - accuracy: 0.8640 - val_loss: 0.2377 - val_accuracy: 0.8670\n",
      "Epoch 86/200\n",
      "980/980 [==============================] - 49s 50ms/step - loss: 0.2398 - accuracy: 0.8660 - val_loss: 0.2629 - val_accuracy: 0.8625\n",
      "Epoch 87/200\n",
      "980/980 [==============================] - 49s 50ms/step - loss: 0.2399 - accuracy: 0.8660 - val_loss: 0.2431 - val_accuracy: 0.8655\n",
      "Epoch 88/200\n",
      "980/980 [==============================] - 49s 50ms/step - loss: 0.2396 - accuracy: 0.8694 - val_loss: 0.2409 - val_accuracy: 0.8604\n",
      "Epoch 89/200\n",
      "980/980 [==============================] - 49s 50ms/step - loss: 0.2384 - accuracy: 0.8657 - val_loss: 0.2372 - val_accuracy: 0.8662\n",
      "Epoch 90/200\n",
      "980/980 [==============================] - 49s 50ms/step - loss: 0.2388 - accuracy: 0.8682 - val_loss: 0.2424 - val_accuracy: 0.8735\n",
      "Epoch 91/200\n",
      "980/980 [==============================] - 49s 50ms/step - loss: 0.2366 - accuracy: 0.8677 - val_loss: 0.2479 - val_accuracy: 0.8680\n",
      "Epoch 92/200\n",
      "980/980 [==============================] - 49s 50ms/step - loss: 0.2365 - accuracy: 0.8694 - val_loss: 0.2432 - val_accuracy: 0.8813\n",
      "Epoch 93/200\n",
      "980/980 [==============================] - 48s 49ms/step - loss: 0.2357 - accuracy: 0.8697 - val_loss: 0.2396 - val_accuracy: 0.8692\n",
      "Epoch 94/200\n",
      "980/980 [==============================] - 49s 50ms/step - loss: 0.2365 - accuracy: 0.8688 - val_loss: 0.2382 - val_accuracy: 0.8681\n",
      "Epoch 95/200\n",
      "980/980 [==============================] - 49s 50ms/step - loss: 0.2357 - accuracy: 0.8664 - val_loss: 0.2374 - val_accuracy: 0.8746\n",
      "Epoch 96/200\n",
      "980/980 [==============================] - 49s 50ms/step - loss: 0.2346 - accuracy: 0.8726 - val_loss: 0.2415 - val_accuracy: 0.8711\n",
      "Epoch 97/200\n",
      "980/980 [==============================] - 49s 50ms/step - loss: 0.2349 - accuracy: 0.8707 - val_loss: 0.2422 - val_accuracy: 0.8648\n",
      "Epoch 98/200\n",
      "980/980 [==============================] - 49s 50ms/step - loss: 0.2342 - accuracy: 0.8711 - val_loss: 0.2387 - val_accuracy: 0.8738\n",
      "Epoch 99/200\n",
      "980/980 [==============================] - 48s 49ms/step - loss: 0.2335 - accuracy: 0.8694 - val_loss: 0.2446 - val_accuracy: 0.8690\n",
      "Epoch 100/200\n",
      "980/980 [==============================] - 49s 50ms/step - loss: 0.2335 - accuracy: 0.8699 - val_loss: 0.2432 - val_accuracy: 0.8660\n",
      "Epoch 101/200\n",
      "980/980 [==============================] - 49s 50ms/step - loss: 0.2332 - accuracy: 0.8726 - val_loss: 0.2368 - val_accuracy: 0.8601\n",
      "Epoch 102/200\n",
      "980/980 [==============================] - 49s 50ms/step - loss: 0.2328 - accuracy: 0.8723 - val_loss: 0.2388 - val_accuracy: 0.8789\n",
      "Epoch 103/200\n",
      "980/980 [==============================] - 49s 50ms/step - loss: 0.2321 - accuracy: 0.8715 - val_loss: 0.2480 - val_accuracy: 0.8736\n",
      "Epoch 104/200\n",
      "980/980 [==============================] - 49s 50ms/step - loss: 0.2326 - accuracy: 0.8738 - val_loss: 0.2318 - val_accuracy: 0.8656\n",
      "Epoch 105/200\n",
      "980/980 [==============================] - 49s 50ms/step - loss: 0.2317 - accuracy: 0.8706 - val_loss: 0.2384 - val_accuracy: 0.8798\n",
      "Epoch 106/200\n",
      "980/980 [==============================] - 49s 50ms/step - loss: 0.2311 - accuracy: 0.8716 - val_loss: 0.2367 - val_accuracy: 0.8647\n",
      "Epoch 107/200\n",
      "980/980 [==============================] - 49s 50ms/step - loss: 0.2314 - accuracy: 0.8750 - val_loss: 0.2506 - val_accuracy: 0.8666\n",
      "Epoch 108/200\n",
      "980/980 [==============================] - 48s 49ms/step - loss: 0.2308 - accuracy: 0.8739 - val_loss: 0.2280 - val_accuracy: 0.8734\n",
      "Epoch 109/200\n",
      "980/980 [==============================] - 49s 50ms/step - loss: 0.2304 - accuracy: 0.8734 - val_loss: 0.2345 - val_accuracy: 0.8692\n",
      "Epoch 110/200\n",
      "980/980 [==============================] - 49s 50ms/step - loss: 0.2299 - accuracy: 0.8748 - val_loss: 0.2319 - val_accuracy: 0.8758\n",
      "Epoch 111/200\n",
      "980/980 [==============================] - 48s 49ms/step - loss: 0.2304 - accuracy: 0.8761 - val_loss: 0.2287 - val_accuracy: 0.8730\n",
      "Epoch 112/200\n",
      "980/980 [==============================] - 48s 49ms/step - loss: 0.2281 - accuracy: 0.8739 - val_loss: 0.2295 - val_accuracy: 0.8822\n",
      "Epoch 113/200\n"
     ]
    },
    {
     "name": "stdout",
     "output_type": "stream",
     "text": [
      "980/980 [==============================] - 49s 50ms/step - loss: 0.2295 - accuracy: 0.8731 - val_loss: 0.2330 - val_accuracy: 0.8684\n",
      "Epoch 114/200\n",
      "980/980 [==============================] - 49s 50ms/step - loss: 0.2296 - accuracy: 0.8731 - val_loss: 0.2409 - val_accuracy: 0.8757\n",
      "Epoch 115/200\n",
      "980/980 [==============================] - 49s 50ms/step - loss: 0.2295 - accuracy: 0.8737 - val_loss: 0.2383 - val_accuracy: 0.8736\n",
      "Epoch 116/200\n",
      "980/980 [==============================] - 49s 50ms/step - loss: 0.2286 - accuracy: 0.8732 - val_loss: 0.2295 - val_accuracy: 0.8720\n",
      "Epoch 117/200\n",
      "980/980 [==============================] - 49s 50ms/step - loss: 0.2288 - accuracy: 0.8735 - val_loss: 0.2490 - val_accuracy: 0.8628\n",
      "Epoch 118/200\n",
      "980/980 [==============================] - 49s 50ms/step - loss: 0.2285 - accuracy: 0.8726 - val_loss: 0.2409 - val_accuracy: 0.8726\n",
      "Epoch 119/200\n",
      "980/980 [==============================] - 47s 48ms/step - loss: 0.2269 - accuracy: 0.8744 - val_loss: 0.2444 - val_accuracy: 0.8715\n",
      "Epoch 120/200\n",
      "980/980 [==============================] - 49s 50ms/step - loss: 0.2266 - accuracy: 0.8739 - val_loss: 0.2291 - val_accuracy: 0.8741\n",
      "Epoch 121/200\n",
      "980/980 [==============================] - 49s 50ms/step - loss: 0.2273 - accuracy: 0.8752 - val_loss: 0.2390 - val_accuracy: 0.8667\n",
      "Epoch 122/200\n",
      "980/980 [==============================] - 49s 50ms/step - loss: 0.2274 - accuracy: 0.8757 - val_loss: 0.2318 - val_accuracy: 0.8694\n",
      "Epoch 123/200\n",
      "980/980 [==============================] - 49s 50ms/step - loss: 0.2270 - accuracy: 0.8745 - val_loss: 0.2380 - val_accuracy: 0.8698\n",
      "Epoch 124/200\n",
      "980/980 [==============================] - 49s 50ms/step - loss: 0.2265 - accuracy: 0.8758 - val_loss: 0.2276 - val_accuracy: 0.8745\n",
      "Epoch 125/200\n",
      "980/980 [==============================] - 48s 49ms/step - loss: 0.2267 - accuracy: 0.8742 - val_loss: 0.2324 - val_accuracy: 0.8736\n",
      "Epoch 126/200\n",
      "980/980 [==============================] - 49s 50ms/step - loss: 0.2266 - accuracy: 0.8735 - val_loss: 0.2304 - val_accuracy: 0.8773\n",
      "Epoch 127/200\n",
      "980/980 [==============================] - 49s 50ms/step - loss: 0.2263 - accuracy: 0.8771 - val_loss: 0.2333 - val_accuracy: 0.8780\n",
      "Epoch 128/200\n",
      "980/980 [==============================] - 49s 50ms/step - loss: 0.2254 - accuracy: 0.8752 - val_loss: 0.2280 - val_accuracy: 0.8706\n",
      "Epoch 129/200\n",
      "980/980 [==============================] - 49s 50ms/step - loss: 0.2251 - accuracy: 0.8743 - val_loss: 0.2302 - val_accuracy: 0.8808\n",
      "Epoch 130/200\n",
      "980/980 [==============================] - 49s 50ms/step - loss: 0.2246 - accuracy: 0.8766 - val_loss: 0.2246 - val_accuracy: 0.8711\n",
      "Epoch 131/200\n",
      "980/980 [==============================] - 49s 50ms/step - loss: 0.2256 - accuracy: 0.8763 - val_loss: 0.2287 - val_accuracy: 0.8855\n",
      "Epoch 132/200\n",
      "980/980 [==============================] - 49s 50ms/step - loss: 0.2256 - accuracy: 0.8777 - val_loss: 0.2247 - val_accuracy: 0.8689\n",
      "Epoch 133/200\n",
      "980/980 [==============================] - 49s 50ms/step - loss: 0.2250 - accuracy: 0.8741 - val_loss: 0.2246 - val_accuracy: 0.8786\n",
      "Epoch 134/200\n",
      "980/980 [==============================] - 49s 50ms/step - loss: 0.2250 - accuracy: 0.8746 - val_loss: 0.2493 - val_accuracy: 0.8688\n",
      "Epoch 135/200\n",
      "980/980 [==============================] - 49s 50ms/step - loss: 0.2253 - accuracy: 0.8759 - val_loss: 0.2346 - val_accuracy: 0.8782\n",
      "Epoch 136/200\n",
      "980/980 [==============================] - 49s 50ms/step - loss: 0.2261 - accuracy: 0.8771 - val_loss: 0.2362 - val_accuracy: 0.8632\n",
      "Epoch 137/200\n",
      "980/980 [==============================] - 49s 50ms/step - loss: 0.2257 - accuracy: 0.8781 - val_loss: 0.2287 - val_accuracy: 0.8744\n",
      "Epoch 138/200\n",
      "980/980 [==============================] - 49s 50ms/step - loss: 0.2253 - accuracy: 0.8766 - val_loss: 0.2431 - val_accuracy: 0.8642\n",
      "Epoch 139/200\n",
      "980/980 [==============================] - 49s 50ms/step - loss: 0.2243 - accuracy: 0.8767 - val_loss: 0.2259 - val_accuracy: 0.8782\n",
      "Epoch 140/200\n",
      "980/980 [==============================] - 49s 50ms/step - loss: 0.2244 - accuracy: 0.8758 - val_loss: 0.2244 - val_accuracy: 0.8800\n",
      "Epoch 141/200\n",
      "980/980 [==============================] - 48s 49ms/step - loss: 0.2246 - accuracy: 0.8795 - val_loss: 0.2352 - val_accuracy: 0.8740\n",
      "Epoch 142/200\n",
      "980/980 [==============================] - 49s 49ms/step - loss: 0.2244 - accuracy: 0.8789 - val_loss: 0.2350 - val_accuracy: 0.8755\n",
      "Epoch 143/200\n",
      "980/980 [==============================] - 49s 50ms/step - loss: 0.2236 - accuracy: 0.8772 - val_loss: 0.2262 - val_accuracy: 0.8757\n",
      "Epoch 144/200\n",
      "980/980 [==============================] - 49s 50ms/step - loss: 0.2238 - accuracy: 0.8788 - val_loss: 0.2300 - val_accuracy: 0.8689\n",
      "Epoch 145/200\n",
      "980/980 [==============================] - 49s 50ms/step - loss: 0.2235 - accuracy: 0.8794 - val_loss: 0.2379 - val_accuracy: 0.8734\n",
      "Epoch 146/200\n",
      "980/980 [==============================] - 49s 50ms/step - loss: 0.2234 - accuracy: 0.8758 - val_loss: 0.2352 - val_accuracy: 0.8639\n",
      "Epoch 147/200\n",
      "980/980 [==============================] - 49s 50ms/step - loss: 0.2249 - accuracy: 0.8789 - val_loss: 0.2271 - val_accuracy: 0.8789\n",
      "Epoch 148/200\n",
      "980/980 [==============================] - 49s 50ms/step - loss: 0.2233 - accuracy: 0.8797 - val_loss: 0.2747 - val_accuracy: 0.8583\n",
      "Epoch 149/200\n",
      "980/980 [==============================] - 48s 49ms/step - loss: 0.2237 - accuracy: 0.8758 - val_loss: 0.2255 - val_accuracy: 0.8777\n",
      "Epoch 150/200\n",
      "980/980 [==============================] - 48s 49ms/step - loss: 0.2237 - accuracy: 0.8778 - val_loss: 0.2263 - val_accuracy: 0.8866\n",
      "Epoch 151/200\n",
      "980/980 [==============================] - 49s 50ms/step - loss: 0.2235 - accuracy: 0.8758 - val_loss: 0.2395 - val_accuracy: 0.8715\n",
      "Epoch 152/200\n",
      "980/980 [==============================] - 49s 50ms/step - loss: 0.2238 - accuracy: 0.8768 - val_loss: 0.2256 - val_accuracy: 0.8716\n",
      "Epoch 153/200\n",
      "980/980 [==============================] - 49s 50ms/step - loss: 0.2234 - accuracy: 0.8776 - val_loss: 0.2278 - val_accuracy: 0.8752\n",
      "Epoch 154/200\n",
      "980/980 [==============================] - 49s 50ms/step - loss: 0.2235 - accuracy: 0.8771 - val_loss: 0.2251 - val_accuracy: 0.8845\n",
      "Epoch 155/200\n",
      "980/980 [==============================] - 49s 50ms/step - loss: 0.2224 - accuracy: 0.8765 - val_loss: 0.2274 - val_accuracy: 0.8786\n",
      "Epoch 156/200\n",
      "980/980 [==============================] - 49s 50ms/step - loss: 0.2234 - accuracy: 0.8768 - val_loss: 0.2243 - val_accuracy: 0.8798\n",
      "Epoch 157/200\n",
      "980/980 [==============================] - 49s 50ms/step - loss: 0.2224 - accuracy: 0.8764 - val_loss: 0.2347 - val_accuracy: 0.8786\n",
      "Epoch 158/200\n",
      "980/980 [==============================] - 49s 50ms/step - loss: 0.2224 - accuracy: 0.8774 - val_loss: 0.2251 - val_accuracy: 0.8744\n",
      "Epoch 159/200\n",
      "980/980 [==============================] - 49s 50ms/step - loss: 0.2221 - accuracy: 0.8759 - val_loss: 0.2241 - val_accuracy: 0.8835\n",
      "Epoch 160/200\n",
      "980/980 [==============================] - 48s 49ms/step - loss: 0.2220 - accuracy: 0.8820 - val_loss: 0.2285 - val_accuracy: 0.8824\n",
      "Epoch 161/200\n",
      "980/980 [==============================] - 49s 50ms/step - loss: 0.2215 - accuracy: 0.8788 - val_loss: 0.2257 - val_accuracy: 0.8850\n",
      "Epoch 162/200\n",
      "980/980 [==============================] - 49s 50ms/step - loss: 0.2223 - accuracy: 0.8794 - val_loss: 0.2203 - val_accuracy: 0.8790\n",
      "Epoch 163/200\n",
      "980/980 [==============================] - 48s 49ms/step - loss: 0.2216 - accuracy: 0.8791 - val_loss: 0.2254 - val_accuracy: 0.8790\n",
      "Epoch 164/200\n",
      "980/980 [==============================] - 49s 50ms/step - loss: 0.2223 - accuracy: 0.8791 - val_loss: 0.2327 - val_accuracy: 0.8764\n",
      "Epoch 165/200\n",
      "980/980 [==============================] - 49s 50ms/step - loss: 0.2217 - accuracy: 0.8791 - val_loss: 0.2271 - val_accuracy: 0.8792\n",
      "Epoch 166/200\n",
      "980/980 [==============================] - 49s 50ms/step - loss: 0.2218 - accuracy: 0.8776 - val_loss: 0.2205 - val_accuracy: 0.8861\n",
      "Epoch 167/200\n",
      "980/980 [==============================] - 49s 50ms/step - loss: 0.2214 - accuracy: 0.8791 - val_loss: 0.2200 - val_accuracy: 0.8828\n",
      "Epoch 168/200\n",
      "980/980 [==============================] - 48s 49ms/step - loss: 0.2224 - accuracy: 0.8796 - val_loss: 0.2228 - val_accuracy: 0.8832\n"
     ]
    },
    {
     "name": "stdout",
     "output_type": "stream",
     "text": [
      "Epoch 169/200\n",
      "980/980 [==============================] - 50s 51ms/step - loss: 0.2220 - accuracy: 0.8776 - val_loss: 0.2458 - val_accuracy: 0.8744\n",
      "Epoch 170/200\n",
      "980/980 [==============================] - 49s 50ms/step - loss: 0.2206 - accuracy: 0.8785 - val_loss: 0.2213 - val_accuracy: 0.8681\n",
      "Epoch 171/200\n",
      "980/980 [==============================] - 49s 50ms/step - loss: 0.2207 - accuracy: 0.8818 - val_loss: 0.2283 - val_accuracy: 0.8805\n",
      "Epoch 172/200\n",
      "980/980 [==============================] - 48s 49ms/step - loss: 0.2212 - accuracy: 0.8786 - val_loss: 0.2232 - val_accuracy: 0.8778\n",
      "Epoch 173/200\n",
      "980/980 [==============================] - 49s 50ms/step - loss: 0.2206 - accuracy: 0.8810 - val_loss: 0.2590 - val_accuracy: 0.8647\n",
      "Epoch 174/200\n",
      "980/980 [==============================] - 49s 50ms/step - loss: 0.2209 - accuracy: 0.8816 - val_loss: 0.2331 - val_accuracy: 0.8780\n",
      "Epoch 175/200\n",
      "980/980 [==============================] - 48s 49ms/step - loss: 0.2209 - accuracy: 0.8759 - val_loss: 0.2299 - val_accuracy: 0.8780\n",
      "Epoch 176/200\n",
      "980/980 [==============================] - 49s 50ms/step - loss: 0.2205 - accuracy: 0.8801 - val_loss: 0.2411 - val_accuracy: 0.8694\n",
      "Epoch 177/200\n",
      "980/980 [==============================] - 49s 50ms/step - loss: 0.2197 - accuracy: 0.8768 - val_loss: 0.2180 - val_accuracy: 0.8806\n",
      "Epoch 178/200\n",
      "980/980 [==============================] - 49s 50ms/step - loss: 0.2205 - accuracy: 0.8811 - val_loss: 0.2241 - val_accuracy: 0.8835\n",
      "Epoch 179/200\n",
      "980/980 [==============================] - 49s 50ms/step - loss: 0.2197 - accuracy: 0.8787 - val_loss: 0.2288 - val_accuracy: 0.8800\n",
      "Epoch 180/200\n",
      "980/980 [==============================] - 49s 50ms/step - loss: 0.2196 - accuracy: 0.8781 - val_loss: 0.2215 - val_accuracy: 0.8852\n",
      "Epoch 181/200\n",
      "980/980 [==============================] - 49s 50ms/step - loss: 0.2188 - accuracy: 0.8778 - val_loss: 0.2311 - val_accuracy: 0.8855\n",
      "Epoch 182/200\n",
      "980/980 [==============================] - 49s 50ms/step - loss: 0.2202 - accuracy: 0.8812 - val_loss: 0.2205 - val_accuracy: 0.8805\n",
      "Epoch 183/200\n",
      "980/980 [==============================] - 49s 50ms/step - loss: 0.2198 - accuracy: 0.8801 - val_loss: 0.2326 - val_accuracy: 0.8798\n",
      "Epoch 184/200\n",
      "980/980 [==============================] - 50s 51ms/step - loss: 0.2197 - accuracy: 0.8792 - val_loss: 0.2214 - val_accuracy: 0.8790\n",
      "Epoch 185/200\n",
      "980/980 [==============================] - 48s 49ms/step - loss: 0.2178 - accuracy: 0.8805 - val_loss: 0.2235 - val_accuracy: 0.8812\n",
      "Epoch 186/200\n",
      "980/980 [==============================] - 50s 51ms/step - loss: 0.2196 - accuracy: 0.8806 - val_loss: 0.2421 - val_accuracy: 0.8669\n",
      "Epoch 187/200\n",
      "980/980 [==============================] - 48s 49ms/step - loss: 0.2194 - accuracy: 0.8806 - val_loss: 0.2241 - val_accuracy: 0.8863\n",
      "Epoch 188/200\n",
      "980/980 [==============================] - 49s 50ms/step - loss: 0.2199 - accuracy: 0.8785 - val_loss: 0.2275 - val_accuracy: 0.8787\n",
      "Epoch 189/200\n",
      "980/980 [==============================] - 48s 49ms/step - loss: 0.2193 - accuracy: 0.8804 - val_loss: 0.2252 - val_accuracy: 0.8695\n",
      "Epoch 190/200\n",
      "980/980 [==============================] - 49s 50ms/step - loss: 0.2189 - accuracy: 0.8811 - val_loss: 0.2334 - val_accuracy: 0.8866\n",
      "Epoch 191/200\n",
      "980/980 [==============================] - 50s 51ms/step - loss: 0.2198 - accuracy: 0.8791 - val_loss: 0.2304 - val_accuracy: 0.8856\n",
      "Epoch 192/200\n",
      "980/980 [==============================] - 49s 50ms/step - loss: 0.2189 - accuracy: 0.8806 - val_loss: 0.2290 - val_accuracy: 0.8752\n",
      "Epoch 193/200\n",
      "980/980 [==============================] - 49s 50ms/step - loss: 0.2188 - accuracy: 0.8805 - val_loss: 0.2266 - val_accuracy: 0.8901\n",
      "Epoch 194/200\n",
      "980/980 [==============================] - 49s 50ms/step - loss: 0.2184 - accuracy: 0.8812 - val_loss: 0.2302 - val_accuracy: 0.8902\n",
      "Epoch 195/200\n",
      "980/980 [==============================] - 48s 49ms/step - loss: 0.2195 - accuracy: 0.8791 - val_loss: 0.2336 - val_accuracy: 0.8780\n",
      "Epoch 196/200\n",
      "980/980 [==============================] - 49s 50ms/step - loss: 0.2177 - accuracy: 0.8816 - val_loss: 0.2197 - val_accuracy: 0.8870\n",
      "Epoch 197/200\n",
      "980/980 [==============================] - 49s 50ms/step - loss: 0.2191 - accuracy: 0.8793 - val_loss: 0.2219 - val_accuracy: 0.8766\n",
      "Epoch 198/200\n",
      "980/980 [==============================] - 49s 50ms/step - loss: 0.2192 - accuracy: 0.8790 - val_loss: 0.2259 - val_accuracy: 0.8712\n",
      "Epoch 199/200\n",
      "980/980 [==============================] - 50s 51ms/step - loss: 0.2175 - accuracy: 0.8804 - val_loss: 0.2210 - val_accuracy: 0.8734\n",
      "Epoch 200/200\n",
      "980/980 [==============================] - 48s 49ms/step - loss: 0.2180 - accuracy: 0.8782 - val_loss: 0.2219 - val_accuracy: 0.8755\n"
     ]
    }
   ],
   "source": [
    "history = bnn.fit( xTrain, y, epochs=200, verbose=1, \n",
    "                  use_multiprocessing=True, validation_split=0.2)"
   ]
  },
  {
   "cell_type": "code",
   "execution_count": 14,
   "metadata": {},
   "outputs": [
    {
     "data": {
      "text/plain": [
       "<matplotlib.legend.Legend at 0x7524d63fd880>"
      ]
     },
     "execution_count": 14,
     "metadata": {},
     "output_type": "execute_result"
    },
    {
     "data": {
      "image/png": "[encoded data removed]",
      "text/plain": [
       "<Figure size 432x288 with 1 Axes>"
      ]
     },
     "metadata": {
      "needs_background": "light"
     },
     "output_type": "display_data"
    }
   ],
   "source": [
    "plt.plot( history.history['accuracy'], label=\"Accuracy\")\n",
    "plt.plot( history.history['val_accuracy'], label=\"val_acc\")\n",
    "plt.title('Model Accuracy')\n",
    "plt.ylabel('Accuracy')\n",
    "plt.xlabel('Epoch')\n",
    "plt.legend()"
   ]
  },
  {
   "cell_type": "code",
   "execution_count": 15,
   "metadata": {},
   "outputs": [
    {
     "data": {
      "text/plain": [
       "<matplotlib.legend.Legend at 0x7524d63e6fd0>"
      ]
     },
     "execution_count": 15,
     "metadata": {},
     "output_type": "execute_result"
    },
    {
     "data": {
      "image/png": "[encoded data removed]",
      "text/plain": [
       "<Figure size 432x288 with 1 Axes>"
      ]
     },
     "metadata": {
      "needs_background": "light"
     },
     "output_type": "display_data"
    }
   ],
   "source": [
    "plt.plot( history.history['loss'], label=\"loss\")\n",
    "plt.plot( history.history['val_loss'], label=\"val_loss\")\n",
    "plt.title('Model Loss')\n",
    "plt.ylabel('Loss')\n",
    "plt.xlabel('Epoch')\n",
    "plt.legend()"
   ]
  },
  {
   "cell_type": "code",
   "execution_count": 16,
   "metadata": {},
   "outputs": [],
   "source": [
    "# serialize weights to HDF5\n",
    "bnn.save_weights(\"./model_weights_8PNN_no_sheath.h5\")"
   ]
  },
  {
   "cell_type": "code",
   "execution_count": 17,
   "metadata": {},
   "outputs": [],
   "source": [
    "from scipy.stats import entropy\n",
    "\n",
    "preds = []\n",
    "p = bnn( xTest )\n",
    "en = bnn( xTest ).entropy()\n",
    "\n",
    "for i in range( p.shape[0] ):\n",
    "    preds.append( np.argmax(p[i,:]) )"
   ]
  },
  {
   "cell_type": "code",
   "execution_count": 19,
   "metadata": {},
   "outputs": [],
   "source": [
    "font = {'family' : 'normal',\n",
    "    'weight' : 'bold',\n",
    "    'size'   : 24}\n",
    "plt.rc('font', **font)"
   ]
  },
  {
   "cell_type": "code",
   "execution_count": 34,
   "metadata": {
    "scrolled": false
   },
   "outputs": [
    {
     "data": {
      "text/plain": [
       "<sklearn.metrics._plot.confusion_matrix.ConfusionMatrixDisplay at 0x75245dc2c970>"
      ]
     },
     "execution_count": 34,
     "metadata": {},
     "output_type": "execute_result"
    },
    {
     "data": {
      "image/png": "[encoded data removed]",
      "text/plain": [
       "<Figure size 864x864 with 2 Axes>"
      ]
     },
     "metadata": {
      "needs_background": "light"
     },
     "output_type": "display_data"
    }
   ],
   "source": [
    "from sklearn.metrics import confusion_matrix, ConfusionMatrixDisplay\n",
    "\n",
    "fig, ax = plt.subplots(figsize=(12, 12))\n",
    "\n",
    "cm = confusion_matrix( yTest.astype(int), preds, normalize='true' )\n",
    "disp = ConfusionMatrixDisplay( confusion_matrix=cm )\n",
    "disp.plot(ax=ax, cmap='gist_yarg')"
   ]
  },
  {
   "cell_type": "code",
   "execution_count": 35,
   "metadata": {},
   "outputs": [
    {
     "name": "stdout",
     "output_type": "stream",
     "text": [
      "Macro F1: 0.9559\n",
      "Macro Precision: 0.9567\n",
      "Macro Recall: 0.9567\n",
      "Accuracy: 0.9562\n"
     ]
    }
   ],
   "source": [
    "from sklearn.metrics import f1_score\n",
    "from sklearn.metrics import recall_score\n",
    "from sklearn.metrics import precision_score\n",
    "from sklearn.metrics import accuracy_score\n",
    "\n",
    "yTest = yTest.astype(int)\n",
    "\n",
    "print( \"Macro F1:\", np.round( f1_score(yTest, preds, average='macro'), 4 ))\n",
    "print( \"Macro Precision:\", np.round( precision_score(yTest, preds, average='macro'), 4 ))\n",
    "print( \"Macro Recall:\", np.round( recall_score(yTest, preds, average='macro'), 4 ))\n",
    "print( \"Accuracy:\", np.round( accuracy_score(yTest, preds), 4 ))"
   ]
  },
  {
   "cell_type": "markdown",
   "metadata": {},
   "source": [
    "### If model is already trained - Load the saved model for analysis"
   ]
  },
  {
   "cell_type": "code",
   "execution_count": 8,
   "metadata": {},
   "outputs": [],
   "source": [
    "from keras import backend as K \n",
    "\n",
    "# Keras keeps models hanging around in memory. If we retrain a model, Keras will\n",
    "# start from the previously concluded weight values. This resets everything.\n",
    "K.clear_session()\n",
    "\n",
    "bnn = create_probablistic_bnn_model( xTest.shape[0], xTest.shape[1] )\n",
    " \n",
    "# load weights into new model\n",
    "bnn.load_weights(\"./model_weights_8PNN_no_sheath.h5\")"
   ]
  },
  {
   "cell_type": "code",
   "execution_count": 9,
   "metadata": {},
   "outputs": [],
   "source": [
    "from scipy.stats import entropy\n",
    "\n",
    "p = bnn(xTest)\n",
    "en = bnn(xTest).entropy()\n",
    "preds = []\n",
    "\n",
    "for i in range( xTest.shape[0] ):\n",
    "    preds.append( np.argmax(p[i,:]) )"
   ]
  }
 ],
 "metadata": {
  "kernelspec": {
   "display_name": "Python 3 (ipykernel)",
   "language": "python",
   "name": "python3"
  },
  "language_info": {
   "codemirror_mode": {
    "name": "ipython",
    "version": 3
   },
   "file_extension": ".py",
   "mimetype": "text/x-python",
   "name": "python",
   "nbconvert_exporter": "python",
   "pygments_lexer": "ipython3",
   "version": "3.9.13"
  }
 },
 "nbformat": 4,
 "nbformat_minor": 2
}
